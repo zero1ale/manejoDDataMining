{
 "cells": [
  {
   "cell_type": "markdown",
   "metadata": {
    "colab_type": "text",
    "id": "X1xALvaQWBX_"
   },
   "source": [
    "# Práctica 0: configurar el entorno de trabajo¶\n",
    "\n"
   ]
  },
  {
   "cell_type": "markdown",
   "metadata": {
    "colab_type": "text",
    "id": "ciqUoT0yixVA"
   },
   "source": [
    "##### Cookbook [@data_mining_2020](https://nbviewer.jupyter.org/github/JacoboGGLeon/data_mining_2020/blob/master/README.ipynb)"
   ]
  },
  {
   "cell_type": "markdown",
   "metadata": {
    "colab_type": "text",
    "id": "oc1R0TifiqXB"
   },
   "source": [
    "## Resources"
   ]
  },
  {
   "cell_type": "markdown",
   "metadata": {
    "colab_type": "text",
    "id": "ZYWUvNR1yyLu"
   },
   "source": [
    "* [Vagrant](https://www.vagrantup.com/docs/index.html)\n",
    "\n",
    "* [Anaconda](https://www.anaconda.com/)\n",
    "\n",
    "* [How To Install Anaconda on Ubuntu 18.04 [Quickstart]](https://www.digitalocean.com/community/tutorials/how-to-install-anaconda-on-ubuntu-18-04-quickstart)\n",
    "* [What Is bashrc and Why Should You Edit It](https://www.maketecheasier.com/what-is-bashrc/)\n",
    "* [Managing environments](https://docs.conda.io/projects/conda/en/latest/user-guide/tasks/manage-environments.html)\n",
    "* [Jupyter with Vagrant](https://pythondata.com/jupyter-vagrant/)\n",
    "* [How to run `jupyter notebook` in the background ? No need to keep one terminal for it](https://stackoverflow.com/questions/47331050/how-to-run-jupyter-notebook-in-the-background-no-need-to-keep-one-terminal-f)\n",
    "* [Run notebook without requesting for stupid token #2254](https://github.com/jupyter/notebook/issues/2254)\n"
   ]
  },
  {
   "cell_type": "markdown",
   "metadata": {
    "colab_type": "text",
    "id": "GOljQUJIirjB"
   },
   "source": [
    "## Recipe "
   ]
  },
  {
   "cell_type": "markdown",
   "metadata": {
    "colab_type": "text",
    "id": "UfPNo8E8WNHm"
   },
   "source": [
    "Crear una carpeta ```vagrant-ubuntu```\n",
    "\n",
    "```mkdir vagrant-ubuntu``` "
   ]
  },
  {
   "cell_type": "markdown",
   "metadata": {
    "colab_type": "text",
    "id": "AuimAfnbWYWx"
   },
   "source": [
    "Situarse en la carpeta ```vagrant-ubuntu```\n",
    "\n",
    "```cd vagrant-ubuntu```"
   ]
  },
  {
   "cell_type": "markdown",
   "metadata": {
    "colab_type": "text",
    "id": "-UC2Q-B4VgvG"
   },
   "source": [
    "Crear una máquina virtual con Vagrant con la imagen [Ubuntu 18.04](https://app.vagrantup.com/bento/boxes/ubuntu-18.04) \n",
    "\n",
    "```vagrant init bento/ubuntu-18.04```"
   ]
  },
  {
   "cell_type": "markdown",
   "metadata": {
    "colab_type": "text",
    "id": "FYhUsuD1WiaO"
   },
   "source": [
    "**Para Windows**\n",
    "\n",
    "*En el caso de que el CMD no reconozca la aplicación ```vagrant```, ejecutar la ruta completa del ejecutable*\n",
    "\n",
    "*```C://Hashicorp/Vagrant/bin/vagrant.exe```*\n",
    "\n",
    "Entonces de manera equivalente a ejecutar ```vagrant init bento/ubuntu-18.04``` será de la siguiente manera\n",
    "\n",
    "*```C://Hashicorp/Vagrant/bin/vagrant.exe init bento/ubuntu-18.04```*"
   ]
  },
  {
   "cell_type": "markdown",
   "metadata": {
    "colab_type": "text",
    "id": "zE6l98TXXY4W"
   },
   "source": [
    "Editar el archivo de configuración de esa máquina virtual ```Vagrantfile``` y añadir las siguientes líneas:\n",
    "* Asignarle el nombre ```ubuntu-18``` a esa máquina virtual\n",
    "\n",
    "  ```config.vm.define \"ubuntu-18\"```\n",
    "* Abrir el puerto de salida ```8888``` con enmascaramiento ```8888```(```888x``` en el caso que esté ocupado)\n",
    "\n",
    "  ```config.vm.network \"forwarded_port\", guest: 8888, host: 8888 #jupyter```"
   ]
  },
  {
   "cell_type": "markdown",
   "metadata": {
    "colab_type": "text",
    "id": "7297w0uhMG-a"
   },
   "source": [
    "Checar el estatus de las máquinas virtuales\n",
    "\n",
    "```vagrant global-status```\n",
    "\n",
    "O de manera equivalente (en Windows) si la terminal no reconoce ```vagrant```\n",
    "\n",
    "```C://Hashicorp/Vagrant/bin/vagrant.exe global-status```"
   ]
  },
  {
   "cell_type": "markdown",
   "metadata": {
    "colab_type": "text",
    "id": "S8QrTCw5YcrR"
   },
   "source": [
    "*Iniciar la máquina virtual ```ubuntu-18``` siempre desde la carpeta ```vagrant-ubuntu``` porque ahí se encuentra el archivo ```Vagrantfile``` y entonces la configuración de esa máquina virtual* "
   ]
  },
  {
   "cell_type": "markdown",
   "metadata": {
    "colab_type": "text",
    "id": "PTGlL7ghZcU_"
   },
   "source": [
    "Cargar e inicializar la máquina virtual ```ubuntu-18```\n",
    "\n",
    "```vagrant up```\n",
    "\n",
    "O de manera equivalente (en Windows) si la terminal no reconoce ```vagrant```\n",
    "\n",
    "```C://Hashicorp/Vagrant/bin/vagrant.exe up```"
   ]
  },
  {
   "cell_type": "markdown",
   "metadata": {
    "colab_type": "text",
    "id": "SzZF_gx5avpV"
   },
   "source": [
    "Especial atención a esos estados \n",
    "\n",
    "![](https://docs.google.com/uc?export=download&id=1JWvdkHkvXi9XvXt73uAmpLUhug8D_Tjz)"
   ]
  },
  {
   "cell_type": "markdown",
   "metadata": {
    "colab_type": "text",
    "id": "t9MF9haKZxjy"
   },
   "source": [
    "Checar el estatus de las máquinas virtuales (x2)\n",
    "\n",
    "```vagrant global-status```\n",
    "\n",
    "O de manera equivalente (en Windows) si la terminal no reconoce ```vagrant```\n",
    "\n",
    "\n",
    "```C://Hashicorp/Vagrant/bin/vagrant.exe global-status```"
   ]
  },
  {
   "cell_type": "markdown",
   "metadata": {
    "colab_type": "text",
    "id": "Zg9K2JmHMOEY"
   },
   "source": [
    "Entrar a la máquina virtual\n",
    "\n",
    "```vagrant ssh```\n",
    "\n",
    "O de manera equivalente (en Windows) si la terminal no reconoce ```vagrant```\n",
    "\n",
    "```C://Hashicorp/Vagrant/bin/vagrant.exe ssh```"
   ]
  },
  {
   "cell_type": "markdown",
   "metadata": {
    "colab_type": "text",
    "id": "tJrLE635OMhC"
   },
   "source": [
    "**Dentro de la máquina virtual ```ubuntu-18```**\n",
    "\n",
    "Después de ejectuar ```vagrant ssh```, estaremos entrando a la máquina virtual como el  super-usuario ```vagrant@vagrant```\n",
    "\n",
    "![](https://docs.google.com/uc?export=download&id=1-K1zdBH7ZvAhekPhbgCj51cGlJf0_Y38)"
   ]
  },
  {
   "cell_type": "markdown",
   "metadata": {
    "colab_type": "text",
    "id": "LYrBEPppMVGv"
   },
   "source": [
    "Actualizar la máquina virtual\n",
    "\n",
    "```sudo apt-get update && sudo apt-get upgrade -y```"
   ]
  },
  {
   "cell_type": "markdown",
   "metadata": {
    "colab_type": "text",
    "id": "3SC3wxMsMd__"
   },
   "source": [
    "Entrar a la carpeta temporal ```tmp``` del sistema de archivos\n",
    "\n",
    "```cd /tmp```"
   ]
  },
  {
   "cell_type": "markdown",
   "metadata": {
    "colab_type": "text",
    "id": "ywNgVQRSMqR5"
   },
   "source": [
    "Descargar el script de instalación de Anaconda\n",
    "\n",
    "```curl -O https://repo.anaconda.com/archive/Anaconda3-2019.03-Linux-x86_64.sh```"
   ]
  },
  {
   "cell_type": "markdown",
   "metadata": {
    "colab_type": "text",
    "id": "dWBHNL32M7gk"
   },
   "source": [
    "Ejecutar el scipt de instalación de Anaconda\n",
    "\n",
    "```bash Anaconda3-2019.03-Linux-x86_64.sh```"
   ]
  },
  {
   "cell_type": "markdown",
   "metadata": {
    "colab_type": "text",
    "id": "pPYgqLOaNBvf"
   },
   "source": [
    "Activar la sesión y las variables de entorno\n",
    "\n",
    "```source ~/.bashrc```"
   ]
  },
  {
   "cell_type": "markdown",
   "metadata": {
    "colab_type": "text",
    "id": "Am4axmm9QvRS"
   },
   "source": [
    "Ejecutar ```conda```\n",
    "\n",
    "```conda```"
   ]
  },
  {
   "cell_type": "markdown",
   "metadata": {
    "colab_type": "text",
    "id": "x-k9GeT9Q6JG"
   },
   "source": [
    "Checar los entornos de ```conda```\n",
    "\n",
    "```conda env```\n",
    "\n",
    "```conda env list```"
   ]
  },
  {
   "cell_type": "markdown",
   "metadata": {
    "colab_type": "text",
    "id": "hl3dcYpnOCAo"
   },
   "source": [
    "Enlistar los paquetes instalados en Anaconda a través de ```conda```\n",
    "\n",
    "```conda list```"
   ]
  },
  {
   "cell_type": "markdown",
   "metadata": {
    "colab_type": "text",
    "id": "sIDv8YQUOOkE"
   },
   "source": [
    "Actualizar ```conda```\n",
    "\n",
    "```conda update -n base -c defaults conda```"
   ]
  },
  {
   "cell_type": "markdown",
   "metadata": {
    "colab_type": "text",
    "id": "LlISaZTZQJkn"
   },
   "source": [
    "**Opcional**\n",
    "* Crear el entorno ```env_01``` de Anaconda con Python 3\n",
    "\n",
    "  ```conda create --name env_01 python=3```\n",
    "\n",
    "* Enlistar los entornos de ```conda``` (x2)\n",
    "\n",
    "  ```conda env```\n",
    "\n",
    "  ```conda env list```\n",
    "\n",
    "* Activar el entorno ```env_01```\n",
    "\n",
    "  ```conda activate env_01```\n",
    "\n",
    "* Checar la estructura de ese entorno ```env_01```\n",
    "\n",
    "  ```conda info```\n",
    "* Enlistar los paquetes del entorno ```env_01```\n",
    "\n",
    "  ```conda list```\n",
    "\n",
    "* Regresar al entorno ```base```\n",
    "\n",
    "  ```conda activate base```"
   ]
  },
  {
   "cell_type": "markdown",
   "metadata": {
    "colab_type": "text",
    "id": "kIGWhtPZSR1R"
   },
   "source": [
    "Situarse en la carpeta ```home```\n",
    "\n",
    " ```cd /home/vagrant/```\n",
    "\n",
    " O subir un nivel \n",
    "\n",
    " ```cd .. ```\n",
    "\n",
    " ```cd home/vagrant```\n"
   ]
  },
  {
   "cell_type": "markdown",
   "metadata": {
    "colab_type": "text",
    "id": "qg6Q2gvGSjp2"
   },
   "source": [
    "Crear la carpeta ```practicas```\n",
    "\n",
    "```mkdir practicas```"
   ]
  },
  {
   "cell_type": "markdown",
   "metadata": {
    "colab_type": "text",
    "id": "qpIGv6iFSwUa"
   },
   "source": [
    "Situarse en la carpeta ```practicas```\n",
    "\n",
    "```cd practicas```"
   ]
  },
  {
   "cell_type": "markdown",
   "metadata": {
    "colab_type": "text",
    "id": "Y5qbx6Q-S1Rn"
   },
   "source": [
    "Ejecutar el servicio ```jupyter-lab```\n",
    "\n",
    "```jupyter-lab --ip=0.0.0.0```"
   ]
  },
  {
   "cell_type": "markdown",
   "metadata": {
    "colab_type": "text",
    "id": "dbV2BjZRUXkx"
   },
   "source": [
    "*En el caso que la terminal no reconozca el servicio ```jupyter-lab``` como se muestra a continuación:*\n",
    "\n",
    "*```-bash: jupyter-lab: command not found```*\n",
    "\n",
    "*Añadir Anacoda al archivo de configuración de variables de entorno ```PATH```*\n",
    "\n",
    "*```PATH=~/path/to/anaconda:$PATH```*"
   ]
  },
  {
   "cell_type": "markdown",
   "metadata": {
    "colab_type": "text",
    "id": "-qkqqGh6TFg4"
   },
   "source": [
    "Entrar a la aplicación ```jupyter-lab```\n",
    "\n",
    "```http://0.0.0.0:8888/lab```\n",
    "\n",
    "[http://0.0.0.0:8888/lab](http://0.0.0.0:8888/lab)"
   ]
  },
  {
   "cell_type": "markdown",
   "metadata": {
    "colab_type": "text",
    "id": "15rJNaAicYHn"
   },
   "source": [
    "Esperaríamos encontrar la siguiente aplicación\n",
    "\n",
    "![](https://docs.google.com/uc?export=download&id=1EF6_4M7-tScUwBqjweplJVVai_Xe6ElM)"
   ]
  },
  {
   "cell_type": "markdown",
   "metadata": {
    "colab_type": "text",
    "id": "ikU9F-JUgW8v"
   },
   "source": [
    "**Opcional**\n",
    "\n",
    "* Para mantener una sesión activa en el tiempo de la aplicación y servicio ```jupyter-lab``` ejecutar el siguiente comando\n",
    "\n",
    "  ```nohup jupyter-lab --ip=0.0.0.0 --NotebookApp.token='' --allow-root > error.log &```\n",
    "\n",
    "* Para detener el servicio ```jupyter-lab``` \n",
    "  1. checar el PID de la aplicación\n",
    "    \n",
    "    ```ps```\n",
    "    \n",
    "    la salida esperada será de este tipo\n",
    "\n",
    "    ```\n",
    "    PID TTY          TIME CMD\n",
    "    1989 pts/0    00:00:00 bash\n",
    "    2055 pts/0    00:00:07 jupyter-lab\n",
    "    2068 pts/0    00:00:00 ps \n",
    "    ```\n",
    "\n",
    "  2. matar el proceso\n",
    "\n",
    "    ```kill -9 PID```\n",
    "\n",
    "    la salida esperada será de este tipo\n",
    "\n",
    "    ```\n",
    "    [1]+  Killed                  nohup jupyter-lab --ip=0.0.0.0 --NotebookApp.token='' --allow-root > error.log  (wd: ~/.jupyter)\n",
    "\n",
    "    ```\n"
   ]
  }
 ],
 "metadata": {
  "colab": {
   "name": "Práctica 0.ipynb",
   "provenance": []
  },
  "kernelspec": {
   "display_name": "Python 3",
   "language": "python",
   "name": "python3"
  },
  "language_info": {
   "codemirror_mode": {
    "name": "ipython",
    "version": 3
   },
   "file_extension": ".py",
   "mimetype": "text/x-python",
   "name": "python",
   "nbconvert_exporter": "python",
   "pygments_lexer": "ipython3",
   "version": "3.7.5"
  }
 },
 "nbformat": 4,
 "nbformat_minor": 4
}
