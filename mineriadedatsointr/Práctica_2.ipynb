{
 "cells": [
  {
   "cell_type": "markdown",
   "metadata": {
    "colab_type": "text",
    "id": "X1xALvaQWBX_"
   },
   "source": [
    "# Práctica 2: \n",
    "\n"
   ]
  },
  {
   "cell_type": "markdown",
   "metadata": {
    "colab_type": "text",
    "id": "ciqUoT0yixVA"
   },
   "source": [
    "##### Cookbook [@data_mining_2020](https://nbviewer.jupyter.org/github/JacoboGGLeon/data_mining_2020/blob/master/README.ipynb)"
   ]
  },
  {
   "cell_type": "markdown",
   "metadata": {
    "colab_type": "text",
    "id": "oc1R0TifiqXB"
   },
   "source": [
    "## Resources"
   ]
  },
  {
   "cell_type": "markdown",
   "metadata": {
    "colab_type": "text",
    "id": "ZYWUvNR1yyLu"
   },
   "source": [
    "* [Missigno](https://github.com/ResidentMario/missingno)\n"
   ]
  },
  {
   "cell_type": "markdown",
   "metadata": {
    "colab_type": "text",
    "id": "cGL84hMJx7Lo"
   },
   "source": [
    "### **Prerequisitos** "
   ]
  },
  {
   "cell_type": "markdown",
   "metadata": {
    "colab_type": "text",
    "id": "Gej9rbJ4wzBI"
   },
   "source": [
    "Instalar [missigno](https://anaconda.org/conda-forge/missingno) a través de ```conda``` (o sea en la terminal)\n",
    "\n",
    "```conda install -c conda-forge missingno```"
   ]
  },
  {
   "cell_type": "markdown",
   "metadata": {
    "colab_type": "text",
    "id": "e-Mm-GyMeSUQ"
   },
   "source": [
    "Situarse en la carpeta ```/vagrant/``` pues ahí está la *carpeta compartida* entre la máquina vitual y nuestro sistema operativo. ¿Dónde dice? Pues cuando corremos la máquina virtual con ```vagrant up```, nos dice dónde está esa carpeta en ambos lados\n",
    "\n",
    "```\n",
    "==> ubuntu-18-01: Mounting shared folders...\n",
    "    ubuntu-18-01: /vagrant => /Users/jacoboleon/Documents/vagrant-ubuntu\n",
    "```\n",
    "\n",
    "Entonces el sitio de trabajo será esa carpeta ```/vagrant/```\n",
    "\n",
    "```cd /vagrant/```\n"
   ]
  },
  {
   "cell_type": "markdown",
   "metadata": {
    "colab_type": "text",
    "id": "r2ZEe3Jgx6h9"
   },
   "source": [
    "Descargar la tabla ```vivienda``` de la ENH\n",
    "\n",
    "* En terminal\n",
    "\n",
    "  *A través de ```wget```\n",
    "\n",
    "    ```wget https://www.inegi.org.mx/contenidos/programas/enh/2017/microdatos/vivienda_enh_2017_csv.zip```\n",
    "  * Instalar ```unzip```\n",
    "  \n",
    "    ```sudo apt-get install unzip```\n",
    "\n",
    "  * Checar la versión instalada\n",
    "\n",
    "    ```unzip -v```\n",
    "\n",
    "  * Descomprimir el ```.zip```\n",
    "\n",
    "    ```unzip vivienda_enh_2017_csv.zip```"
   ]
  },
  {
   "cell_type": "markdown",
   "metadata": {
    "colab_type": "text",
    "id": "421l4rtHkhQo"
   },
   "source": [
    "Inicializar un entorno de trabajo con Anacoda, puede ser de manera local en el propio sistema operativo, a través de ```anaconda-navigator``` o con una máquina virtual. Si se utiliza lo segundo, la máquina virtual, entonces se puede acceder de dos formas:\n",
    "\n",
    "* Checar la [Práctica 0: configurar el entorno de trabajo](https://nbviewer.jupyter.org/github/JacoboGGLeon/data_mining_2020/blob/master/Pr%C3%A1ctica_0.ipynb)\n",
    "\n",
    "* Ejecutar el servicio ```jupyter lab``` \n",
    "\n",
    "  ```jupyter-lab --ip=0.0.0.0 --NotebookApp.token=''```\n",
    "\n",
    "* Ejecutar el servicio y dejarlo activo\n",
    "\n",
    "  ```nohup jupyter-lab --ip=0.0.0.0 --NotebookApp.token='' --allow-root > error.log &```\n",
    "\n",
    "Si se utiliza ```anaconda-navigator``` simplemente click en el botón *launch* donde dice Jupyter Lab\n",
    "\n",
    "![](https://docs.google.com/uc?export=download&id=1Y6FbUz4hI03SFeu6RVeGmX83zrm1tD4_)"
   ]
  },
  {
   "cell_type": "markdown",
   "metadata": {
    "colab_type": "text",
    "id": "bt2xDXDPf5OQ"
   },
   "source": [
    "\n",
    "## Recipe "
   ]
  },
  {
   "cell_type": "markdown",
   "metadata": {},
   "source": [
    "### LOAD"
   ]
  },
  {
   "cell_type": "markdown",
   "metadata": {
    "colab_type": "text",
    "id": "4oDcuDDhxM7Z"
   },
   "source": [
    "Importar paquetes"
   ]
  },
  {
   "cell_type": "code",
   "execution_count": null,
   "metadata": {
    "colab": {},
    "colab_type": "code",
    "id": "nRC76vegwaW7"
   },
   "outputs": [],
   "source": [
    "import pandas as pd\n",
    "import missingno as msno\n",
    "import numpy as np\n",
    "%matplotlib inline"
   ]
  },
  {
   "cell_type": "markdown",
   "metadata": {
    "colab_type": "text",
    "id": "yz5V3y4ipwfr"
   },
   "source": [
    "Si aparece este error hay que instalar ```missigno``` \n",
    "\n",
    "```\n",
    "---------------------------------------------------------------------------\n",
    "ModuleNotFoundError                       Traceback (most recent call last)\n",
    "<ipython-input-1-3b696379d9e4> in <module>\n",
    "      1 import pandas as pd\n",
    "----> 2 import missingno as msno\n",
    "      3 import numpy as np\n",
    "      4 get_ipython().run_line_magic('matplotlib', 'inline')\n",
    "\n",
    "ModuleNotFoundError: No module named 'missingno'\n",
    "```"
   ]
  },
  {
   "cell_type": "markdown",
   "metadata": {
    "colab_type": "text",
    "id": "dz2f9ZKVrx8e"
   },
   "source": [
    "Definimos la ruta del archivo"
   ]
  },
  {
   "cell_type": "code",
   "execution_count": null,
   "metadata": {
    "colab": {},
    "colab_type": "code",
    "id": "jidxSEWhxYUj"
   },
   "outputs": [],
   "source": [
    "file = \"vivienda.csv\""
   ]
  },
  {
   "cell_type": "markdown",
   "metadata": {
    "colab_type": "text",
    "id": "R3R9ieA3r7Gz"
   },
   "source": [
    "Cargamos la tabla en un dataframe \n",
    "\n"
   ]
  },
  {
   "cell_type": "code",
   "execution_count": null,
   "metadata": {
    "colab": {},
    "colab_type": "code",
    "id": "I10VvwRHsUVh"
   },
   "outputs": [],
   "source": [
    "df = pd.read_csv(file)"
   ]
  },
  {
   "cell_type": "code",
   "execution_count": null,
   "metadata": {},
   "outputs": [],
   "source": [
    "df.head()"
   ]
  },
  {
   "cell_type": "markdown",
   "metadata": {
    "colab_type": "text",
    "id": "BbXkPTMCsc5H"
   },
   "source": [
    "Copiamos el dataframe para trabajar sobre él sin alterar el origen de los datos"
   ]
  },
  {
   "cell_type": "code",
   "execution_count": null,
   "metadata": {
    "colab": {},
    "colab_type": "code",
    "id": "7o9xoQkgsyJi"
   },
   "outputs": [],
   "source": [
    "df_copy = df.copy()"
   ]
  },
  {
   "cell_type": "markdown",
   "metadata": {
    "colab_type": "text",
    "id": "QGzz73Busy6C"
   },
   "source": [
    "Revisamos las dimensiones del problema, literalmente"
   ]
  },
  {
   "cell_type": "code",
   "execution_count": null,
   "metadata": {
    "colab": {},
    "colab_type": "code",
    "id": "HadjwrmMtB74"
   },
   "outputs": [],
   "source": [
    "df_copy.shape"
   ]
  },
  {
   "cell_type": "markdown",
   "metadata": {
    "colab_type": "text",
    "id": "Wy-HG_PotC9C"
   },
   "source": [
    "Revisamos el número de observaciones o filas"
   ]
  },
  {
   "cell_type": "code",
   "execution_count": null,
   "metadata": {
    "colab": {},
    "colab_type": "code",
    "id": "rWQFi1BBtQtG"
   },
   "outputs": [],
   "source": [
    "df_copy.shape[0]"
   ]
  },
  {
   "cell_type": "markdown",
   "metadata": {
    "colab_type": "text",
    "id": "9lH-xS2PtRsb"
   },
   "source": [
    "Revisamos el número de variables o características o atributos"
   ]
  },
  {
   "cell_type": "code",
   "execution_count": null,
   "metadata": {
    "colab": {},
    "colab_type": "code",
    "id": "oS5EmQFftYyV"
   },
   "outputs": [],
   "source": [
    "df_copy.shape[1]"
   ]
  },
  {
   "cell_type": "markdown",
   "metadata": {
    "colab_type": "text",
    "id": "U6o0iWpstZrt"
   },
   "source": [
    "Revisamos las variables"
   ]
  },
  {
   "cell_type": "code",
   "execution_count": null,
   "metadata": {
    "colab": {},
    "colab_type": "code",
    "id": "HQm71PYmuaa0"
   },
   "outputs": [],
   "source": [
    "df_copy.columns"
   ]
  },
  {
   "cell_type": "markdown",
   "metadata": {
    "colab_type": "text",
    "id": "gyFin4FsvLPE"
   },
   "source": [
    "Enlistamos las columnas"
   ]
  },
  {
   "cell_type": "code",
   "execution_count": null,
   "metadata": {
    "colab": {},
    "colab_type": "code",
    "id": "tfgodC65wsv_"
   },
   "outputs": [],
   "source": [
    "list(df_copy.columns)"
   ]
  },
  {
   "cell_type": "markdown",
   "metadata": {
    "colab_type": "text",
    "id": "2yB3Bfp-wtss"
   },
   "source": [
    "Seleccionamos una variable y reviamos sus valores"
   ]
  },
  {
   "cell_type": "code",
   "execution_count": null,
   "metadata": {
    "colab": {},
    "colab_type": "code",
    "id": "9H0rHVBew7nT"
   },
   "outputs": [],
   "source": [
    "df_copy['tel_fijo'].value_counts()"
   ]
  },
  {
   "cell_type": "markdown",
   "metadata": {
    "colab_type": "text",
    "id": "qKKBnVcKxbbH"
   },
   "source": [
    "Seleccionamos una variable y revisamos los valores únicos"
   ]
  },
  {
   "cell_type": "code",
   "execution_count": null,
   "metadata": {
    "colab": {},
    "colab_type": "code",
    "id": "c99sG6EAxoXD"
   },
   "outputs": [],
   "source": [
    "df_copy['tel_fijo'].unique()"
   ]
  },
  {
   "cell_type": "markdown",
   "metadata": {
    "colab_type": "text",
    "id": "4tf14f9WxrgE"
   },
   "source": [
    "Revisamos todas las columnas y checamos sus valores únicos "
   ]
  },
  {
   "cell_type": "code",
   "execution_count": null,
   "metadata": {
    "colab": {},
    "colab_type": "code",
    "id": "ADChNAiAxwRS"
   },
   "outputs": [],
   "source": [
    "l = []\n",
    "bandera = np.NAN\n",
    "for column in df_copy.columns:\n",
    "    if df_copy[column].dtype == np.int64:\n",
    "        bandera = 'entero'\n",
    "    elif df_copy[column].dtype == np.float64:\n",
    "        bandera = 'flotante'\n",
    "    else:\n",
    "        bandera = 'otro'\n",
    "        \n",
    "    try:\n",
    "        df_copy[column] =df_copy[column].astype('int64')\n",
    "    except:\n",
    "        l.append(column)\n",
    "        \n",
    "    print('COLUMNA: ', column)\n",
    "    print('TIPO: ', bandera)\n",
    "    print('NUNIQUE: ', df_copy[column].nunique())\n",
    "    print('UNIQUE: ', df_copy[column].unique())\n",
    "    print('VALUE COUNTS ', df_copy[column].value_counts())\n",
    "    print('\\n')"
   ]
  },
  {
   "cell_type": "markdown",
   "metadata": {
    "colab_type": "text",
    "id": "L99lbSMxy7rc"
   },
   "source": [
    "Graficamos los datos en bruto (*raw data*)"
   ]
  },
  {
   "cell_type": "code",
   "execution_count": null,
   "metadata": {
    "colab": {},
    "colab_type": "code",
    "id": "ZBYCR0TLzK0B"
   },
   "outputs": [],
   "source": [
    "msno.bar(df_copy)"
   ]
  },
  {
   "cell_type": "markdown",
   "metadata": {},
   "source": [
    "Revisamos la existencia de valores nulos"
   ]
  },
  {
   "cell_type": "code",
   "execution_count": null,
   "metadata": {},
   "outputs": [],
   "source": [
    "df_copy.isnull().any().any()"
   ]
  },
  {
   "cell_type": "markdown",
   "metadata": {},
   "source": [
    "Reemplazamos los valores ```&``` y ```' '``` por ```nan```"
   ]
  },
  {
   "cell_type": "code",
   "execution_count": null,
   "metadata": {},
   "outputs": [],
   "source": [
    "df_copy.replace(to_replace='&', value=np.nan, inplace=True)"
   ]
  },
  {
   "cell_type": "code",
   "execution_count": null,
   "metadata": {},
   "outputs": [],
   "source": [
    "df_copy.replace(to_replace=' ', value=np.nan, inplace=True)"
   ]
  },
  {
   "cell_type": "markdown",
   "metadata": {},
   "source": [
    "Revisamos (de nuevo) la existencia de valores nulos"
   ]
  },
  {
   "cell_type": "code",
   "execution_count": null,
   "metadata": {},
   "outputs": [],
   "source": [
    "df_copy.isnull().any().any()"
   ]
  },
  {
   "cell_type": "markdown",
   "metadata": {
    "colab_type": "text",
    "id": "L99lbSMxy7rc"
   },
   "source": [
    "Graficamos los datos con valores nulos reales"
   ]
  },
  {
   "cell_type": "code",
   "execution_count": null,
   "metadata": {
    "colab": {},
    "colab_type": "code",
    "id": "ZBYCR0TLzK0B"
   },
   "outputs": [],
   "source": [
    "msno.bar(df_copy)"
   ]
  },
  {
   "cell_type": "markdown",
   "metadata": {},
   "source": [
    "Guardamos el dataframe "
   ]
  },
  {
   "cell_type": "markdown",
   "metadata": {},
   "source": [
    "Definimos la ruta"
   ]
  },
  {
   "cell_type": "code",
   "execution_count": null,
   "metadata": {},
   "outputs": [],
   "source": [
    "file = 'vivienda_load.csv'"
   ]
  },
  {
   "cell_type": "code",
   "execution_count": null,
   "metadata": {},
   "outputs": [],
   "source": [
    "df_copy.to_csv(file)"
   ]
  },
  {
   "cell_type": "markdown",
   "metadata": {},
   "source": [
    "### Clean"
   ]
  },
  {
   "cell_type": "markdown",
   "metadata": {},
   "source": [
    "Reemplazamos el"
   ]
  },
  {
   "cell_type": "code",
   "execution_count": null,
   "metadata": {},
   "outputs": [],
   "source": [
    "df_copy.fillna(value=-1, inplace=True)"
   ]
  },
  {
   "cell_type": "code",
   "execution_count": null,
   "metadata": {},
   "outputs": [],
   "source": [
    "threshold = round(df_copy.shape[0]*.75)\n",
    "threshold"
   ]
  },
  {
   "cell_type": "code",
   "execution_count": null,
   "metadata": {},
   "outputs": [],
   "source": [
    "l = []\n",
    "for column in df_copy.columns:\n",
    "    na_column =  df_copy[column].value_counts().get(-1)\n",
    "    if(na_column != None):\n",
    "        print(column, ': ', df_copy.shape[0] - na_column, ' - ', threshold)\n",
    "        if (df_copy.shape[0] - na_column < threshold):\n",
    "            print(column, ': ', 'd e l e t e d')\n",
    "            l.append(column)"
   ]
  },
  {
   "cell_type": "code",
   "execution_count": null,
   "metadata": {},
   "outputs": [],
   "source": [
    "l"
   ]
  },
  {
   "cell_type": "code",
   "execution_count": null,
   "metadata": {},
   "outputs": [],
   "source": [
    "df_copy.drop(labels=l, axis=1, inplace=True)"
   ]
  },
  {
   "cell_type": "code",
   "execution_count": null,
   "metadata": {},
   "outputs": [],
   "source": [
    "df_copy.replace(to_replace=-1, value=np.NaN, inplace=True)"
   ]
  },
  {
   "cell_type": "code",
   "execution_count": null,
   "metadata": {},
   "outputs": [],
   "source": [
    "msno.bar(df_copy)"
   ]
  },
  {
   "cell_type": "markdown",
   "metadata": {},
   "source": [
    "Guardamos el dataframe "
   ]
  },
  {
   "cell_type": "markdown",
   "metadata": {},
   "source": [
    "Definimos la ruta"
   ]
  },
  {
   "cell_type": "code",
   "execution_count": null,
   "metadata": {},
   "outputs": [],
   "source": [
    "file = 'vivienda_clean.csv'"
   ]
  },
  {
   "cell_type": "code",
   "execution_count": null,
   "metadata": {},
   "outputs": [],
   "source": [
    "df_copy.to_csv(file)"
   ]
  },
  {
   "cell_type": "markdown",
   "metadata": {},
   "source": [
    "A estas alturas podemos también eliminar simplemente las observaciones que tienen valores nulos\n",
    "\n",
    "```df_copy.dropna(inplace=True)```"
   ]
  },
  {
   "cell_type": "code",
   "execution_count": null,
   "metadata": {},
   "outputs": [],
   "source": []
  }
 ],
 "metadata": {
  "colab": {
   "name": "Práctica 2.ipynb",
   "provenance": []
  },
  "kernelspec": {
   "display_name": "Python 3",
   "language": "python",
   "name": "python3"
  },
  "language_info": {
   "codemirror_mode": {
    "name": "ipython",
    "version": 3
   },
   "file_extension": ".py",
   "mimetype": "text/x-python",
   "name": "python",
   "nbconvert_exporter": "python",
   "pygments_lexer": "ipython3",
   "version": "3.7.3"
  }
 },
 "nbformat": 4,
 "nbformat_minor": 2
}
