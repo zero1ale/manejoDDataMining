{
 "cells": [
  {
   "cell_type": "markdown",
   "metadata": {},
   "source": [
    "# Práctica 6a: medidas de distancia para el análisis de clustering en R"
   ]
  },
  {
   "cell_type": "markdown",
   "metadata": {},
   "source": [
    "##### Cookbook [@data_mining_2020](https://nbviewer.jupyter.org/github/JacoboGGLeon/data_mining_2020/blob/master/README.ipynb)"
   ]
  },
  {
   "cell_type": "markdown",
   "metadata": {},
   "source": [
    "## Resources\n",
    "* [Chapter 2 Data Preparation and R Packages](https://drive.google.com/open?id=1aZ9PZ-ohlwQMgaz8uqFu0idOIXF85sRP)\n",
    "* [Chapter 3 Clustering Distance Measures](https://drive.google.com/open?id=1aZ9PZ-ohlwQMgaz8uqFu0idOIXF85sRP)\n"
   ]
  },
  {
   "cell_type": "markdown",
   "metadata": {},
   "source": [
    "## Recipe"
   ]
  },
  {
   "cell_type": "markdown",
   "metadata": {},
   "source": [
    "### Métodos para medir distancias"
   ]
  },
  {
   "cell_type": "markdown",
   "metadata": {},
   "source": [
    "La clasificación no supervisada de las observaciones en grupos, requiere algunos métodos para calcular la distancia o la (des)similitud entre cada par de observaciones. El resultado de este cálculo se conoce como **matriz de disimilitud o distancia**."
   ]
  },
  {
   "cell_type": "markdown",
   "metadata": {},
   "source": [
    "El cálculo de la distancia se define como la similitud ( $n$-espacial) entre dos elementos $(x,y)$, la forma de medir esta similitud e influirá drásticamente en la forma de los clústers."
   ]
  },
  {
   "cell_type": "markdown",
   "metadata": {},
   "source": [
    "Los métodos clásicos para la medición de distancias son las distancias Euclidana y de Manhattan, que se definen de la siguiente manera:\n",
    "\n",
    "$$d_{euc}(x,y)=\\sqrt{\\sum_{i=1}^{n}(x_i-y_i)^2}$$\n",
    "\n",
    "$$d_{man}(x,y)=\\sum_{i=1}^{n}{|(x_i-y_i)|}$$\n",
    "\n",
    "Donde $x$ y $y$ son dos vectores de longitud $n$"
   ]
  },
  {
   "cell_type": "markdown",
   "metadata": {},
   "source": [
    "Si se elige la distancia euclidiana, entonces las observaciones con altos valores de similitud de sus características se agruparán."
   ]
  },
  {
   "cell_type": "markdown",
   "metadata": {},
   "source": [
    "Otras medidas de similitud son las distancias basadas en la correlación, que se utilizan ampliamente para el análisis de datos en el área genética (dónde las características son en mayor número que las observaciones). La distancia basada en la correlación se define restando el coeficiente de correlación de la unidad 1. Se pueden utilizar diferentes tipos de métodos de correlación, como la *distancia de correlación de Pearson* o correlación paramétrica, ya que depende de la distribución de los datos $(\\bar{x})$:\n",
    "\n",
    "$$d_{cor}(x,y)=1-\\frac{\\sum_{i=1}^{n}{(x_i-\\bar{x})(y_i-\\bar{y})}}{{\\sum_{i=1}^{n}{(x_i-\\bar{x})^2}}{\\sum_{i=1}^{n}{(y_i-\\bar{y})^2}}}$$"
   ]
  },
  {
   "cell_type": "markdown",
   "metadata": {},
   "source": [
    "La distancia basada en la correlación considera que dos objetos son similares si sus características están altamente correlacionadas, aunque los valores observados puedan estar muy alejados en términos de distancia euclidiana. La distancia entre dos objetos es 0 cuando están perfectamente correlacionados. La correlación de Pearson es bastante sensible a los valores atípicos. Esto no importa cuando se agrupan las muestras, porque la correlación se da en miles de genes. Cuando se agrupan genes, es importante ser consciente del posible impacto de los valores atípicos. Esto puede ser mitigado usando la correlación de Spearman en lugar de la de Pearson."
   ]
  },
  {
   "cell_type": "markdown",
   "metadata": {},
   "source": [
    "Si queremos identificar grupos de observaciones con los mismos perfiles generales independientemente de sus magnitudes, entonces deberíamos utilizar la distancia basada en la correlación como medida de disimilitud. Esto es particularmente el caso en el análisis de datos de expresión génica, donde podríamos considerar que los genes son similares cuando están \"arriba\" $(1)$ y \"abajo\" $(-1)$ juntos. También es el caso en el **marketing** si queremos identificar grupos de compradores con la misma preferencia en cuanto a artículos, independientemente del volumen de los mismos."
   ]
  },
  {
   "cell_type": "markdown",
   "metadata": {},
   "source": [
    "### Cálculo de la matriz de distancia"
   ]
  },
  {
   "cell_type": "markdown",
   "metadata": {},
   "source": [
    "#### Preparación de los datos"
   ]
  },
  {
   "cell_type": "markdown",
   "metadata": {},
   "source": [
    "Para realizar un análisis de clustering en R, generalmente, los datos deben prepararse de la siguiente manera:\n",
    "1. Las filas son observaciones y las columnas son variables\n",
    "2. Cualquier valor que falte en los datos debe ser eliminado o estimado (rellenar o imputar).\n",
    "3. Los datos deben estar estandarizados (es decir, escalados) para que las variables sean comparables. "
   ]
  },
  {
   "cell_type": "markdown",
   "metadata": {},
   "source": [
    "Aquí, usaremos el conjunto de datos \"*USArrests*\", que contiene estadísticas de arrestos (por cada 100,000 residentes) por asalto, asesinato y violación en cada uno de los 50 estados de EE.UU. en el año 1973. También incluye el porcentaje de la población que vive en áreas urbanas."
   ]
  },
  {
   "cell_type": "code",
   "execution_count": 1,
   "metadata": {},
   "outputs": [],
   "source": [
    "data(\"USArrests\") # Load the data set\n",
    "df <- USArrests # Use df as shorter name"
   ]
  },
  {
   "cell_type": "markdown",
   "metadata": {},
   "source": [
    "Checar la estructura del conjunto de datos"
   ]
  },
  {
   "cell_type": "code",
   "execution_count": 2,
   "metadata": {},
   "outputs": [
    {
     "name": "stdout",
     "output_type": "stream",
     "text": [
      "'data.frame':\t50 obs. of  4 variables:\n",
      " $ Murder  : num  13.2 10 8.1 8.8 9 7.9 3.3 5.9 15.4 17.4 ...\n",
      " $ Assault : int  236 263 294 190 276 204 110 238 335 211 ...\n",
      " $ UrbanPop: int  58 48 80 50 91 78 77 72 80 60 ...\n",
      " $ Rape    : num  21.2 44.5 31 19.5 40.6 38.7 11.1 15.8 31.9 25.8 ...\n"
     ]
    }
   ],
   "source": [
    "str(df)"
   ]
  },
  {
   "cell_type": "markdown",
   "metadata": {},
   "source": [
    "Eliminar cualquier valor que falte y que pueda estar presente en los datos con `na.omit()`"
   ]
  },
  {
   "cell_type": "code",
   "execution_count": 3,
   "metadata": {},
   "outputs": [],
   "source": [
    "df <- na.omit(df)"
   ]
  },
  {
   "cell_type": "markdown",
   "metadata": {},
   "source": [
    "Escalar los datos usando la función `scale()`"
   ]
  },
  {
   "cell_type": "code",
   "execution_count": 4,
   "metadata": {},
   "outputs": [],
   "source": [
    "df <- scale(df)"
   ]
  },
  {
   "cell_type": "markdown",
   "metadata": {},
   "source": [
    "Damos un vistazo al dataframe "
   ]
  },
  {
   "cell_type": "code",
   "execution_count": 5,
   "metadata": {},
   "outputs": [
    {
     "data": {
      "text/html": [
       "<table>\n",
       "<caption>A matrix: 3 × 4 of type dbl</caption>\n",
       "<thead>\n",
       "\t<tr><th></th><th scope=col>Murder</th><th scope=col>Assault</th><th scope=col>UrbanPop</th><th scope=col>Rape</th></tr>\n",
       "</thead>\n",
       "<tbody>\n",
       "\t<tr><th scope=row>Alabama</th><td>1.24256408</td><td>0.7828393</td><td>-0.5209066</td><td>-0.003416473</td></tr>\n",
       "\t<tr><th scope=row>Alaska</th><td>0.50786248</td><td>1.1068225</td><td>-1.2117642</td><td> 2.484202941</td></tr>\n",
       "\t<tr><th scope=row>Arizona</th><td>0.07163341</td><td>1.4788032</td><td> 0.9989801</td><td> 1.042878388</td></tr>\n",
       "</tbody>\n",
       "</table>\n"
      ],
      "text/latex": [
       "A matrix: 3 × 4 of type dbl\n",
       "\\begin{tabular}{r|llll}\n",
       "  & Murder & Assault & UrbanPop & Rape\\\\\n",
       "\\hline\n",
       "\tAlabama & 1.24256408 & 0.7828393 & -0.5209066 & -0.003416473\\\\\n",
       "\tAlaska & 0.50786248 & 1.1068225 & -1.2117642 &  2.484202941\\\\\n",
       "\tArizona & 0.07163341 & 1.4788032 &  0.9989801 &  1.042878388\\\\\n",
       "\\end{tabular}\n"
      ],
      "text/markdown": [
       "\n",
       "A matrix: 3 × 4 of type dbl\n",
       "\n",
       "| <!--/--> | Murder | Assault | UrbanPop | Rape |\n",
       "|---|---|---|---|---|\n",
       "| Alabama | 1.24256408 | 0.7828393 | -0.5209066 | -0.003416473 |\n",
       "| Alaska | 0.50786248 | 1.1068225 | -1.2117642 |  2.484202941 |\n",
       "| Arizona | 0.07163341 | 1.4788032 |  0.9989801 |  1.042878388 |\n",
       "\n"
      ],
      "text/plain": [
       "        Murder     Assault   UrbanPop   Rape        \n",
       "Alabama 1.24256408 0.7828393 -0.5209066 -0.003416473\n",
       "Alaska  0.50786248 1.1068225 -1.2117642  2.484202941\n",
       "Arizona 0.07163341 1.4788032  0.9989801  1.042878388"
      ]
     },
     "metadata": {},
     "output_type": "display_data"
    }
   ],
   "source": [
    "head(df, n = 3)"
   ]
  },
  {
   "cell_type": "markdown",
   "metadata": {},
   "source": [
    "#### Subconjuntos aleatorio del conjunto de datos"
   ]
  },
  {
   "cell_type": "markdown",
   "metadata": {},
   "source": [
    "Usaremos sólo un subconjunto de los datos tomando 15 observaciones aleatorias entre las 50 observaciones totales del conjunto de datos. Esto se hace usando la función `sample(`. Después, estandarizamos los datos utilizando la función `scale()`"
   ]
  },
  {
   "cell_type": "code",
   "execution_count": 6,
   "metadata": {},
   "outputs": [],
   "source": [
    "set.seed(123) #proponemos una semilla para que sea reproducible el experimento\n",
    "ss <- sample(1:50, 15) #tomamos 15 observaciones \n",
    "df <- USArrests[ss, ]  #creamos el subcojunto\n",
    "df.scaled <- scale(df) #estandarizamos los valores de las caracterícticas"
   ]
  },
  {
   "cell_type": "markdown",
   "metadata": {},
   "source": [
    "### Calcular la distancia euclidiana"
   ]
  },
  {
   "cell_type": "markdown",
   "metadata": {},
   "source": [
    "Para calcular la distancia euclídeana se puede utilizar la función `dist()`"
   ]
  },
  {
   "cell_type": "code",
   "execution_count": 7,
   "metadata": {},
   "outputs": [],
   "source": [
    "# Otros métodos pueden ser: “euclidean”, “maximum”, “manhattan”, “canberra”, “binary”, “minkowski”.\n",
    "dist.eucl <- dist(df.scaled, method = \"euclidean\") "
   ]
  },
  {
   "cell_type": "markdown",
   "metadata": {},
   "source": [
    "Para facilitar la visualización de la información de estas distancias generadas, se puede reformatear el vector de distancia en una matriz utilizando la función `as.matrix()`"
   ]
  },
  {
   "cell_type": "code",
   "execution_count": 8,
   "metadata": {},
   "outputs": [
    {
     "data": {
      "text/html": [
       "<table>\n",
       "<caption>A matrix: 3 × 3 of type dbl</caption>\n",
       "<thead>\n",
       "\t<tr><th></th><th scope=col>New Mexico</th><th scope=col>Iowa</th><th scope=col>Indiana</th></tr>\n",
       "</thead>\n",
       "<tbody>\n",
       "\t<tr><th scope=row>New Mexico</th><td>0.0</td><td>4.1</td><td>2.5</td></tr>\n",
       "\t<tr><th scope=row>Iowa</th><td>4.1</td><td>0.0</td><td>1.8</td></tr>\n",
       "\t<tr><th scope=row>Indiana</th><td>2.5</td><td>1.8</td><td>0.0</td></tr>\n",
       "</tbody>\n",
       "</table>\n"
      ],
      "text/latex": [
       "A matrix: 3 × 3 of type dbl\n",
       "\\begin{tabular}{r|lll}\n",
       "  & New Mexico & Iowa & Indiana\\\\\n",
       "\\hline\n",
       "\tNew Mexico & 0.0 & 4.1 & 2.5\\\\\n",
       "\tIowa & 4.1 & 0.0 & 1.8\\\\\n",
       "\tIndiana & 2.5 & 1.8 & 0.0\\\\\n",
       "\\end{tabular}\n"
      ],
      "text/markdown": [
       "\n",
       "A matrix: 3 × 3 of type dbl\n",
       "\n",
       "| <!--/--> | New Mexico | Iowa | Indiana |\n",
       "|---|---|---|---|\n",
       "| New Mexico | 0.0 | 4.1 | 2.5 |\n",
       "| Iowa | 4.1 | 0.0 | 1.8 |\n",
       "| Indiana | 2.5 | 1.8 | 0.0 |\n",
       "\n"
      ],
      "text/plain": [
       "           New Mexico Iowa Indiana\n",
       "New Mexico 0.0        4.1  2.5    \n",
       "Iowa       4.1        0.0  1.8    \n",
       "Indiana    2.5        1.8  0.0    "
      ]
     },
     "metadata": {},
     "output_type": "display_data"
    }
   ],
   "source": [
    "# Subconjunto de las 3 primeras características y observaciones, y valores redondeados\n",
    "round(as.matrix(dist.eucl)[1:3, 1:3], 1)"
   ]
  },
  {
   "cell_type": "markdown",
   "metadata": {},
   "source": [
    "En esta matriz, el valor representa la distancia entre los objetos. Los valores en la diagonal de la matriz representan la distancia entre los objetos y ellos mismos (que deben ser cero)"
   ]
  },
  {
   "cell_type": "markdown",
   "metadata": {},
   "source": [
    "#### Cálculo de distancias para datos mixtos"
   ]
  },
  {
   "cell_type": "markdown",
   "metadata": {},
   "source": [
    "La función `daisy()` de la librería `cluster` es capaz de manejar otros tipos de variables además de la numérica (por ejemplo, nominal, ordinal, binaria (a)simétrica). Además, del coeficiente de Gower, que es una de las medidas de proximidad más populares para tipos de datos mixtos."
   ]
  },
  {
   "cell_type": "markdown",
   "metadata": {},
   "source": [
    "El conjunto de datos `flower` contiene cracterísticas de de flores y contiene variables factoriales (categóricas), ordinales (categóricas ordenadas) y numéricas"
   ]
  },
  {
   "cell_type": "code",
   "execution_count": 9,
   "metadata": {},
   "outputs": [],
   "source": [
    "library(cluster) "
   ]
  },
  {
   "cell_type": "code",
   "execution_count": 10,
   "metadata": {},
   "outputs": [
    {
     "data": {
      "text/html": [
       "<table>\n",
       "<caption>A data.frame: 3 × 8</caption>\n",
       "<thead>\n",
       "\t<tr><th></th><th scope=col>V1</th><th scope=col>V2</th><th scope=col>V3</th><th scope=col>V4</th><th scope=col>V5</th><th scope=col>V6</th><th scope=col>V7</th><th scope=col>V8</th></tr>\n",
       "\t<tr><th></th><th scope=col>&lt;fct&gt;</th><th scope=col>&lt;fct&gt;</th><th scope=col>&lt;fct&gt;</th><th scope=col>&lt;fct&gt;</th><th scope=col>&lt;ord&gt;</th><th scope=col>&lt;ord&gt;</th><th scope=col>&lt;dbl&gt;</th><th scope=col>&lt;dbl&gt;</th></tr>\n",
       "</thead>\n",
       "<tbody>\n",
       "\t<tr><th scope=row>1</th><td>0</td><td>1</td><td>1</td><td>4</td><td>3</td><td>15</td><td> 25</td><td>15</td></tr>\n",
       "\t<tr><th scope=row>2</th><td>1</td><td>0</td><td>0</td><td>2</td><td>1</td><td>3 </td><td>150</td><td>50</td></tr>\n",
       "\t<tr><th scope=row>3</th><td>0</td><td>1</td><td>0</td><td>3</td><td>3</td><td>1 </td><td>150</td><td>50</td></tr>\n",
       "</tbody>\n",
       "</table>\n"
      ],
      "text/latex": [
       "A data.frame: 3 × 8\n",
       "\\begin{tabular}{r|llllllll}\n",
       "  & V1 & V2 & V3 & V4 & V5 & V6 & V7 & V8\\\\\n",
       "  & <fct> & <fct> & <fct> & <fct> & <ord> & <ord> & <dbl> & <dbl>\\\\\n",
       "\\hline\n",
       "\t1 & 0 & 1 & 1 & 4 & 3 & 15 &  25 & 15\\\\\n",
       "\t2 & 1 & 0 & 0 & 2 & 1 & 3  & 150 & 50\\\\\n",
       "\t3 & 0 & 1 & 0 & 3 & 3 & 1  & 150 & 50\\\\\n",
       "\\end{tabular}\n"
      ],
      "text/markdown": [
       "\n",
       "A data.frame: 3 × 8\n",
       "\n",
       "| <!--/--> | V1 &lt;fct&gt; | V2 &lt;fct&gt; | V3 &lt;fct&gt; | V4 &lt;fct&gt; | V5 &lt;ord&gt; | V6 &lt;ord&gt; | V7 &lt;dbl&gt; | V8 &lt;dbl&gt; |\n",
       "|---|---|---|---|---|---|---|---|---|\n",
       "| 1 | 0 | 1 | 1 | 4 | 3 | 15 |  25 | 15 |\n",
       "| 2 | 1 | 0 | 0 | 2 | 1 | 3  | 150 | 50 |\n",
       "| 3 | 0 | 1 | 0 | 3 | 3 | 1  | 150 | 50 |\n",
       "\n"
      ],
      "text/plain": [
       "  V1 V2 V3 V4 V5 V6 V7  V8\n",
       "1 0  1  1  4  3  15  25 15\n",
       "2 1  0  0  2  1  3  150 50\n",
       "3 0  1  0  3  3  1  150 50"
      ]
     },
     "metadata": {},
     "output_type": "display_data"
    }
   ],
   "source": [
    "data(flower) \n",
    "head(flower, 3)"
   ]
  },
  {
   "cell_type": "markdown",
   "metadata": {},
   "source": [
    "Checamos la estructura del conjunto de datos"
   ]
  },
  {
   "cell_type": "code",
   "execution_count": 11,
   "metadata": {},
   "outputs": [
    {
     "name": "stdout",
     "output_type": "stream",
     "text": [
      "'data.frame':\t18 obs. of  8 variables:\n",
      " $ V1: Factor w/ 2 levels \"0\",\"1\": 1 2 1 1 1 1 1 1 2 2 ...\n",
      " $ V2: Factor w/ 2 levels \"0\",\"1\": 2 1 2 1 2 2 1 1 2 2 ...\n",
      " $ V3: Factor w/ 2 levels \"0\",\"1\": 2 1 1 2 1 1 1 2 1 1 ...\n",
      " $ V4: Factor w/ 5 levels \"1\",\"2\",\"3\",\"4\",..: 4 2 3 4 5 4 4 2 3 5 ...\n",
      " $ V5: Ord.factor w/ 3 levels \"1\"<\"2\"<\"3\": 3 1 3 2 2 3 3 2 1 2 ...\n",
      " $ V6: Ord.factor w/ 18 levels \"1\"<\"2\"<\"3\"<\"4\"<..: 15 3 1 16 2 12 13 7 4 14 ...\n",
      " $ V7: num  25 150 150 125 20 50 40 100 25 100 ...\n",
      " $ V8: num  15 50 50 50 15 40 20 15 15 60 ...\n"
     ]
    }
   ],
   "source": [
    "str(flower)"
   ]
  },
  {
   "cell_type": "markdown",
   "metadata": {},
   "source": [
    "Calculamos la matriz de distancias y la ordenamos"
   ]
  },
  {
   "cell_type": "code",
   "execution_count": 12,
   "metadata": {},
   "outputs": [
    {
     "data": {
      "text/html": [
       "<table>\n",
       "<caption>A matrix: 3 × 3 of type dbl</caption>\n",
       "<thead>\n",
       "\t<tr><th></th><th scope=col>1</th><th scope=col>2</th><th scope=col>3</th></tr>\n",
       "</thead>\n",
       "<tbody>\n",
       "\t<tr><th scope=row>1</th><td>0.00</td><td>0.89</td><td>0.53</td></tr>\n",
       "\t<tr><th scope=row>2</th><td>0.89</td><td>0.00</td><td>0.51</td></tr>\n",
       "\t<tr><th scope=row>3</th><td>0.53</td><td>0.51</td><td>0.00</td></tr>\n",
       "</tbody>\n",
       "</table>\n"
      ],
      "text/latex": [
       "A matrix: 3 × 3 of type dbl\n",
       "\\begin{tabular}{r|lll}\n",
       "  & 1 & 2 & 3\\\\\n",
       "\\hline\n",
       "\t1 & 0.00 & 0.89 & 0.53\\\\\n",
       "\t2 & 0.89 & 0.00 & 0.51\\\\\n",
       "\t3 & 0.53 & 0.51 & 0.00\\\\\n",
       "\\end{tabular}\n"
      ],
      "text/markdown": [
       "\n",
       "A matrix: 3 × 3 of type dbl\n",
       "\n",
       "| <!--/--> | 1 | 2 | 3 |\n",
       "|---|---|---|---|\n",
       "| 1 | 0.00 | 0.89 | 0.53 |\n",
       "| 2 | 0.89 | 0.00 | 0.51 |\n",
       "| 3 | 0.53 | 0.51 | 0.00 |\n",
       "\n"
      ],
      "text/plain": [
       "  1    2    3   \n",
       "1 0.00 0.89 0.53\n",
       "2 0.89 0.00 0.51\n",
       "3 0.53 0.51 0.00"
      ]
     },
     "metadata": {},
     "output_type": "display_data"
    }
   ],
   "source": [
    "dd <- daisy(flower) \n",
    "round(as.matrix(dd)[1:3, 1:3], 2)"
   ]
  },
  {
   "cell_type": "markdown",
   "metadata": {},
   "source": [
    "### Visualización de matrices de distancia"
   ]
  },
  {
   "cell_type": "markdown",
   "metadata": {},
   "source": [
    "Una solución sencilla para visualizar las matrices de distancia es utilizar la función `fviz_dist(` de la librería `factoextra`."
   ]
  },
  {
   "cell_type": "code",
   "execution_count": 13,
   "metadata": {},
   "outputs": [
    {
     "name": "stderr",
     "output_type": "stream",
     "text": [
      "Loading required package: ggplot2\n",
      "\n",
      "Welcome! Want to learn more? See two factoextra-related books at https://goo.gl/ve3WBa\n",
      "\n"
     ]
    },
    {
     "data": {
      "image/png": "[encoded data removed]",
      "text/plain": [
       "plot without title"
      ]
     },
     "metadata": {
      "image/png": {
       "height": 420,
       "width": 420
      },
      "text/plain": {
       "height": 420,
       "width": 420
      }
     },
     "output_type": "display_data"
    }
   ],
   "source": [
    "library(\"factoextra\") \n",
    "fviz_dist(dist.eucl)\n",
    "#Rojo: alta similaridad (baja disimilaridad) \n",
    "#Azil: baja similaridad (alta disimilaridad) "
   ]
  },
  {
   "cell_type": "markdown",
   "metadata": {},
   "source": [
    "El nivel de color es proporcional al valor de la diferencia entre las observaciones: rojo si $d(x,y)=0$ y azul si $dist(x,y)=1$. Los objetos que pertenecen al mismo cluster se visualizan en orden consecutivo."
   ]
  }
 ],
 "metadata": {
  "kernelspec": {
   "display_name": "R",
   "language": "R",
   "name": "ir"
  },
  "language_info": {
   "codemirror_mode": "r",
   "file_extension": ".r",
   "mimetype": "text/x-r-source",
   "name": "R",
   "pygments_lexer": "r",
   "version": "3.6.2"
  }
 },
 "nbformat": 4,
 "nbformat_minor": 4
}
