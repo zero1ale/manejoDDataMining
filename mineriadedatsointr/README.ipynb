{
 "cells": [
  {
   "cell_type": "markdown",
   "metadata": {
    "colab_type": "text",
    "id": "s9OB8liRpZIE"
   },
   "source": [
    "# Cookbook: data_mining_2020\n",
    "\n",
    "![](https://docs.google.com/uc?export=download&id=1j9nh7bwqlXTVogY4FJIE8G5UktU9DAE8)\n",
    "\n",
    "### [@jacoboggleon](https://mx.linkedin.com/in/jacoboggleon)\n",
    "## Recipes\n",
    " 1. [Práctica 0: configurar el entorno de trabajo](https://nbviewer.jupyter.org/github/JacoboGGLeon/data_mining_2020/blob/master/Pr%C3%A1ctica_0.ipynb)\n",
    "\n",
    " 2. [Práctica 00: preprocesamiento de datos 101](https://nbviewer.jupyter.org/github/JacoboGGLeon/data_mining_2020/blob/master/Pr%C3%A1ctica_00.ipynb)\n",
    "  \n",
    " 3. [Práctica 1: primera exploración a los datos](https://nbviewer.jupyter.org/github/JacoboGGLeon/data_mining_2020/blob/master/Pr%C3%A1ctica_1.ipynb)\n",
    "\n",
    " 4. [Práctica G: configurar git y github](https://nbviewer.jupyter.org/github/JacoboGGLeon/data_mining_2020/blob/master/Pr%C3%A1ctica_G.ipynb)\n",
    "\n",
    " 5. [Práctica 2: primera aproximación a la limpieza de datos ](https://nbviewer.jupyter.org/github/JacoboGGLeon/data_mining_2020/blob/master/Pra%CC%81ctica_2.ipynb)\n",
    "  \n",
    " 6. [Práctica 3: extracción de características](https://nbviewer.jupyter.org/github/JacoboGGLeon/data_mining_2020/blob/master/Pr%C3%A1ctica%203.ipynb)\n",
    "  \n",
    " 7. [Práctica 4a: selección de características numéricas](https://nbviewer.jupyter.org/github/JacoboGGLeon/data_mining_2020/blob/master/Pr%C3%A1ctica%204a.ipynb)\n",
    "\n",
    " 8. [Práctica 4b: selección de características categóricas](https://nbviewer.jupyter.org/github/JacoboGGLeon/data_mining_2020/blob/master/Pr%C3%A1ctica%204b.ipynb)\n",
    "\n",
    " 9. [Práctica 5: primer modelo de clasificación n-dimensional](https://nbviewer.jupyter.org/github/JacoboGGLeon/data_mining_2020/blob/master/Pr%C3%A1ctica%205.ipynb)\n",
    "\n",
    " 10. [Práctica 6a: medidas de distancia para el análisis de clustering](https://nbviewer.jupyter.org/github/JacoboGGLeon/data_mining_2020/blob/master/Pr%C3%A1ctica%206a.ipynb)\n",
    "\n",
    "\n",
    " 11. [Práctica 6b: análisis de clustering de partición](https://nbviewer.jupyter.org/github/JacoboGGLeon/data_mining_2020/blob/master/Pr%C3%A1ctica%206b.ipynb)\n",
    "\n",
    "\n",
    " 12. [Práctica 6c: estadísticas de validación de clústers](https://nbviewer.jupyter.org/github/JacoboGGLeon/data_mining_2020/blob/master/Pr%C3%A1ctica%206c.ipynb)\n",
    "\n",
    " 13. [Práctica 7a: análisis de regresión lineal simple](https://nbviewer.jupyter.org/github/JacoboGGLeon/data_mining_2020/blob/master/Pr%C3%A1ctica%207a.ipynb)\n",
    " \n",
    " 14. [Práctica 7b: análisis de regresión lineal múltiple](https://nbviewer.jupyter.org/github/JacoboGGLeon/data_mining_2020/blob/master/Pr%C3%A1ctica%207b.ipynb)\n",
    " \n",
    " 15. [Práctica 8a: clasificación con knn](https://nbviewer.jupyter.org/github/JacoboGGLeon/data_mining_2020/blob/master/Pr%C3%A1ctica%208a.ipynb)\n",
    " \n",
    " 16. [Práctica 8b: clasificación con random forest](https://nbviewer.jupyter.org/github/JacoboGGLeon/data_mining_2020/blob/master/Pr%C3%A1ctica%208b.ipynb)\n",
    " \n",
    " \n",
    "\n",
    "\n",
    "\n",
    "\n",
    "  \n",
    "  \n"
   ]
  }
 ],
 "metadata": {
  "colab": {
   "name": "README.ipynb",
   "provenance": []
  },
  "kernelspec": {
   "display_name": "Python 3",
   "language": "python",
   "name": "python3"
  },
  "language_info": {
   "codemirror_mode": {
    "name": "ipython",
    "version": 3
   },
   "file_extension": ".py",
   "mimetype": "text/x-python",
   "name": "python",
   "nbconvert_exporter": "python",
   "pygments_lexer": "ipython3",
   "version": "3.7.5"
  }
 },
 "nbformat": 4,
 "nbformat_minor": 4
}
