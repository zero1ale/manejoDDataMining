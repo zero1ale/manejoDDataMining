{
 "cells": [
  {
   "cell_type": "markdown",
   "metadata": {},
   "source": [
    "# Práctica 4b: selección de características categóricas"
   ]
  },
  {
   "cell_type": "markdown",
   "metadata": {},
   "source": [
    "##### Cookbook [@data_mining_2020](https://nbviewer.jupyter.org/github/JacoboGGLeon/data_mining_2020/blob/master/README.ipynb)"
   ]
  },
  {
   "cell_type": "markdown",
   "metadata": {},
   "source": [
    "## Resources\n",
    "* [How to Perform Feature Selection with Categorical Data\n",
    "](https://machinelearningmastery.com/feature-selection-with-categorical-data/)"
   ]
  },
  {
   "cell_type": "markdown",
   "metadata": {},
   "source": [
    "## Recipe"
   ]
  },
  {
   "cell_type": "markdown",
   "metadata": {},
   "source": [
    "**Nota:** antes de implementar los siguientes métodos, debemos asegurarnos de que el `DataFrame` sólo contiene características categóricas."
   ]
  },
  {
   "cell_type": "markdown",
   "metadata": {},
   "source": [
    "### Preparación del conjunto de datos: Breast Cancer"
   ]
  },
  {
   "cell_type": "markdown",
   "metadata": {},
   "source": [
    "En el conjunto de datos se encuentran datos de las pacientes con cáncer de mama con una recurrencia o no recurrencia del cáncer. Hay 286 ejemplos y nueve variables de entrada. Es un problema de clasificación binaria.\n",
    "\n",
    "Un modelo trivial puede lograr una precisión del \\(70%\\) en este conjunto de datos. Un buen puntaje es de aproximadamente \\(76% +/- 3%\\)."
   ]
  },
  {
   "cell_type": "code",
   "execution_count": 1,
   "metadata": {},
   "outputs": [],
   "source": [
    "import pandas as pd\n",
    "import numpy as np\n",
    "import matplotlib.pyplot as plt\n",
    "\n",
    "from sklearn.model_selection import train_test_split\n",
    "from sklearn.preprocessing import OrdinalEncoder \n",
    "from sklearn.preprocessing import LabelEncoder\n",
    "from sklearn.feature_selection import SelectKBest, chi2, mutual_info_classif"
   ]
  },
  {
   "cell_type": "code",
   "execution_count": 18,
   "metadata": {},
   "outputs": [],
   "source": [
    "file = \"https://raw.githubusercontent.com/jbrownlee/Datasets/master/breast-cancer.csv\"\n",
    "data = pd.read_csv(file, header=None)\n",
    "# arreglo\n",
    "dataset = data.values"
   ]
  },
  {
   "cell_type": "markdown",
   "metadata": {},
   "source": [
    "Una vez cargado el conjunto de datos, podemos dividirlo en datos de entrada o características (X) y salida variable de salida o target (y)."
   ]
  },
  {
   "cell_type": "code",
   "execution_count": 39,
   "metadata": {},
   "outputs": [
    {
     "data": {
      "text/plain": [
       "True"
      ]
     },
     "execution_count": 39,
     "metadata": {},
     "output_type": "execute_result"
    }
   ],
   "source": [
    "data.isnull().values.any()"
   ]
  },
  {
   "cell_type": "code",
   "execution_count": 19,
   "metadata": {},
   "outputs": [
    {
     "data": {
      "text/html": [
       "<div>\n",
       "<style scoped>\n",
       "    .dataframe tbody tr th:only-of-type {\n",
       "        vertical-align: middle;\n",
       "    }\n",
       "\n",
       "    .dataframe tbody tr th {\n",
       "        vertical-align: top;\n",
       "    }\n",
       "\n",
       "    .dataframe thead th {\n",
       "        text-align: right;\n",
       "    }\n",
       "</style>\n",
       "<table border=\"1\" class=\"dataframe\">\n",
       "  <thead>\n",
       "    <tr style=\"text-align: right;\">\n",
       "      <th></th>\n",
       "      <th>0</th>\n",
       "      <th>1</th>\n",
       "      <th>2</th>\n",
       "      <th>3</th>\n",
       "      <th>4</th>\n",
       "      <th>5</th>\n",
       "      <th>6</th>\n",
       "      <th>7</th>\n",
       "      <th>8</th>\n",
       "      <th>9</th>\n",
       "    </tr>\n",
       "  </thead>\n",
       "  <tbody>\n",
       "    <tr>\n",
       "      <th>0</th>\n",
       "      <td>'40-49'</td>\n",
       "      <td>'premeno'</td>\n",
       "      <td>'15-19'</td>\n",
       "      <td>'0-2'</td>\n",
       "      <td>'yes'</td>\n",
       "      <td>'3'</td>\n",
       "      <td>'right'</td>\n",
       "      <td>'left_up'</td>\n",
       "      <td>'no'</td>\n",
       "      <td>'recurrence-events'</td>\n",
       "    </tr>\n",
       "    <tr>\n",
       "      <th>1</th>\n",
       "      <td>'50-59'</td>\n",
       "      <td>'ge40'</td>\n",
       "      <td>'15-19'</td>\n",
       "      <td>'0-2'</td>\n",
       "      <td>'no'</td>\n",
       "      <td>'1'</td>\n",
       "      <td>'right'</td>\n",
       "      <td>'central'</td>\n",
       "      <td>'no'</td>\n",
       "      <td>'no-recurrence-events'</td>\n",
       "    </tr>\n",
       "    <tr>\n",
       "      <th>2</th>\n",
       "      <td>'50-59'</td>\n",
       "      <td>'ge40'</td>\n",
       "      <td>'35-39'</td>\n",
       "      <td>'0-2'</td>\n",
       "      <td>'no'</td>\n",
       "      <td>'2'</td>\n",
       "      <td>'left'</td>\n",
       "      <td>'left_low'</td>\n",
       "      <td>'no'</td>\n",
       "      <td>'recurrence-events'</td>\n",
       "    </tr>\n",
       "    <tr>\n",
       "      <th>3</th>\n",
       "      <td>'40-49'</td>\n",
       "      <td>'premeno'</td>\n",
       "      <td>'35-39'</td>\n",
       "      <td>'0-2'</td>\n",
       "      <td>'yes'</td>\n",
       "      <td>'3'</td>\n",
       "      <td>'right'</td>\n",
       "      <td>'left_low'</td>\n",
       "      <td>'yes'</td>\n",
       "      <td>'no-recurrence-events'</td>\n",
       "    </tr>\n",
       "    <tr>\n",
       "      <th>4</th>\n",
       "      <td>'40-49'</td>\n",
       "      <td>'premeno'</td>\n",
       "      <td>'30-34'</td>\n",
       "      <td>'3-5'</td>\n",
       "      <td>'yes'</td>\n",
       "      <td>'2'</td>\n",
       "      <td>'left'</td>\n",
       "      <td>'right_up'</td>\n",
       "      <td>'no'</td>\n",
       "      <td>'recurrence-events'</td>\n",
       "    </tr>\n",
       "    <tr>\n",
       "      <th>...</th>\n",
       "      <td>...</td>\n",
       "      <td>...</td>\n",
       "      <td>...</td>\n",
       "      <td>...</td>\n",
       "      <td>...</td>\n",
       "      <td>...</td>\n",
       "      <td>...</td>\n",
       "      <td>...</td>\n",
       "      <td>...</td>\n",
       "      <td>...</td>\n",
       "    </tr>\n",
       "    <tr>\n",
       "      <th>281</th>\n",
       "      <td>'50-59'</td>\n",
       "      <td>'ge40'</td>\n",
       "      <td>'30-34'</td>\n",
       "      <td>'6-8'</td>\n",
       "      <td>'yes'</td>\n",
       "      <td>'2'</td>\n",
       "      <td>'left'</td>\n",
       "      <td>'left_low'</td>\n",
       "      <td>'no'</td>\n",
       "      <td>'no-recurrence-events'</td>\n",
       "    </tr>\n",
       "    <tr>\n",
       "      <th>282</th>\n",
       "      <td>'50-59'</td>\n",
       "      <td>'premeno'</td>\n",
       "      <td>'25-29'</td>\n",
       "      <td>'3-5'</td>\n",
       "      <td>'yes'</td>\n",
       "      <td>'2'</td>\n",
       "      <td>'left'</td>\n",
       "      <td>'left_low'</td>\n",
       "      <td>'yes'</td>\n",
       "      <td>'no-recurrence-events'</td>\n",
       "    </tr>\n",
       "    <tr>\n",
       "      <th>283</th>\n",
       "      <td>'30-39'</td>\n",
       "      <td>'premeno'</td>\n",
       "      <td>'30-34'</td>\n",
       "      <td>'6-8'</td>\n",
       "      <td>'yes'</td>\n",
       "      <td>'2'</td>\n",
       "      <td>'right'</td>\n",
       "      <td>'right_up'</td>\n",
       "      <td>'no'</td>\n",
       "      <td>'no-recurrence-events'</td>\n",
       "    </tr>\n",
       "    <tr>\n",
       "      <th>284</th>\n",
       "      <td>'50-59'</td>\n",
       "      <td>'premeno'</td>\n",
       "      <td>'15-19'</td>\n",
       "      <td>'0-2'</td>\n",
       "      <td>'no'</td>\n",
       "      <td>'2'</td>\n",
       "      <td>'right'</td>\n",
       "      <td>'left_low'</td>\n",
       "      <td>'no'</td>\n",
       "      <td>'no-recurrence-events'</td>\n",
       "    </tr>\n",
       "    <tr>\n",
       "      <th>285</th>\n",
       "      <td>'50-59'</td>\n",
       "      <td>'ge40'</td>\n",
       "      <td>'40-44'</td>\n",
       "      <td>'0-2'</td>\n",
       "      <td>'no'</td>\n",
       "      <td>'3'</td>\n",
       "      <td>'left'</td>\n",
       "      <td>'right_up'</td>\n",
       "      <td>'no'</td>\n",
       "      <td>'no-recurrence-events'</td>\n",
       "    </tr>\n",
       "  </tbody>\n",
       "</table>\n",
       "<p>286 rows × 10 columns</p>\n",
       "</div>"
      ],
      "text/plain": [
       "           0          1        2      3      4    5        6           7  \\\n",
       "0    '40-49'  'premeno'  '15-19'  '0-2'  'yes'  '3'  'right'   'left_up'   \n",
       "1    '50-59'     'ge40'  '15-19'  '0-2'   'no'  '1'  'right'   'central'   \n",
       "2    '50-59'     'ge40'  '35-39'  '0-2'   'no'  '2'   'left'  'left_low'   \n",
       "3    '40-49'  'premeno'  '35-39'  '0-2'  'yes'  '3'  'right'  'left_low'   \n",
       "4    '40-49'  'premeno'  '30-34'  '3-5'  'yes'  '2'   'left'  'right_up'   \n",
       "..       ...        ...      ...    ...    ...  ...      ...         ...   \n",
       "281  '50-59'     'ge40'  '30-34'  '6-8'  'yes'  '2'   'left'  'left_low'   \n",
       "282  '50-59'  'premeno'  '25-29'  '3-5'  'yes'  '2'   'left'  'left_low'   \n",
       "283  '30-39'  'premeno'  '30-34'  '6-8'  'yes'  '2'  'right'  'right_up'   \n",
       "284  '50-59'  'premeno'  '15-19'  '0-2'   'no'  '2'  'right'  'left_low'   \n",
       "285  '50-59'     'ge40'  '40-44'  '0-2'   'no'  '3'   'left'  'right_up'   \n",
       "\n",
       "         8                       9  \n",
       "0     'no'     'recurrence-events'  \n",
       "1     'no'  'no-recurrence-events'  \n",
       "2     'no'     'recurrence-events'  \n",
       "3    'yes'  'no-recurrence-events'  \n",
       "4     'no'     'recurrence-events'  \n",
       "..     ...                     ...  \n",
       "281   'no'  'no-recurrence-events'  \n",
       "282  'yes'  'no-recurrence-events'  \n",
       "283   'no'  'no-recurrence-events'  \n",
       "284   'no'  'no-recurrence-events'  \n",
       "285   'no'  'no-recurrence-events'  \n",
       "\n",
       "[286 rows x 10 columns]"
      ]
     },
     "execution_count": 19,
     "metadata": {},
     "output_type": "execute_result"
    }
   ],
   "source": [
    "data"
   ]
  },
  {
   "cell_type": "code",
   "execution_count": 20,
   "metadata": {},
   "outputs": [],
   "source": [
    "X = dataset[:, :-1]\n",
    "y = dataset[:,-1]"
   ]
  },
  {
   "cell_type": "markdown",
   "metadata": {},
   "source": [
    "Podemos forzar que todos los campos de los datos de entrada sean `string`, por si acaso Pandas malinterpretara alguna variable."
   ]
  },
  {
   "cell_type": "code",
   "execution_count": 22,
   "metadata": {},
   "outputs": [],
   "source": [
    "X = X.astype(str)"
   ]
  },
  {
   "cell_type": "markdown",
   "metadata": {},
   "source": [
    "Podemos juntar este proceso en una función que podemos reutilizar más tarde."
   ]
  },
  {
   "cell_type": "code",
   "execution_count": 5,
   "metadata": {},
   "outputs": [],
   "source": [
    "def load_dataset(filename):\n",
    "    # Cargamos el Dataframe\n",
    "    data = pd.read_csv(filename, header=None)\n",
    "    # Generamos un arreglo\n",
    "    dataset = data.values\n",
    "    # Dividimos en X y y\n",
    "    X = dataset[:, :-1]\n",
    "    y = dataset[:,-1]\n",
    "    # Forzamos que X sea string \n",
    "    X = X.astype(str)\n",
    "    return X, y"
   ]
  },
  {
   "cell_type": "markdown",
   "metadata": {},
   "source": [
    "Una vez cargados los datos, podemos dividirlos en conjuntos de entrenamiento (*train*) y pruebas (*test*) para que podamos encontar y evaluar un modelo de aprendizaje. Utilizaremos la función `train_test_split()` de scikit-learn y utilizaremos el 67% de los datos para el entrenamiento y el 33% para las pruebas."
   ]
  },
  {
   "cell_type": "code",
   "execution_count": 31,
   "metadata": {},
   "outputs": [
    {
     "name": "stdout",
     "output_type": "stream",
     "text": [
      "Train (191, 9) (191,)\n",
      "Test (95, 9) (95,)\n"
     ]
    }
   ],
   "source": [
    "# Cargamos el dataset\n",
    "X, y = load_dataset(file)\n",
    "\n",
    "# Dividimos en train y test\n",
    "X_train, X_test, y_train, y_test = train_test_split(X, y, test_size=0.33, random_state=1)\n",
    "\n",
    "# Checamos las dimensiones\n",
    "print('Train', X_train.shape, y_train.shape)\n",
    "print('Test', X_test.shape, y_test.shape)\n"
   ]
  },
  {
   "cell_type": "markdown",
   "metadata": {},
   "source": [
    "Podemos usar el `OrdinalEncoder()` de scikit-learn para codificar cada variable categórica a números enteros. Esta es una clase flexible y permite especificar el orden de las categorías como argumentos si se conoce dicho orden."
   ]
  },
  {
   "cell_type": "code",
   "execution_count": 40,
   "metadata": {},
   "outputs": [
    {
     "data": {
      "text/plain": [
       "array([\"'recurrence-events'\", \"'no-recurrence-events'\",\n",
       "       \"'recurrence-events'\", \"'no-recurrence-events'\",\n",
       "       \"'recurrence-events'\", \"'no-recurrence-events'\",\n",
       "       \"'no-recurrence-events'\", \"'no-recurrence-events'\",\n",
       "       \"'no-recurrence-events'\", \"'no-recurrence-events'\",\n",
       "       \"'no-recurrence-events'\", \"'no-recurrence-events'\",\n",
       "       \"'no-recurrence-events'\", \"'no-recurrence-events'\",\n",
       "       \"'recurrence-events'\", \"'no-recurrence-events'\",\n",
       "       \"'no-recurrence-events'\", \"'no-recurrence-events'\",\n",
       "       \"'no-recurrence-events'\", \"'no-recurrence-events'\",\n",
       "       \"'recurrence-events'\", \"'no-recurrence-events'\",\n",
       "       \"'no-recurrence-events'\", \"'no-recurrence-events'\",\n",
       "       \"'recurrence-events'\", \"'no-recurrence-events'\",\n",
       "       \"'no-recurrence-events'\", \"'no-recurrence-events'\",\n",
       "       \"'no-recurrence-events'\", \"'recurrence-events'\",\n",
       "       \"'recurrence-events'\", \"'no-recurrence-events'\",\n",
       "       \"'no-recurrence-events'\", \"'no-recurrence-events'\",\n",
       "       \"'recurrence-events'\", \"'no-recurrence-events'\",\n",
       "       \"'no-recurrence-events'\", \"'no-recurrence-events'\",\n",
       "       \"'no-recurrence-events'\", \"'no-recurrence-events'\",\n",
       "       \"'recurrence-events'\", \"'no-recurrence-events'\",\n",
       "       \"'no-recurrence-events'\", \"'recurrence-events'\",\n",
       "       \"'no-recurrence-events'\", \"'recurrence-events'\",\n",
       "       \"'no-recurrence-events'\", \"'no-recurrence-events'\",\n",
       "       \"'no-recurrence-events'\", \"'no-recurrence-events'\",\n",
       "       \"'recurrence-events'\", \"'no-recurrence-events'\",\n",
       "       \"'no-recurrence-events'\", \"'no-recurrence-events'\",\n",
       "       \"'no-recurrence-events'\", \"'no-recurrence-events'\",\n",
       "       \"'no-recurrence-events'\", \"'no-recurrence-events'\",\n",
       "       \"'no-recurrence-events'\", \"'recurrence-events'\",\n",
       "       \"'recurrence-events'\", \"'no-recurrence-events'\",\n",
       "       \"'no-recurrence-events'\", \"'recurrence-events'\",\n",
       "       \"'recurrence-events'\", \"'no-recurrence-events'\",\n",
       "       \"'no-recurrence-events'\", \"'no-recurrence-events'\",\n",
       "       \"'recurrence-events'\", \"'no-recurrence-events'\",\n",
       "       \"'recurrence-events'\", \"'no-recurrence-events'\",\n",
       "       \"'no-recurrence-events'\", \"'recurrence-events'\",\n",
       "       \"'recurrence-events'\", \"'no-recurrence-events'\",\n",
       "       \"'no-recurrence-events'\", \"'no-recurrence-events'\",\n",
       "       \"'recurrence-events'\", \"'no-recurrence-events'\",\n",
       "       \"'no-recurrence-events'\", \"'no-recurrence-events'\",\n",
       "       \"'no-recurrence-events'\", \"'no-recurrence-events'\",\n",
       "       \"'no-recurrence-events'\", \"'no-recurrence-events'\",\n",
       "       \"'no-recurrence-events'\", \"'no-recurrence-events'\",\n",
       "       \"'no-recurrence-events'\", \"'no-recurrence-events'\",\n",
       "       \"'recurrence-events'\", \"'recurrence-events'\",\n",
       "       \"'recurrence-events'\", \"'no-recurrence-events'\",\n",
       "       \"'no-recurrence-events'\", \"'no-recurrence-events'\",\n",
       "       \"'recurrence-events'\", \"'no-recurrence-events'\",\n",
       "       \"'recurrence-events'\", \"'recurrence-events'\",\n",
       "       \"'recurrence-events'\", \"'recurrence-events'\",\n",
       "       \"'no-recurrence-events'\", \"'no-recurrence-events'\",\n",
       "       \"'no-recurrence-events'\", \"'recurrence-events'\",\n",
       "       \"'recurrence-events'\", \"'recurrence-events'\",\n",
       "       \"'no-recurrence-events'\", \"'no-recurrence-events'\",\n",
       "       \"'no-recurrence-events'\", \"'no-recurrence-events'\",\n",
       "       \"'no-recurrence-events'\", \"'no-recurrence-events'\",\n",
       "       \"'no-recurrence-events'\", \"'no-recurrence-events'\",\n",
       "       \"'recurrence-events'\", \"'no-recurrence-events'\",\n",
       "       \"'no-recurrence-events'\", \"'no-recurrence-events'\",\n",
       "       \"'recurrence-events'\", \"'no-recurrence-events'\",\n",
       "       \"'no-recurrence-events'\", \"'recurrence-events'\",\n",
       "       \"'no-recurrence-events'\", \"'no-recurrence-events'\",\n",
       "       \"'no-recurrence-events'\", \"'no-recurrence-events'\",\n",
       "       \"'recurrence-events'\", \"'no-recurrence-events'\",\n",
       "       \"'no-recurrence-events'\", \"'no-recurrence-events'\",\n",
       "       \"'recurrence-events'\", \"'recurrence-events'\",\n",
       "       \"'no-recurrence-events'\", \"'recurrence-events'\",\n",
       "       \"'no-recurrence-events'\", \"'no-recurrence-events'\",\n",
       "       \"'recurrence-events'\", \"'no-recurrence-events'\",\n",
       "       \"'recurrence-events'\", \"'no-recurrence-events'\",\n",
       "       \"'recurrence-events'\", \"'no-recurrence-events'\",\n",
       "       \"'no-recurrence-events'\", \"'no-recurrence-events'\",\n",
       "       \"'recurrence-events'\", \"'no-recurrence-events'\",\n",
       "       \"'no-recurrence-events'\", \"'no-recurrence-events'\",\n",
       "       \"'recurrence-events'\", \"'no-recurrence-events'\",\n",
       "       \"'no-recurrence-events'\", \"'recurrence-events'\",\n",
       "       \"'no-recurrence-events'\", \"'no-recurrence-events'\",\n",
       "       \"'recurrence-events'\", \"'recurrence-events'\",\n",
       "       \"'no-recurrence-events'\", \"'no-recurrence-events'\",\n",
       "       \"'no-recurrence-events'\", \"'no-recurrence-events'\",\n",
       "       \"'no-recurrence-events'\", \"'no-recurrence-events'\",\n",
       "       \"'recurrence-events'\", \"'recurrence-events'\",\n",
       "       \"'recurrence-events'\", \"'no-recurrence-events'\",\n",
       "       \"'no-recurrence-events'\", \"'no-recurrence-events'\",\n",
       "       \"'recurrence-events'\", \"'recurrence-events'\",\n",
       "       \"'no-recurrence-events'\", \"'recurrence-events'\",\n",
       "       \"'no-recurrence-events'\", \"'no-recurrence-events'\",\n",
       "       \"'no-recurrence-events'\", \"'recurrence-events'\",\n",
       "       \"'recurrence-events'\", \"'no-recurrence-events'\",\n",
       "       \"'no-recurrence-events'\", \"'recurrence-events'\",\n",
       "       \"'no-recurrence-events'\", \"'recurrence-events'\",\n",
       "       \"'no-recurrence-events'\", \"'no-recurrence-events'\",\n",
       "       \"'no-recurrence-events'\", \"'recurrence-events'\",\n",
       "       \"'no-recurrence-events'\", \"'no-recurrence-events'\",\n",
       "       \"'recurrence-events'\", \"'no-recurrence-events'\",\n",
       "       \"'recurrence-events'\", \"'no-recurrence-events'\",\n",
       "       \"'no-recurrence-events'\", \"'no-recurrence-events'\",\n",
       "       \"'recurrence-events'\", \"'no-recurrence-events'\",\n",
       "       \"'no-recurrence-events'\", \"'recurrence-events'\",\n",
       "       \"'no-recurrence-events'\", \"'no-recurrence-events'\",\n",
       "       \"'no-recurrence-events'\", \"'no-recurrence-events'\",\n",
       "       \"'no-recurrence-events'\", \"'recurrence-events'\",\n",
       "       \"'no-recurrence-events'\", \"'recurrence-events'\",\n",
       "       \"'recurrence-events'\", \"'no-recurrence-events'\",\n",
       "       \"'recurrence-events'\", \"'recurrence-events'\",\n",
       "       \"'no-recurrence-events'\", \"'no-recurrence-events'\",\n",
       "       \"'no-recurrence-events'\", \"'no-recurrence-events'\",\n",
       "       \"'recurrence-events'\", \"'no-recurrence-events'\",\n",
       "       \"'recurrence-events'\", \"'no-recurrence-events'\",\n",
       "       \"'no-recurrence-events'\", \"'no-recurrence-events'\",\n",
       "       \"'no-recurrence-events'\", \"'no-recurrence-events'\",\n",
       "       \"'recurrence-events'\", \"'no-recurrence-events'\",\n",
       "       \"'no-recurrence-events'\", \"'no-recurrence-events'\",\n",
       "       \"'no-recurrence-events'\", \"'recurrence-events'\",\n",
       "       \"'no-recurrence-events'\", \"'no-recurrence-events'\",\n",
       "       \"'no-recurrence-events'\", \"'no-recurrence-events'\",\n",
       "       \"'no-recurrence-events'\", \"'recurrence-events'\",\n",
       "       \"'no-recurrence-events'\", \"'recurrence-events'\",\n",
       "       \"'recurrence-events'\", \"'recurrence-events'\",\n",
       "       \"'recurrence-events'\", \"'no-recurrence-events'\",\n",
       "       \"'no-recurrence-events'\", \"'no-recurrence-events'\",\n",
       "       \"'no-recurrence-events'\", \"'no-recurrence-events'\",\n",
       "       \"'no-recurrence-events'\", \"'no-recurrence-events'\",\n",
       "       \"'no-recurrence-events'\", \"'no-recurrence-events'\",\n",
       "       \"'recurrence-events'\", \"'no-recurrence-events'\",\n",
       "       \"'no-recurrence-events'\", \"'no-recurrence-events'\",\n",
       "       \"'no-recurrence-events'\", \"'recurrence-events'\",\n",
       "       \"'no-recurrence-events'\", \"'recurrence-events'\",\n",
       "       \"'no-recurrence-events'\", \"'recurrence-events'\",\n",
       "       \"'no-recurrence-events'\", \"'no-recurrence-events'\",\n",
       "       \"'no-recurrence-events'\", \"'recurrence-events'\",\n",
       "       \"'no-recurrence-events'\", \"'no-recurrence-events'\",\n",
       "       \"'no-recurrence-events'\", \"'recurrence-events'\",\n",
       "       \"'no-recurrence-events'\", \"'no-recurrence-events'\",\n",
       "       \"'recurrence-events'\", \"'recurrence-events'\",\n",
       "       \"'no-recurrence-events'\", \"'no-recurrence-events'\",\n",
       "       \"'no-recurrence-events'\", \"'no-recurrence-events'\",\n",
       "       \"'no-recurrence-events'\", \"'no-recurrence-events'\",\n",
       "       \"'no-recurrence-events'\", \"'no-recurrence-events'\",\n",
       "       \"'no-recurrence-events'\", \"'no-recurrence-events'\",\n",
       "       \"'no-recurrence-events'\", \"'no-recurrence-events'\",\n",
       "       \"'no-recurrence-events'\", \"'no-recurrence-events'\"], dtype=object)"
      ]
     },
     "execution_count": 40,
     "metadata": {},
     "output_type": "execute_result"
    }
   ],
   "source": [
    "y"
   ]
  },
  {
   "cell_type": "code",
   "execution_count": 25,
   "metadata": {},
   "outputs": [],
   "source": [
    "# prepare input data\n",
    "def prepare_inputs(X_train, X_test):\n",
    "    oe = OrdinalEncoder()\n",
    "    oe.fit(X_train)\n",
    "    X_train_enc = oe.transform(X_train)\n",
    "    X_test_enc = oe.transform(X_test)\n",
    "    return X_train_enc, X_test_enc"
   ]
  },
  {
   "cell_type": "markdown",
   "metadata": {},
   "source": [
    "También necesitamos preparar la variable target. Este un problema de clasificación binaria, por lo que necesitamos convertir las dos etiquetas categóricas a binarias, 0 y 1, este es un tipo de codificación ordinal. Scikit-learn proporciona la clase `LabelEncoder` diseñada específicamente para este propósito. Podríamos usar el `OrdinalEncoder` y obtener el mismo resultado, aunque el `LabelEncoder` está diseñado para codificar una sola variable."
   ]
  },
  {
   "cell_type": "markdown",
   "metadata": {},
   "source": [
    "La función `prepare_targets()` codifica los datos de salida para el train y test."
   ]
  },
  {
   "cell_type": "code",
   "execution_count": 26,
   "metadata": {},
   "outputs": [],
   "source": [
    "def prepare_targets(y_train, y_test):\n",
    "    le = LabelEncoder()\n",
    "    le.fit(y_train)\n",
    "    y_train_enc = le.transform(y_train)\n",
    "    y_test_enc = le.transform(y_test)\n",
    "    return y_train_enc, y_test_enc"
   ]
  },
  {
   "cell_type": "code",
   "execution_count": 28,
   "metadata": {},
   "outputs": [],
   "source": [
    "# Preparamos los datos de entrada o características\n",
    "X_train_enc, X_test_enc = prepare_inputs(X_train, X_test)\n",
    "\n",
    "# Preparamos los datos de salida o target\n",
    "y_train_enc, y_test_enc = prepare_targets(y_train, y_test)"
   ]
  },
  {
   "cell_type": "code",
   "execution_count": 41,
   "metadata": {},
   "outputs": [
    {
     "data": {
      "text/plain": [
       "array([[ 3.,  0.,  4., ...,  0.,  3.,  0.],\n",
       "       [ 1.,  2.,  9., ...,  0.,  3.,  0.],\n",
       "       [ 3.,  2., 10., ...,  1.,  2.,  1.],\n",
       "       ...,\n",
       "       [ 4.,  0.,  1., ...,  1.,  1.,  0.],\n",
       "       [ 4.,  0.,  7., ...,  1.,  1.,  0.],\n",
       "       [ 4.,  0.,  8., ...,  0.,  0.,  0.]])"
      ]
     },
     "execution_count": 41,
     "metadata": {},
     "output_type": "execute_result"
    }
   ],
   "source": [
    "X_train_enc"
   ]
  },
  {
   "cell_type": "markdown",
   "metadata": {},
   "source": [
    "### Chi-Squared"
   ]
  },
  {
   "cell_type": "markdown",
   "metadata": {},
   "source": [
    "La prueba de hipótesis estadística chi-cuadrado de Pearson (Chi-squared) es un ejemplo de una prueba de independencia entre variables categóricas. Los resultados de esta prueba se pueden utilizar para la selección de características, donde aquellas características que son independientes de la variable objetivo se pueden eliminar del conjunto de datos.\n",
    "\n",
    "La función `chi2()` puede utilizarse para la selección de las características más relevantes de k (valores más grandes) a través de la clase `SelectKBest`. Por ejemplo, podemos definir la clase `SelectKBest` para utilizar la función `chi2()` y seleccionar todas las características."
   ]
  },
  {
   "cell_type": "code",
   "execution_count": 14,
   "metadata": {},
   "outputs": [],
   "source": [
    "def select_features(X_train, y_train, X_test):\n",
    "\tfs = SelectKBest(score_func=chi2, k='all')\n",
    "\tfs.fit(X_train, y_train)\n",
    "\tX_train_fs = fs.transform(X_train)\n",
    "\tX_test_fs = fs.transform(X_test)\n",
    "\treturn X_train_fs, X_test_fs, fs"
   ]
  },
  {
   "cell_type": "code",
   "execution_count": 15,
   "metadata": {},
   "outputs": [],
   "source": [
    "# Selección de características con chi-squared\n",
    "X_train_fs, X_test_fs, fs = select_features(X_train_enc, y_train_enc, X_test_enc)"
   ]
  },
  {
   "cell_type": "code",
   "execution_count": 16,
   "metadata": {},
   "outputs": [
    {
     "name": "stdout",
     "output_type": "stream",
     "text": [
      "Característica 0: 0.472553\n",
      "Característica 1: 0.029193\n",
      "Característica 2: 2.137658\n",
      "Característica 3: 29.381059\n",
      "Característica 4: 8.222601\n",
      "Característica 5: 8.100183\n",
      "Característica 6: 1.273822\n",
      "Característica 7: 0.950682\n",
      "Característica 8: 3.699989\n"
     ]
    },
    {
     "data": {
      "image/png": "[encoded data removed]",
      "text/plain": [
       "<Figure size 432x288 with 1 Axes>"
      ]
     },
     "metadata": {
      "needs_background": "light"
     },
     "output_type": "display_data"
    }
   ],
   "source": [
    "for i in range(len(fs.scores_)):\n",
    "    print('Característica %d: %f' % (i, fs.scores_[i]))\n",
    "\n",
    "plt.bar([i for i in range(len(fs.scores_))], fs.scores_)\n",
    "plt.show()"
   ]
  },
  {
   "cell_type": "markdown",
   "metadata": {},
   "source": [
    "### Selección de características de información mutua (Mutual Information)"
   ]
  },
  {
   "cell_type": "markdown",
   "metadata": {},
   "source": [
    "La información mutua del campo de la teoría de la información es la aplicación de la ganancia de información (típicamente usada en la construcción de árboles de decisión) a la selección de características. La información mutua se calcula entre dos variables y mide la reducción de la incertidumbre de una variable dado un valor conocido de la otra variable.\n",
    "\n",
    "Al igual que `chi2()`, puede utilizarse en la estrategia de selección de características de `SelectKBest` (y otras estrategias)."
   ]
  },
  {
   "cell_type": "code",
   "execution_count": 17,
   "metadata": {},
   "outputs": [],
   "source": [
    "def select_features(X_train, y_train, X_test):\n",
    "    fs = SelectKBest(score_func=mutual_info_classif, k='all')\n",
    "    fs.fit(X_train, y_train)\n",
    "    X_train_fs = fs.transform(X_train)\n",
    "    X_test_fs = fs.transform(X_test)\n",
    "    return X_train_fs, X_test_fs, fs"
   ]
  },
  {
   "cell_type": "code",
   "execution_count": 18,
   "metadata": {},
   "outputs": [],
   "source": [
    "# Selección de características con mutual information\n",
    "X_train_fs, X_test_fs, fs = select_features(X_train_enc, y_train_enc, X_test_enc)"
   ]
  },
  {
   "cell_type": "code",
   "execution_count": 19,
   "metadata": {},
   "outputs": [
    {
     "name": "stdout",
     "output_type": "stream",
     "text": [
      "Característica 0: 0.001375\n",
      "Característica 1: 0.000000\n",
      "Característica 2: 0.092402\n",
      "Característica 3: 0.000000\n",
      "Característica 4: 0.022981\n",
      "Característica 5: 0.035529\n",
      "Característica 6: 0.045794\n",
      "Característica 7: 0.000000\n",
      "Característica 8: 0.048392\n"
     ]
    },
    {
     "data": {
      "image/png": "[encoded data removed]",
      "text/plain": [
       "<Figure size 432x288 with 1 Axes>"
      ]
     },
     "metadata": {
      "needs_background": "light"
     },
     "output_type": "display_data"
    }
   ],
   "source": [
    "for i in range(len(fs.scores_)):\n",
    "    print('Característica %d: %f' % (i, fs.scores_[i]))\n",
    "\n",
    "plt.bar([i for i in range(len(fs.scores_))], fs.scores_)\n",
    "plt.show()"
   ]
  },
  {
   "cell_type": "code",
   "execution_count": null,
   "metadata": {},
   "outputs": [],
   "source": []
  }
 ],
 "metadata": {
  "kernelspec": {
   "display_name": "myenv",
   "language": "python",
   "name": "myenv"
  },
  "language_info": {
   "codemirror_mode": {
    "name": "ipython",
    "version": 3
   },
   "file_extension": ".py",
   "mimetype": "text/x-python",
   "name": "python",
   "nbconvert_exporter": "python",
   "pygments_lexer": "ipython3",
   "version": "3.6.9"
  }
 },
 "nbformat": 4,
 "nbformat_minor": 4
}
