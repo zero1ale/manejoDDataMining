{
  "nbformat": 4,
  "nbformat_minor": 0,
  "metadata": {
    "colab": {
      "name": "Práctica G.ipynb",
      "provenance": []
    },
    "kernelspec": {
      "name": "python3",
      "display_name": "Python 3"
    }
  },
  "cells": [
    {
      "cell_type": "markdown",
      "metadata": {
        "id": "X1xALvaQWBX_",
        "colab_type": "text"
      },
      "source": [
        "# Práctica G: configurar git y github\n",
        "\n"
      ]
    },
    {
      "cell_type": "markdown",
      "metadata": {
        "id": "ciqUoT0yixVA",
        "colab_type": "text"
      },
      "source": [
        "##### Cookbook [@data_mining_2020](https://nbviewer.jupyter.org/github/JacoboGGLeon/data_mining_2020/blob/master/README.ipynb)"
      ]
    },
    {
      "cell_type": "markdown",
      "metadata": {
        "id": "EUyHB8zC5ubh",
        "colab_type": "text"
      },
      "source": [
        "## Resources"
      ]
    },
    {
      "cell_type": "markdown",
      "metadata": {
        "id": "ciPg12iW5wYw",
        "colab_type": "text"
      },
      "source": [
        "* [Git cheatsheet](https://ndpsoftware.com/git-cheatsheet.h)\n",
        "* [Installing and using Git and GitHub on Ubuntu Linux: A beginner's guide](https://www.howtoforge.com/tutorial/install-git-and-github-on-ubuntu/)\n",
        "* [How to remove origin from git repository](https://stackoverflow.com/questions/9224754/how-to-remove-origin-from-git-repository)\n",
        "\n"
      ]
    },
    {
      "cell_type": "markdown",
      "metadata": {
        "id": "703KlDUZIzsb",
        "colab_type": "text"
      },
      "source": [
        "### Highlights\n",
        "\n",
        "```\n",
        "vagrant@vagrant:~/test$ git add README\n",
        "vagrant@vagrant:~/test$ git commit -m \"primer commit\"\n",
        "[master cc2296c] primer commit\n",
        " 1 file changed, 1 insertion(+), 1 deletion(-)\n",
        "vagrant@vagrant:~/test$ git push origin master\n",
        "Username for 'https://github.com': JacoboGGLeon\n",
        "Password for 'https://JacoboGGLeon@github.com': \n",
        "Counting objects: 3, done.\n",
        "Writing objects: 100% (3/3), 257 bytes | 85.00 KiB/s, done.\n",
        "Total 3 (delta 0), reused 0 (delta 0)\n",
        "To https://github.com/JacoboGGLeon/test.git\n",
        "   c1c7113..cc2296c  master -> master\n",
        "```\n",
        "\n"
      ]
    },
    {
      "cell_type": "markdown",
      "metadata": {
        "id": "GOljQUJIirjB",
        "colab_type": "text"
      },
      "source": [
        "## Recipe "
      ]
    },
    {
      "cell_type": "markdown",
      "metadata": {
        "id": "UfPNo8E8WNHm",
        "colab_type": "text"
      },
      "source": [
        "### En terminal\n",
        "\n"
      ]
    },
    {
      "cell_type": "markdown",
      "metadata": {
        "id": "jQXuWaLx4gdB",
        "colab_type": "text"
      },
      "source": [
        "Actualizar el sistema operativo\n",
        "\n",
        "```sudo apt-get update -y && sudo apt-get upgrade -y```"
      ]
    },
    {
      "cell_type": "markdown",
      "metadata": {
        "id": "xQXis9JM4lqf",
        "colab_type": "text"
      },
      "source": [
        "Instalar git\n",
        "\n",
        "```sudo apt-get install git```"
      ]
    },
    {
      "cell_type": "markdown",
      "metadata": {
        "id": "5kXkCzU_4pwM",
        "colab_type": "text"
      },
      "source": [
        "Checar la versión instalada\n",
        "\n",
        "```git --version```"
      ]
    },
    {
      "cell_type": "markdown",
      "metadata": {
        "id": "L0PQqWAV9ufp",
        "colab_type": "text"
      },
      "source": [
        "Actualizar las credenciales de Github\n",
        "\n",
        "```git config --global user.name \"user_name\"```\n",
        "\n",
        "```git config --global user.email \"user_email\"```\n",
        "\n",
        "```git config --global user.password \"user_password\"```\n"
      ]
    },
    {
      "cell_type": "markdown",
      "metadata": {
        "id": "oXw88Tp0A9Oa",
        "colab_type": "text"
      },
      "source": [
        "Crear un repositorio en la máquina local\n",
        "\n",
        "```git init test```\n",
        "\n",
        "Respuesta esperada (similar)\n",
        "\n",
        "```Initialized empty Git repository in /home/vagrant/test/.git/```\n"
      ]
    },
    {
      "cell_type": "markdown",
      "metadata": {
        "id": "0SIlYoJsBgKN",
        "colab_type": "text"
      },
      "source": [
        "Crear un archivo \n",
        "\n",
        "```nano README```\n",
        "\n",
        "Escribir dentro de él: ¡Hola mundo!\n"
      ]
    },
    {
      "cell_type": "markdown",
      "metadata": {
        "id": "WVuSUCDDBqT1",
        "colab_type": "text"
      },
      "source": [
        "Indexar el archivo, o sea, agregarlo\n",
        " en una lista para subirlo al repositorio remoto que se encuentra en Github\n",
        "\n",
        "```git add README```\n"
      ]
    },
    {
      "cell_type": "markdown",
      "metadata": {
        "id": "p8WcfehECDdB",
        "colab_type": "text"
      },
      "source": [
        "Avisar que nuestro archivo(s) está listo para subirlo al repositorio remoto\n",
        "\n",
        "```git commit -m \"some_message\"```\n"
      ]
    },
    {
      "cell_type": "markdown",
      "metadata": {
        "id": "JwXxpHeICeev",
        "colab_type": "text"
      },
      "source": [
        "### En Github"
      ]
    },
    {
      "cell_type": "markdown",
      "metadata": {
        "id": "KNdbzZ3BCneb",
        "colab_type": "text"
      },
      "source": [
        "Crar un repositorio remoto\n",
        "\n",
        "![](https://docs.google.com/uc?export=download&id=1sgu4r1PcFb1o2x-Y8VhQe_g9aUVNiXVO)"
      ]
    },
    {
      "cell_type": "markdown",
      "metadata": {
        "id": "nHv42YcyETH6",
        "colab_type": "text"
      },
      "source": [
        "Sólo llenar el nombre del repositorio: ```test```\n",
        "\n",
        "![](https://docs.google.com/uc?export=download&id=14XwhMn1DYJETVRz7a95E_oF4TgWdH080)"
      ]
    },
    {
      "cell_type": "markdown",
      "metadata": {
        "id": "xKyrbbLWE7sj",
        "colab_type": "text"
      },
      "source": [
        "### En terminal (de nuevo)"
      ]
    },
    {
      "cell_type": "markdown",
      "metadata": {
        "id": "SwQy2fcVEo2-",
        "colab_type": "text"
      },
      "source": [
        "Agregar el origen remoto, o sea, la conexión del repositorio local con el repositorio remoto a.k.a. Github\n",
        "\n",
        "* Copiar la ruta de el repositorio remoto ```.git```  \n",
        "![](https://docs.google.com/uc?export=download&id=1VnswhRavTcZzgju-4J814WB4wH_xaucT)\n",
        "\n",
        "Y ese será el \"origen\"\n",
        " \n",
        "```git remote add origin https://github.com/user_name/test.git```\n"
      ]
    },
    {
      "cell_type": "markdown",
      "metadata": {
        "id": "7EdqvO5DFqbw",
        "colab_type": "text"
      },
      "source": [
        "Subir el archivo que enlistamos para subirse al repositorio remoto\n",
        "\n",
        "```git push origin master``` \n",
        "\n",
        "Nos pedirá dos datos: ```username``` y ```password```\n",
        "\n",
        "Así sería la respuesta (similar)\n",
        "\n",
        "\n",
        "```\n",
        "Username for 'https://github.com': JacoboGGLeon\n",
        "Password for 'https://JacoboGGLeon@github.com': \n",
        "Counting objects: 3, done.\n",
        "Writing objects: 100% (3/3), 228 bytes | 76.00 KiB/s, done.\n",
        "Total 3 (delta 0), reused 0 (delta 0)\n",
        "To https://github.com/JacoboGGLeon/test.git\n",
        " * [new branch]      master -> master\n",
        "```\n"
      ]
    },
    {
      "cell_type": "markdown",
      "metadata": {
        "id": "cj2F2aQvGk--",
        "colab_type": "text"
      },
      "source": [
        "### En Github (de nuevo, ya para acabar)"
      ]
    },
    {
      "cell_type": "markdown",
      "metadata": {
        "id": "UW0okY48GwdV",
        "colab_type": "text"
      },
      "source": [
        "Seleccionar el repositorio ```test``` y ahí debería estar \n",
        "\n",
        "![](https://docs.google.com/uc?export=download&id=1pSb5V-F1sYvwMkRjq7CzzU-X2r8F2Ys_)"
      ]
    },
    {
      "cell_type": "code",
      "metadata": {
        "id": "Y51Ryef7JX9j",
        "colab_type": "code",
        "colab": {}
      },
      "source": [
        ""
      ],
      "execution_count": 0,
      "outputs": []
    }
  ]
}