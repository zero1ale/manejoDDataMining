{
 "cells": [
  {
   "cell_type": "markdown",
   "metadata": {},
   "source": [
    "# Práctica 5: primer modelo de clasificación n-dimensional"
   ]
  },
  {
   "cell_type": "markdown",
   "metadata": {},
   "source": [
    "##### Cookbook [@data_mining_2020](https://nbviewer.jupyter.org/github/JacoboGGLeon/data_mining_2020/blob/master/README.ipynb)"
   ]
  },
  {
   "cell_type": "markdown",
   "metadata": {},
   "source": [
    "## Resources\n",
    "* [How to Perform Feature Selection with Categorical Data\n",
    "](https://machinelearningmastery.com/feature-selection-with-categorical-data/)"
   ]
  },
  {
   "cell_type": "markdown",
   "metadata": {},
   "source": [
    "## Recipe"
   ]
  },
  {
   "cell_type": "markdown",
   "metadata": {},
   "source": [
    "**Nota:** antes de implementar los siguientes métodos, debemos asegurarnos de que el `DataFrame` sólo contiene características categóricas."
   ]
  },
  {
   "cell_type": "markdown",
   "metadata": {},
   "source": [
    "Hay muchas técnicas diferentes para encontrar las características más relevantes, ¿cómo saber cuál usar?. Un enfoque sólido consiste en evaluar los modelos utilizando diferentes métodos, y seleccionar el método que resulte en un modelo con el mejor rendimiento. \n",
    "\n",
    "En esta sección, evaluaremos un modelo de Regresión Logística con todas las características en comparación con un modelo construido a partir de características seleccionadas por chi-cuadrado y aquellas características seleccionadas a través de información mutua. La regresión logística es un buen modelo para probar los métodos de selección de características, ya que puede tener un mejor rendimiento si se eliminan del modelo las características irrelevantes."
   ]
  },
  {
   "cell_type": "markdown",
   "metadata": {},
   "source": [
    "### Buscando el modelo de clasificación con todas las características"
   ]
  },
  {
   "cell_type": "markdown",
   "metadata": {},
   "source": [
    "Como primer paso, evaluaremos un modelo de `LogisticRegression` utilizando todas las características disponibles. El modelo se genera dado el conjunto de datos de entrenamiento (train) y se evalúa con el conjunto de datos de prueba (test)."
   ]
  },
  {
   "cell_type": "markdown",
   "metadata": {},
   "source": [
    "Nota: los resultados pueden variar dada la naturaleza estocástica del algoritmo de aprendizaje. Intenta ejecutar el ejemplo varias veces."
   ]
  },
  {
   "cell_type": "code",
   "execution_count": 1,
   "metadata": {},
   "outputs": [],
   "source": [
    "from pandas import read_csv\n",
    "import matplotlib.pyplot as plt\n",
    "\n",
    "from sklearn.preprocessing import LabelEncoder\n",
    "from sklearn.preprocessing import OrdinalEncoder\n",
    "from sklearn.feature_selection import SelectKBest\n",
    "from sklearn.feature_selection import chi2\n",
    "from sklearn.feature_selection import mutual_info_classif\n",
    "from sklearn.model_selection import train_test_split\n",
    "from sklearn.linear_model import LogisticRegression\n",
    "from sklearn.metrics import accuracy_score"
   ]
  },
  {
   "cell_type": "code",
   "execution_count": 2,
   "metadata": {},
   "outputs": [],
   "source": [
    "#Cargamos el dataset\n",
    "def load_dataset(filename):\n",
    "    #Como un Dataframe\n",
    "    data = read_csv(filename, header=None)\n",
    "    #Creamos una matriz con los datos\n",
    "    dataset = data.values\n",
    "    #Dividimos en X y y\n",
    "    X = dataset[:, :-1]\n",
    "    y = dataset[:,-1]\n",
    "    #Forzamos el tipo string\n",
    "    X = X.astype(str)\n",
    "    return X, y\n",
    " \n",
    "#Preparamos los datos de entrada, X\n",
    "def prepare_inputs(X_train, X_test):\n",
    "    oe = OrdinalEncoder()\n",
    "    oe.fit(X_train)\n",
    "    X_train_enc = oe.transform(X_train)\n",
    "    X_test_enc = oe.transform(X_test)\n",
    "    return X_train_enc, X_test_enc\n",
    " \n",
    "#Preparamos los datos de salida, y\n",
    "def prepare_targets(y_train, y_test):\n",
    "    le = LabelEncoder()\n",
    "    le.fit(y_train)\n",
    "    y_train_enc = le.transform(y_train)\n",
    "    y_test_enc = le.transform(y_test)\n",
    "    return y_train_enc, y_test_enc"
   ]
  },
  {
   "cell_type": "code",
   "execution_count": 3,
   "metadata": {},
   "outputs": [
    {
     "name": "stdout",
     "output_type": "stream",
     "text": [
      "Accuracy/exactitud: 75.79 %\n"
     ]
    }
   ],
   "source": [
    "#Cargamos el dataset\n",
    "file = \"https://raw.githubusercontent.com/jbrownlee/Datasets/master/breast-cancer.csv\"\n",
    "X, y = load_dataset(file)\n",
    "\n",
    "#Dividimos los datos de entrada, X, y salida, y\n",
    "X_train, X_test, y_train, y_test = train_test_split(X, y, test_size=0.33, random_state=1)\n",
    "#Preparamos a X\n",
    "X_train_enc, X_test_enc = prepare_inputs(X_train, X_test)\n",
    "#Preparamos ay\n",
    "y_train_enc, y_test_enc = prepare_targets(y_train, y_test)\n",
    "\n",
    "#Buscamos el modelo\n",
    "model = LogisticRegression(solver='lbfgs')\n",
    "model.fit(X_train_enc, y_train_enc)\n",
    "\n",
    "#Encontramos el modelo\n",
    "yhat = model.predict(X_test_enc)\n",
    "\n",
    "#Evaluamos el desempeño del modelo encontrado\n",
    "accuracy = accuracy_score(y_test_enc, yhat)\n",
    "print('Accuracy/exactitud: %.2f' % (accuracy*100), '%')"
   ]
  },
  {
   "cell_type": "markdown",
   "metadata": {},
   "source": [
    "### Buscando el modelo de clasificación con selección de características vía Chi-cuadrada"
   ]
  },
  {
   "cell_type": "code",
   "execution_count": 4,
   "metadata": {},
   "outputs": [],
   "source": [
    "#Selección de características\n",
    "def select_features(X_train, y_train, X_test):\n",
    "    fs = SelectKBest(score_func=chi2, k=4)\n",
    "    fs.fit(X_train, y_train)\n",
    "    X_train_fs = fs.transform(X_train)\n",
    "    X_test_fs = fs.transform(X_test)\n",
    "    \n",
    "    for i in range(len(fs.scores_)):\n",
    "        print('Característica %d: %f' % (i, fs.scores_[i]))\n",
    "    \n",
    "    plt.bar([i for i in range(len(fs.scores_))], fs.scores_)\n",
    "    return X_train_fs, X_test_fs"
   ]
  },
  {
   "cell_type": "code",
   "execution_count": 5,
   "metadata": {},
   "outputs": [
    {
     "name": "stdout",
     "output_type": "stream",
     "text": [
      "Característica 0: 0.472553\n",
      "Característica 1: 0.029193\n",
      "Característica 2: 2.137658\n",
      "Característica 3: 29.381059\n",
      "Característica 4: 8.222601\n",
      "Característica 5: 8.100183\n",
      "Característica 6: 1.273822\n",
      "Característica 7: 0.950682\n",
      "Característica 8: 3.699989\n",
      "Accuracy/exactitud: 74.74 %\n"
     ]
    },
    {
     "data": {
      "image/png": "[encoded data removed]",
      "text/plain": [
       "<Figure size 432x288 with 1 Axes>"
      ]
     },
     "metadata": {
      "needs_background": "light"
     },
     "output_type": "display_data"
    }
   ],
   "source": [
    "#Cargamos el dataset\n",
    "file = \"https://raw.githubusercontent.com/jbrownlee/Datasets/master/breast-cancer.csv\"\n",
    "X, y = load_dataset(file)\n",
    "\n",
    "#Dividimos los datos de entrada, X, y salida, y\n",
    "X_train, X_test, y_train, y_test = train_test_split(X, y, test_size=0.33, random_state=1)\n",
    "#Preparamos a X\n",
    "X_train_enc, X_test_enc = prepare_inputs(X_train, X_test)\n",
    "#Preparamos a y\n",
    "y_train_enc, y_test_enc = prepare_targets(y_train, y_test)\n",
    "#Selección de características\n",
    "X_train_fs, X_test_fs = select_features(X_train_enc, y_train_enc, X_test_enc)\n",
    "\n",
    "#Buscamos el modelo\n",
    "model = LogisticRegression(solver='lbfgs')\n",
    "model.fit(X_train_fs, y_train_enc)\n",
    "\n",
    "#Encontramos el modelo\n",
    "yhat = model.predict(X_test_fs)\n",
    "\n",
    "#Evaluamos el desempeño del modelo encontrado\n",
    "accuracy = accuracy_score(y_test_enc, yhat)\n",
    "print('Accuracy/exactitud: %.2f' % (accuracy*100), '%')"
   ]
  },
  {
   "cell_type": "markdown",
   "metadata": {},
   "source": [
    "### Buscando el modelo de clasificación con selección de características vía Información Mutua"
   ]
  },
  {
   "cell_type": "code",
   "execution_count": 6,
   "metadata": {},
   "outputs": [],
   "source": [
    "#Selección de características\n",
    "def select_features(X_train, y_train, X_test):\n",
    "    fs = SelectKBest(score_func=mutual_info_classif, k=4)\n",
    "    fs.fit(X_train, y_train)\n",
    "    X_train_fs = fs.transform(X_train)\n",
    "    X_test_fs = fs.transform(X_test)\n",
    "    \n",
    "    for i in range(len(fs.scores_)):\n",
    "        print('Característica %d: %f' % (i, fs.scores_[i]))\n",
    "    \n",
    "    plt.bar([i for i in range(len(fs.scores_))], fs.scores_)\n",
    "    return X_train_fs, X_test_fs"
   ]
  },
  {
   "cell_type": "code",
   "execution_count": 7,
   "metadata": {},
   "outputs": [
    {
     "name": "stdout",
     "output_type": "stream",
     "text": [
      "Característica 0: 0.032518\n",
      "Característica 1: 0.000000\n",
      "Característica 2: 0.005655\n",
      "Característica 3: 0.000000\n",
      "Característica 4: 0.009634\n",
      "Característica 5: 0.053377\n",
      "Característica 6: 0.036368\n",
      "Característica 7: 0.065294\n",
      "Característica 8: 0.000000\n",
      "Accuracy/exactitud: 65.26 %\n"
     ]
    },
    {
     "data": {
      "image/png": "[encoded data removed]",
      "text/plain": [
       "<Figure size 432x288 with 1 Axes>"
      ]
     },
     "metadata": {
      "needs_background": "light"
     },
     "output_type": "display_data"
    }
   ],
   "source": [
    "#Cargamos el dataset\n",
    "file = \"https://raw.githubusercontent.com/jbrownlee/Datasets/master/breast-cancer.csv\"\n",
    "X, y = load_dataset(file)\n",
    "\n",
    "#Dividimos los datos de entrada, X, y salida, y\n",
    "X_train, X_test, y_train, y_test = train_test_split(X, y, test_size=0.33, random_state=1)\n",
    "#Preparamos a X\n",
    "X_train_enc, X_test_enc = prepare_inputs(X_train, X_test)\n",
    "#Preparamos a y\n",
    "y_train_enc, y_test_enc = prepare_targets(y_train, y_test)\n",
    "#Selección de características\n",
    "X_train_fs, X_test_fs = select_features(X_train_enc, y_train_enc, X_test_enc)\n",
    "\n",
    "#Buscamos el modelo\n",
    "model = LogisticRegression(solver='lbfgs')\n",
    "model.fit(X_train_fs, y_train_enc)\n",
    "\n",
    "#Encontramos el modelo\n",
    "yhat = model.predict(X_test_fs)\n",
    "\n",
    "#Evaluamos el desempeño del modelo encontrado\n",
    "accuracy = accuracy_score(y_test_enc, yhat)\n",
    "print('Accuracy/exactitud: %.2f' % (accuracy*100), '%')"
   ]
  },
  {
   "cell_type": "code",
   "execution_count": null,
   "metadata": {},
   "outputs": [],
   "source": []
  }
 ],
 "metadata": {
  "kernelspec": {
   "display_name": "Python 3",
   "language": "python",
   "name": "python3"
  },
  "language_info": {
   "codemirror_mode": {
    "name": "ipython",
    "version": 3
   },
   "file_extension": ".py",
   "mimetype": "text/x-python",
   "name": "python",
   "nbconvert_exporter": "python",
   "pygments_lexer": "ipython3",
   "version": "3.6.9"
  }
 },
 "nbformat": 4,
 "nbformat_minor": 4
}
