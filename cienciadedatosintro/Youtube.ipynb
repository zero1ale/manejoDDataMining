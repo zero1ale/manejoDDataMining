{
 "cells": [
  {
   "cell_type": "code",
   "execution_count": 1,
   "metadata": {},
   "outputs": [],
   "source": [
    "import pandas as pd\n",
    "import numpy as np\n",
    "import emoji\n",
    "from datetime import date\n",
    "from dateutil.relativedelta import relativedelta as rd\n",
    "import matplotlib.pyplot as plt\n",
    "import seaborn as sns\n",
    "%matplotlib inline"
   ]
  },
  {
   "cell_type": "code",
   "execution_count": 2,
   "metadata": {},
   "outputs": [],
   "source": [
    "df = pd.read_csv('MXvideos.csv',error_bad_lines=False,encoding='iso-8859-1')"
   ]
  },
  {
   "cell_type": "code",
   "execution_count": 3,
   "metadata": {},
   "outputs": [],
   "source": [
    "df = df[['publish_time','views','likes','dislikes','comment_count','description']]"
   ]
  },
  {
   "cell_type": "code",
   "execution_count": 4,
   "metadata": {},
   "outputs": [],
   "source": [
    "df['antig']= (date.today()-pd.to_datetime(df['publish_time'].map(lambda x:x[:10])).dt.date)/np.timedelta64(1,'Y')"
   ]
  },
  {
   "cell_type": "code",
   "execution_count": 5,
   "metadata": {},
   "outputs": [],
   "source": [
    "df['ratio'] =df['likes']/(df['likes']+df['dislikes'])"
   ]
  },
  {
   "cell_type": "code",
   "execution_count": 6,
   "metadata": {},
   "outputs": [],
   "source": [
    "df.drop(['publish_time','likes','dislikes'],axis=1,inplace=True)"
   ]
  },
  {
   "cell_type": "code",
   "execution_count": 7,
   "metadata": {},
   "outputs": [],
   "source": [
    "varc = [v for v in df.columns if v!='description']"
   ]
  },
  {
   "cell_type": "code",
   "execution_count": 8,
   "metadata": {},
   "outputs": [
    {
     "data": {
      "text/plain": [
       "array([[<matplotlib.axes._subplots.AxesSubplot object at 0x7fa8cf792b38>,\n",
       "        <matplotlib.axes._subplots.AxesSubplot object at 0x7fa8cf638438>],\n",
       "       [<matplotlib.axes._subplots.AxesSubplot object at 0x7fa8cee2f9e8>,\n",
       "        <matplotlib.axes._subplots.AxesSubplot object at 0x7fa8cedf8f98>]],\n",
       "      dtype=object)"
      ]
     },
     "execution_count": 8,
     "metadata": {},
     "output_type": "execute_result"
    },
    {
     "data": {
      "image/png": "[encoded data removed]",
      "text/plain": [
       "<Figure size 432x288 with 4 Axes>"
      ]
     },
     "metadata": {
      "needs_background": "light"
     },
     "output_type": "display_data"
    }
   ],
   "source": [
    "df[varc].hist()"
   ]
  },
  {
   "cell_type": "code",
   "execution_count": 9,
   "metadata": {},
   "outputs": [
    {
     "data": {
      "text/html": [
       "<div>\n",
       "<style scoped>\n",
       "    .dataframe tbody tr th:only-of-type {\n",
       "        vertical-align: middle;\n",
       "    }\n",
       "\n",
       "    .dataframe tbody tr th {\n",
       "        vertical-align: top;\n",
       "    }\n",
       "\n",
       "    .dataframe thead th {\n",
       "        text-align: right;\n",
       "    }\n",
       "</style>\n",
       "<table border=\"1\" class=\"dataframe\">\n",
       "  <thead>\n",
       "    <tr style=\"text-align: right;\">\n",
       "      <th></th>\n",
       "      <th>views</th>\n",
       "      <th>comment_count</th>\n",
       "      <th>antig</th>\n",
       "      <th>ratio</th>\n",
       "    </tr>\n",
       "  </thead>\n",
       "  <tbody>\n",
       "    <tr>\n",
       "      <th>count</th>\n",
       "      <td>4.045100e+04</td>\n",
       "      <td>40451.000000</td>\n",
       "      <td>40451.000000</td>\n",
       "      <td>39815.000000</td>\n",
       "    </tr>\n",
       "    <tr>\n",
       "      <th>mean</th>\n",
       "      <td>3.423820e+05</td>\n",
       "      <td>2039.660008</td>\n",
       "      <td>1.663781</td>\n",
       "      <td>0.918961</td>\n",
       "    </tr>\n",
       "    <tr>\n",
       "      <th>std</th>\n",
       "      <td>1.714691e+06</td>\n",
       "      <td>13938.031797</td>\n",
       "      <td>0.205521</td>\n",
       "      <td>0.105900</td>\n",
       "    </tr>\n",
       "    <tr>\n",
       "      <th>min</th>\n",
       "      <td>1.570000e+02</td>\n",
       "      <td>0.000000</td>\n",
       "      <td>1.363478</td>\n",
       "      <td>0.000000</td>\n",
       "    </tr>\n",
       "    <tr>\n",
       "      <th>0%</th>\n",
       "      <td>1.570000e+02</td>\n",
       "      <td>0.000000</td>\n",
       "      <td>1.363478</td>\n",
       "      <td>0.000000</td>\n",
       "    </tr>\n",
       "    <tr>\n",
       "      <th>1%</th>\n",
       "      <td>2.202000e+03</td>\n",
       "      <td>0.000000</td>\n",
       "      <td>1.371691</td>\n",
       "      <td>0.467604</td>\n",
       "    </tr>\n",
       "    <tr>\n",
       "      <th>2%</th>\n",
       "      <td>2.872000e+03</td>\n",
       "      <td>0.000000</td>\n",
       "      <td>1.377167</td>\n",
       "      <td>0.579900</td>\n",
       "    </tr>\n",
       "    <tr>\n",
       "      <th>3%</th>\n",
       "      <td>3.415500e+03</td>\n",
       "      <td>1.000000</td>\n",
       "      <td>1.382643</td>\n",
       "      <td>0.638217</td>\n",
       "    </tr>\n",
       "    <tr>\n",
       "      <th>4%</th>\n",
       "      <td>3.895000e+03</td>\n",
       "      <td>2.000000</td>\n",
       "      <td>1.388119</td>\n",
       "      <td>0.678292</td>\n",
       "    </tr>\n",
       "    <tr>\n",
       "      <th>5%</th>\n",
       "      <td>4.422000e+03</td>\n",
       "      <td>3.000000</td>\n",
       "      <td>1.396333</td>\n",
       "      <td>0.709182</td>\n",
       "    </tr>\n",
       "    <tr>\n",
       "      <th>6%</th>\n",
       "      <td>4.884000e+03</td>\n",
       "      <td>5.000000</td>\n",
       "      <td>1.401808</td>\n",
       "      <td>0.734795</td>\n",
       "    </tr>\n",
       "    <tr>\n",
       "      <th>7%</th>\n",
       "      <td>5.399000e+03</td>\n",
       "      <td>6.000000</td>\n",
       "      <td>1.407284</td>\n",
       "      <td>0.756222</td>\n",
       "    </tr>\n",
       "    <tr>\n",
       "      <th>8%</th>\n",
       "      <td>5.872000e+03</td>\n",
       "      <td>7.000000</td>\n",
       "      <td>1.412760</td>\n",
       "      <td>0.773089</td>\n",
       "    </tr>\n",
       "    <tr>\n",
       "      <th>9%</th>\n",
       "      <td>6.385500e+03</td>\n",
       "      <td>8.000000</td>\n",
       "      <td>1.418236</td>\n",
       "      <td>0.788288</td>\n",
       "    </tr>\n",
       "    <tr>\n",
       "      <th>10%</th>\n",
       "      <td>6.887000e+03</td>\n",
       "      <td>9.000000</td>\n",
       "      <td>1.426450</td>\n",
       "      <td>0.801031</td>\n",
       "    </tr>\n",
       "    <tr>\n",
       "      <th>11%</th>\n",
       "      <td>7.397000e+03</td>\n",
       "      <td>11.000000</td>\n",
       "      <td>1.431925</td>\n",
       "      <td>0.813106</td>\n",
       "    </tr>\n",
       "    <tr>\n",
       "      <th>12%</th>\n",
       "      <td>7.942000e+03</td>\n",
       "      <td>12.000000</td>\n",
       "      <td>1.437401</td>\n",
       "      <td>0.823529</td>\n",
       "    </tr>\n",
       "    <tr>\n",
       "      <th>13%</th>\n",
       "      <td>8.440000e+03</td>\n",
       "      <td>14.000000</td>\n",
       "      <td>1.442877</td>\n",
       "      <td>0.832512</td>\n",
       "    </tr>\n",
       "    <tr>\n",
       "      <th>14%</th>\n",
       "      <td>9.051000e+03</td>\n",
       "      <td>16.000000</td>\n",
       "      <td>1.448353</td>\n",
       "      <td>0.840488</td>\n",
       "    </tr>\n",
       "    <tr>\n",
       "      <th>15%</th>\n",
       "      <td>9.652500e+03</td>\n",
       "      <td>17.000000</td>\n",
       "      <td>1.453829</td>\n",
       "      <td>0.847770</td>\n",
       "    </tr>\n",
       "    <tr>\n",
       "      <th>16%</th>\n",
       "      <td>1.019300e+04</td>\n",
       "      <td>19.000000</td>\n",
       "      <td>1.459304</td>\n",
       "      <td>0.854799</td>\n",
       "    </tr>\n",
       "    <tr>\n",
       "      <th>17%</th>\n",
       "      <td>1.085350e+04</td>\n",
       "      <td>21.000000</td>\n",
       "      <td>1.464780</td>\n",
       "      <td>0.861261</td>\n",
       "    </tr>\n",
       "    <tr>\n",
       "      <th>18%</th>\n",
       "      <td>1.152100e+04</td>\n",
       "      <td>23.000000</td>\n",
       "      <td>1.470256</td>\n",
       "      <td>0.866667</td>\n",
       "    </tr>\n",
       "    <tr>\n",
       "      <th>19%</th>\n",
       "      <td>1.222300e+04</td>\n",
       "      <td>26.000000</td>\n",
       "      <td>1.475732</td>\n",
       "      <td>0.872340</td>\n",
       "    </tr>\n",
       "    <tr>\n",
       "      <th>20%</th>\n",
       "      <td>1.297000e+04</td>\n",
       "      <td>28.000000</td>\n",
       "      <td>1.481208</td>\n",
       "      <td>0.877551</td>\n",
       "    </tr>\n",
       "    <tr>\n",
       "      <th>21%</th>\n",
       "      <td>1.366800e+04</td>\n",
       "      <td>30.000000</td>\n",
       "      <td>1.486684</td>\n",
       "      <td>0.882455</td>\n",
       "    </tr>\n",
       "    <tr>\n",
       "      <th>22%</th>\n",
       "      <td>1.444400e+04</td>\n",
       "      <td>33.000000</td>\n",
       "      <td>1.494897</td>\n",
       "      <td>0.887064</td>\n",
       "    </tr>\n",
       "    <tr>\n",
       "      <th>23%</th>\n",
       "      <td>1.516100e+04</td>\n",
       "      <td>36.000000</td>\n",
       "      <td>1.497635</td>\n",
       "      <td>0.891089</td>\n",
       "    </tr>\n",
       "    <tr>\n",
       "      <th>24%</th>\n",
       "      <td>1.599000e+04</td>\n",
       "      <td>38.000000</td>\n",
       "      <td>1.505849</td>\n",
       "      <td>0.895349</td>\n",
       "    </tr>\n",
       "    <tr>\n",
       "      <th>25%</th>\n",
       "      <td>1.681300e+04</td>\n",
       "      <td>42.000000</td>\n",
       "      <td>1.511325</td>\n",
       "      <td>0.899262</td>\n",
       "    </tr>\n",
       "    <tr>\n",
       "      <th>...</th>\n",
       "      <td>...</td>\n",
       "      <td>...</td>\n",
       "      <td>...</td>\n",
       "      <td>...</td>\n",
       "    </tr>\n",
       "    <tr>\n",
       "      <th>71%</th>\n",
       "      <td>1.657340e+05</td>\n",
       "      <td>670.000000</td>\n",
       "      <td>1.782377</td>\n",
       "      <td>0.978885</td>\n",
       "    </tr>\n",
       "    <tr>\n",
       "      <th>72%</th>\n",
       "      <td>1.755470e+05</td>\n",
       "      <td>713.000000</td>\n",
       "      <td>1.793329</td>\n",
       "      <td>0.979540</td>\n",
       "    </tr>\n",
       "    <tr>\n",
       "      <th>73%</th>\n",
       "      <td>1.856705e+05</td>\n",
       "      <td>768.000000</td>\n",
       "      <td>1.798805</td>\n",
       "      <td>0.980264</td>\n",
       "    </tr>\n",
       "    <tr>\n",
       "      <th>74%</th>\n",
       "      <td>1.955520e+05</td>\n",
       "      <td>824.000000</td>\n",
       "      <td>1.804281</td>\n",
       "      <td>0.980850</td>\n",
       "    </tr>\n",
       "    <tr>\n",
       "      <th>75%</th>\n",
       "      <td>2.068940e+05</td>\n",
       "      <td>885.000000</td>\n",
       "      <td>1.809757</td>\n",
       "      <td>0.981512</td>\n",
       "    </tr>\n",
       "    <tr>\n",
       "      <th>76%</th>\n",
       "      <td>2.205230e+05</td>\n",
       "      <td>950.000000</td>\n",
       "      <td>1.815232</td>\n",
       "      <td>0.982137</td>\n",
       "    </tr>\n",
       "    <tr>\n",
       "      <th>77%</th>\n",
       "      <td>2.356920e+05</td>\n",
       "      <td>1025.000000</td>\n",
       "      <td>1.820708</td>\n",
       "      <td>0.982780</td>\n",
       "    </tr>\n",
       "    <tr>\n",
       "      <th>78%</th>\n",
       "      <td>2.510430e+05</td>\n",
       "      <td>1104.000000</td>\n",
       "      <td>1.826184</td>\n",
       "      <td>0.983425</td>\n",
       "    </tr>\n",
       "    <tr>\n",
       "      <th>79%</th>\n",
       "      <td>2.682835e+05</td>\n",
       "      <td>1193.000000</td>\n",
       "      <td>1.831660</td>\n",
       "      <td>0.984020</td>\n",
       "    </tr>\n",
       "    <tr>\n",
       "      <th>80%</th>\n",
       "      <td>2.866170e+05</td>\n",
       "      <td>1287.000000</td>\n",
       "      <td>1.837136</td>\n",
       "      <td>0.984579</td>\n",
       "    </tr>\n",
       "    <tr>\n",
       "      <th>81%</th>\n",
       "      <td>3.066120e+05</td>\n",
       "      <td>1388.000000</td>\n",
       "      <td>1.842611</td>\n",
       "      <td>0.985181</td>\n",
       "    </tr>\n",
       "    <tr>\n",
       "      <th>82%</th>\n",
       "      <td>3.294900e+05</td>\n",
       "      <td>1493.000000</td>\n",
       "      <td>1.848087</td>\n",
       "      <td>0.985765</td>\n",
       "    </tr>\n",
       "    <tr>\n",
       "      <th>83%</th>\n",
       "      <td>3.547265e+05</td>\n",
       "      <td>1620.000000</td>\n",
       "      <td>1.853563</td>\n",
       "      <td>0.986296</td>\n",
       "    </tr>\n",
       "    <tr>\n",
       "      <th>84%</th>\n",
       "      <td>3.817720e+05</td>\n",
       "      <td>1755.000000</td>\n",
       "      <td>1.859039</td>\n",
       "      <td>0.986831</td>\n",
       "    </tr>\n",
       "    <tr>\n",
       "      <th>85%</th>\n",
       "      <td>4.104845e+05</td>\n",
       "      <td>1890.500000</td>\n",
       "      <td>1.864515</td>\n",
       "      <td>0.987388</td>\n",
       "    </tr>\n",
       "    <tr>\n",
       "      <th>86%</th>\n",
       "      <td>4.469780e+05</td>\n",
       "      <td>2049.000000</td>\n",
       "      <td>1.869990</td>\n",
       "      <td>0.987909</td>\n",
       "    </tr>\n",
       "    <tr>\n",
       "      <th>87%</th>\n",
       "      <td>4.870720e+05</td>\n",
       "      <td>2254.000000</td>\n",
       "      <td>1.875466</td>\n",
       "      <td>0.988408</td>\n",
       "    </tr>\n",
       "    <tr>\n",
       "      <th>88%</th>\n",
       "      <td>5.318470e+05</td>\n",
       "      <td>2471.000000</td>\n",
       "      <td>1.880942</td>\n",
       "      <td>0.988927</td>\n",
       "    </tr>\n",
       "    <tr>\n",
       "      <th>89%</th>\n",
       "      <td>5.858225e+05</td>\n",
       "      <td>2746.000000</td>\n",
       "      <td>1.889156</td>\n",
       "      <td>0.989501</td>\n",
       "    </tr>\n",
       "    <tr>\n",
       "      <th>90%</th>\n",
       "      <td>6.511910e+05</td>\n",
       "      <td>3072.000000</td>\n",
       "      <td>1.891894</td>\n",
       "      <td>0.990095</td>\n",
       "    </tr>\n",
       "    <tr>\n",
       "      <th>91%</th>\n",
       "      <td>7.259505e+05</td>\n",
       "      <td>3487.500000</td>\n",
       "      <td>1.900107</td>\n",
       "      <td>0.990777</td>\n",
       "    </tr>\n",
       "    <tr>\n",
       "      <th>92%</th>\n",
       "      <td>8.118320e+05</td>\n",
       "      <td>4026.000000</td>\n",
       "      <td>1.902845</td>\n",
       "      <td>0.991392</td>\n",
       "    </tr>\n",
       "    <tr>\n",
       "      <th>93%</th>\n",
       "      <td>9.151840e+05</td>\n",
       "      <td>4768.000000</td>\n",
       "      <td>1.908321</td>\n",
       "      <td>0.992053</td>\n",
       "    </tr>\n",
       "    <tr>\n",
       "      <th>94%</th>\n",
       "      <td>1.038615e+06</td>\n",
       "      <td>5750.000000</td>\n",
       "      <td>1.913797</td>\n",
       "      <td>0.992696</td>\n",
       "    </tr>\n",
       "    <tr>\n",
       "      <th>95%</th>\n",
       "      <td>1.206130e+06</td>\n",
       "      <td>7224.000000</td>\n",
       "      <td>1.919273</td>\n",
       "      <td>0.993445</td>\n",
       "    </tr>\n",
       "    <tr>\n",
       "      <th>96%</th>\n",
       "      <td>1.439866e+06</td>\n",
       "      <td>9594.000000</td>\n",
       "      <td>1.927487</td>\n",
       "      <td>0.994237</td>\n",
       "    </tr>\n",
       "    <tr>\n",
       "      <th>97%</th>\n",
       "      <td>1.791237e+06</td>\n",
       "      <td>13514.000000</td>\n",
       "      <td>1.932962</td>\n",
       "      <td>0.995211</td>\n",
       "    </tr>\n",
       "    <tr>\n",
       "      <th>98%</th>\n",
       "      <td>2.486637e+06</td>\n",
       "      <td>19319.000000</td>\n",
       "      <td>1.938438</td>\n",
       "      <td>0.996576</td>\n",
       "    </tr>\n",
       "    <tr>\n",
       "      <th>99%</th>\n",
       "      <td>4.398968e+06</td>\n",
       "      <td>31637.000000</td>\n",
       "      <td>1.943914</td>\n",
       "      <td>0.998776</td>\n",
       "    </tr>\n",
       "    <tr>\n",
       "      <th>max</th>\n",
       "      <td>1.009124e+08</td>\n",
       "      <td>905925.000000</td>\n",
       "      <td>10.048119</td>\n",
       "      <td>1.000000</td>\n",
       "    </tr>\n",
       "  </tbody>\n",
       "</table>\n",
       "<p>105 rows × 4 columns</p>\n",
       "</div>"
      ],
      "text/plain": [
       "              views  comment_count         antig         ratio\n",
       "count  4.045100e+04   40451.000000  40451.000000  39815.000000\n",
       "mean   3.423820e+05    2039.660008      1.663781      0.918961\n",
       "std    1.714691e+06   13938.031797      0.205521      0.105900\n",
       "min    1.570000e+02       0.000000      1.363478      0.000000\n",
       "0%     1.570000e+02       0.000000      1.363478      0.000000\n",
       "...             ...            ...           ...           ...\n",
       "96%    1.439866e+06    9594.000000      1.927487      0.994237\n",
       "97%    1.791237e+06   13514.000000      1.932962      0.995211\n",
       "98%    2.486637e+06   19319.000000      1.938438      0.996576\n",
       "99%    4.398968e+06   31637.000000      1.943914      0.998776\n",
       "max    1.009124e+08  905925.000000     10.048119      1.000000\n",
       "\n",
       "[105 rows x 4 columns]"
      ]
     },
     "execution_count": 9,
     "metadata": {},
     "output_type": "execute_result"
    }
   ],
   "source": [
    "df[varc].describe(percentiles=np.arange(0,1,0.01))"
   ]
  },
  {
   "cell_type": "code",
   "execution_count": 10,
   "metadata": {},
   "outputs": [
    {
     "data": {
      "text/plain": [
       "40451"
      ]
     },
     "execution_count": 10,
     "metadata": {},
     "output_type": "execute_result"
    }
   ],
   "source": [
    "len(df)"
   ]
  },
  {
   "cell_type": "code",
   "execution_count": 11,
   "metadata": {},
   "outputs": [],
   "source": [
    "df.dropna(inplace=True)"
   ]
  },
  {
   "cell_type": "code",
   "execution_count": 12,
   "metadata": {},
   "outputs": [
    {
     "data": {
      "text/plain": [
       "35818"
      ]
     },
     "execution_count": 12,
     "metadata": {},
     "output_type": "execute_result"
    }
   ],
   "source": [
    "len(df)"
   ]
  },
  {
   "cell_type": "code",
   "execution_count": 13,
   "metadata": {},
   "outputs": [],
   "source": [
    "df.reset_index(drop=True,inplace=True)"
   ]
  },
  {
   "cell_type": "code",
   "execution_count": 14,
   "metadata": {},
   "outputs": [],
   "source": [
    "X = df[varc].copy()"
   ]
  },
  {
   "cell_type": "code",
   "execution_count": 15,
   "metadata": {},
   "outputs": [],
   "source": [
    "from sklearn.preprocessing import StandardScaler,MinMaxScaler\n",
    "from sklearn.decomposition import PCA\n",
    "from sklearn.cluster import KMeans"
   ]
  },
  {
   "cell_type": "code",
   "execution_count": 16,
   "metadata": {},
   "outputs": [],
   "source": [
    "sc = StandardScaler()\n",
    "sc.fit(X)\n",
    "Xs = pd.DataFrame(sc.transform(X),columns=varc)"
   ]
  },
  {
   "cell_type": "code",
   "execution_count": 17,
   "metadata": {},
   "outputs": [],
   "source": [
    "sc = MinMaxScaler()\n",
    "sc.fit(X)\n",
    "Xm= pd.DataFrame(sc.transform(X),columns=varc)"
   ]
  },
  {
   "cell_type": "code",
   "execution_count": 18,
   "metadata": {},
   "outputs": [],
   "source": [
    "pca = PCA(n_components=3)\n",
    "pca.fit(Xs)\n",
    "Xp = pd.DataFrame(pca.transform(Xs),columns=['p1','p2','p3'])"
   ]
  },
  {
   "cell_type": "code",
   "execution_count": 19,
   "metadata": {},
   "outputs": [
    {
     "name": "stdout",
     "output_type": "stream",
     "text": [
      "[0.42368884 0.67637655 0.92344559]\n"
     ]
    }
   ],
   "source": [
    "print(pca.explained_variance_ratio_.cumsum())"
   ]
  },
  {
   "cell_type": "code",
   "execution_count": 20,
   "metadata": {},
   "outputs": [
    {
     "data": {
      "text/plain": [
       "<seaborn.axisgrid.FacetGrid at 0x7fa8cfd4fb70>"
      ]
     },
     "execution_count": 20,
     "metadata": {},
     "output_type": "execute_result"
    },
    {
     "data": {
      "image/png": "[encoded data removed]",
      "text/plain": [
       "<Figure size 360x360 with 1 Axes>"
      ]
     },
     "metadata": {
      "needs_background": "light"
     },
     "output_type": "display_data"
    }
   ],
   "source": [
    "sns.lmplot(data=Xp,x='p1',y='p2',fit_reg=False)"
   ]
  },
  {
   "cell_type": "code",
   "execution_count": 21,
   "metadata": {},
   "outputs": [],
   "source": [
    "lst = []\n",
    "for k in range(2,11):\n",
    "    cl = KMeans(n_clusters=k)\n",
    "    cl.fit(Xm)\n",
    "    lst.append(cl.inertia_)"
   ]
  },
  {
   "cell_type": "code",
   "execution_count": 22,
   "metadata": {},
   "outputs": [
    {
     "data": {
      "text/plain": [
       "[<matplotlib.lines.Line2D at 0x7fa8cfc15908>]"
      ]
     },
     "execution_count": 22,
     "metadata": {},
     "output_type": "execute_result"
    },
    {
     "data": {
      "image/png": "[encoded data removed]",
      "text/plain": [
       "<Figure size 432x288 with 1 Axes>"
      ]
     },
     "metadata": {
      "needs_background": "light"
     },
     "output_type": "display_data"
    }
   ],
   "source": [
    "plt.plot(range(2,11),lst,marker='o')"
   ]
  },
  {
   "cell_type": "code",
   "execution_count": 23,
   "metadata": {},
   "outputs": [],
   "source": [
    "cl = KMeans(n_clusters=5)\n",
    "cl.fit(Xm)\n",
    "Xp['cl']= df['cl'] = cl.predict(Xm)"
   ]
  },
  {
   "cell_type": "code",
   "execution_count": 24,
   "metadata": {},
   "outputs": [
    {
     "data": {
      "text/plain": [
       "4    0.625775\n",
       "0    0.223016\n",
       "3    0.098442\n",
       "1    0.040790\n",
       "2    0.011977\n",
       "Name: cl, dtype: float64"
      ]
     },
     "execution_count": 24,
     "metadata": {},
     "output_type": "execute_result"
    }
   ],
   "source": [
    "df.cl.value_counts(True)"
   ]
  },
  {
   "cell_type": "code",
   "execution_count": 25,
   "metadata": {},
   "outputs": [
    {
     "data": {
      "text/plain": [
       "<seaborn.axisgrid.FacetGrid at 0x7fa8cfd4f198>"
      ]
     },
     "execution_count": 25,
     "metadata": {},
     "output_type": "execute_result"
    },
    {
     "data": {
      "image/png": "[encoded data removed]",
      "text/plain": [
       "<Figure size 402.375x360 with 1 Axes>"
      ]
     },
     "metadata": {
      "needs_background": "light"
     },
     "output_type": "display_data"
    }
   ],
   "source": [
    "sns.lmplot(data=Xp.sample(1000),x='p1',y='p2',fit_reg=False,hue='cl')"
   ]
  },
  {
   "cell_type": "code",
   "execution_count": 26,
   "metadata": {},
   "outputs": [
    {
     "data": {
      "text/html": [
       "<div>\n",
       "<style scoped>\n",
       "    .dataframe tbody tr th:only-of-type {\n",
       "        vertical-align: middle;\n",
       "    }\n",
       "\n",
       "    .dataframe tbody tr th {\n",
       "        vertical-align: top;\n",
       "    }\n",
       "\n",
       "    .dataframe thead th {\n",
       "        text-align: right;\n",
       "    }\n",
       "</style>\n",
       "<table border=\"1\" class=\"dataframe\">\n",
       "  <thead>\n",
       "    <tr style=\"text-align: right;\">\n",
       "      <th></th>\n",
       "      <th>views</th>\n",
       "      <th>comment_count</th>\n",
       "      <th>antig</th>\n",
       "      <th>ratio</th>\n",
       "    </tr>\n",
       "    <tr>\n",
       "      <th>cl</th>\n",
       "      <th></th>\n",
       "      <th></th>\n",
       "      <th></th>\n",
       "      <th></th>\n",
       "    </tr>\n",
       "  </thead>\n",
       "  <tbody>\n",
       "    <tr>\n",
       "      <th>0</th>\n",
       "      <td>310450.123435</td>\n",
       "      <td>1225.407737</td>\n",
       "      <td>1.656007</td>\n",
       "      <td>0.904524</td>\n",
       "    </tr>\n",
       "    <tr>\n",
       "      <th>1</th>\n",
       "      <td>473449.725530</td>\n",
       "      <td>2651.733744</td>\n",
       "      <td>1.665676</td>\n",
       "      <td>0.642431</td>\n",
       "    </tr>\n",
       "    <tr>\n",
       "      <th>2</th>\n",
       "      <td>219399.074592</td>\n",
       "      <td>813.272727</td>\n",
       "      <td>1.664060</td>\n",
       "      <td>0.360901</td>\n",
       "    </tr>\n",
       "    <tr>\n",
       "      <th>3</th>\n",
       "      <td>259510.920306</td>\n",
       "      <td>887.393931</td>\n",
       "      <td>1.653866</td>\n",
       "      <td>0.802214</td>\n",
       "    </tr>\n",
       "    <tr>\n",
       "      <th>4</th>\n",
       "      <td>398856.935799</td>\n",
       "      <td>2842.509280</td>\n",
       "      <td>1.667583</td>\n",
       "      <td>0.974860</td>\n",
       "    </tr>\n",
       "  </tbody>\n",
       "</table>\n",
       "</div>"
      ],
      "text/plain": [
       "            views  comment_count     antig     ratio\n",
       "cl                                                  \n",
       "0   310450.123435    1225.407737  1.656007  0.904524\n",
       "1   473449.725530    2651.733744  1.665676  0.642431\n",
       "2   219399.074592     813.272727  1.664060  0.360901\n",
       "3   259510.920306     887.393931  1.653866  0.802214\n",
       "4   398856.935799    2842.509280  1.667583  0.974860"
      ]
     },
     "execution_count": 26,
     "metadata": {},
     "output_type": "execute_result"
    }
   ],
   "source": [
    "df.groupby('cl').mean()"
   ]
  },
  {
   "cell_type": "code",
   "execution_count": 29,
   "metadata": {},
   "outputs": [
    {
     "data": {
      "text/html": [
       "<div>\n",
       "<style scoped>\n",
       "    .dataframe tbody tr th:only-of-type {\n",
       "        vertical-align: middle;\n",
       "    }\n",
       "\n",
       "    .dataframe tbody tr th {\n",
       "        vertical-align: top;\n",
       "    }\n",
       "\n",
       "    .dataframe thead th {\n",
       "        text-align: right;\n",
       "    }\n",
       "</style>\n",
       "<table border=\"1\" class=\"dataframe\">\n",
       "  <thead>\n",
       "    <tr style=\"text-align: right;\">\n",
       "      <th></th>\n",
       "      <th>views</th>\n",
       "      <th>comment_count</th>\n",
       "      <th>antig</th>\n",
       "      <th>ratio</th>\n",
       "    </tr>\n",
       "  </thead>\n",
       "  <tbody>\n",
       "    <tr>\n",
       "      <th>0</th>\n",
       "      <td>366316.452677</td>\n",
       "      <td>2257.317215</td>\n",
       "      <td>1.663531</td>\n",
       "      <td>0.921265</td>\n",
       "    </tr>\n",
       "  </tbody>\n",
       "</table>\n",
       "</div>"
      ],
      "text/plain": [
       "           views  comment_count     antig     ratio\n",
       "0  366316.452677    2257.317215  1.663531  0.921265"
      ]
     },
     "execution_count": 29,
     "metadata": {},
     "output_type": "execute_result"
    }
   ],
   "source": [
    "df[varc].mean().to_frame().T"
   ]
  },
  {
   "cell_type": "code",
   "execution_count": 33,
   "metadata": {},
   "outputs": [],
   "source": [
    "pd.set_option('display.max_colwidth',-1)"
   ]
  },
  {
   "cell_type": "code",
   "execution_count": 52,
   "metadata": {},
   "outputs": [
    {
     "data": {
      "text/html": [
       "<div>\n",
       "<style scoped>\n",
       "    .dataframe tbody tr th:only-of-type {\n",
       "        vertical-align: middle;\n",
       "    }\n",
       "\n",
       "    .dataframe tbody tr th {\n",
       "        vertical-align: top;\n",
       "    }\n",
       "\n",
       "    .dataframe thead th {\n",
       "        text-align: right;\n",
       "    }\n",
       "</style>\n",
       "<table border=\"1\" class=\"dataframe\">\n",
       "  <thead>\n",
       "    <tr style=\"text-align: right;\">\n",
       "      <th></th>\n",
       "      <th>views</th>\n",
       "      <th>comment_count</th>\n",
       "      <th>description</th>\n",
       "      <th>antig</th>\n",
       "      <th>ratio</th>\n",
       "      <th>cl</th>\n",
       "    </tr>\n",
       "  </thead>\n",
       "  <tbody>\n",
       "    <tr>\n",
       "      <th>28765</th>\n",
       "      <td>9148</td>\n",
       "      <td>6</td>\n",
       "      <td>Mi pareja puede con Facundo - Lunes a Jueves 7:30 pm por Azteca 7 y http://www.azteca7.com/miparejapuede</td>\n",
       "      <td>1.478470</td>\n",
       "      <td>0.948718</td>\n",
       "      <td>4</td>\n",
       "    </tr>\n",
       "    <tr>\n",
       "      <th>18184</th>\n",
       "      <td>134023</td>\n",
       "      <td>1257</td>\n",
       "      <td>TUCA no quiere que se repita la VIOLENCIA en VERACRUZ. CHICHARITO pudo jugar en RUSIA y en otro equipo INGLÃS. GIOVANI anotÃ³ su primer gol del aÃ±o.\\n\\nESTO Y MÃS EN CRACKS MX! \\n\\nâº Twitter RubÃ©n Ortega: https://twitter.com/Ruben_Ortega18\\nâº Twitter Cracks Mx: https://twitter.com/mx_cracks\\nâº Twitter Charly MunguÃ­a: https://twitter.com/CharlyMunguia\\nâº Twitter IraÃ­s Moreno: https://twitter.com/iraismore\\nâº Facebook: https://www.facebook.com/mx.cracks/\\nâº Instagram: https://www.instagram.com/mx_cracks/\\nâº Instagram RubÃ©n: https://www.instagram.com/ruben_cracks/\\nâº Instagram IraÃ­s: https://www.instagram.com/iraismmore/\\nâº Instagram Charly: https://www.instagram.com/charlymunguia/\\nâº Suscribete al canal de Charly: https://www.youtube.com/user/CharlyMunguia\\n\\nhttp://www.cracks.mx</td>\n",
       "      <td>1.656434</td>\n",
       "      <td>0.981573</td>\n",
       "      <td>4</td>\n",
       "    </tr>\n",
       "    <tr>\n",
       "      <th>27833</th>\n",
       "      <td>11366</td>\n",
       "      <td>274</td>\n",
       "      <td>Mis chuladas aquÃ­ les dejo 3 ideas muy sencillas y rÃ¡pidas para hacer tarjetas lindas a MamÃ¡, #DiaDeLasMadres\\n\\nMÃ¡s ideas para MamÃ¡ da clickðð»  https://bit.ly/2HCKBQW\\n\\nSÃ­gueme en nuestras redes sociales\\nâ",
       " â© https://www.facebook.com/Chuladascreativas\\nâ",
       " â© https://www.chuladascreativas.com\\nâ",
       " â© https://www.instagram.com/sammilychuladas\\nâ",
       " â©Twitter: @ChuladasSammily\\nâ",
       " â© Mi otro Canal de Vlogs: http://bit.ly/2Fm1KAf\\n\\nPurse Organizer, Purse Switch</td>\n",
       "      <td>1.489421</td>\n",
       "      <td>0.986633</td>\n",
       "      <td>4</td>\n",
       "    </tr>\n",
       "    <tr>\n",
       "      <th>2337</th>\n",
       "      <td>19083</td>\n",
       "      <td>33</td>\n",
       "      <td>Mis redes sociales:\\nSigue a Cine Hd:\\nFacebook:https://www.facebook.com/cinehdchevere/\\nInstagram:https://www.instagram.com/cine_hd/\\nkik:itsCineHd</td>\n",
       "      <td>1.911059</td>\n",
       "      <td>0.947712</td>\n",
       "      <td>4</td>\n",
       "    </tr>\n",
       "    <tr>\n",
       "      <th>23872</th>\n",
       "      <td>13152</td>\n",
       "      <td>201</td>\n",
       "      <td>Joel TRISTE no saben su apellido ð­ðÂ¡NO OLVIDES SUSCRIBIRTE!\\nLa entrevista de CleverTv estuvo buenisimo vayan a verlo\\nInstagram:https: https://www.instagram.com/xlitzi/\\nMusically: primalolita\\nTwitter: https://twitter.com/Litzizzle16?lang=es\\n\\nð§BUSINESS/NEGOCIOS: LitziNegocios@gmail.com\\n\\n\\n\\n-\\n\\n\\n\\n\\n\\n\\n\\n\\n\\n\\n\\n\\nEn este video puedes sobre: CNCO, videos de CNCO, joel pimentel, cncowners, mas alla tour, christopher velez, erick brian colon, reggaeton lento cnco, hey dj cnco, zabdiel, ItsLitzi, Video Star, trucos, hacks, lifehacks, life hacks, tips faciles, tips rapidos, hacks faciles, hacks rapidos, life hacks faciles, life hacks rapidos,\\ncosas que, cosas que no sabes, no sabes para que sirve, para que sirve, para que sirven, cosas que no sabes para que sirven, cosas que no sabias, no sabias para que sirve, no sabias para que sirven, cosas que no sabias para que sirven, life hacks para la vida, cosas que estas haciendo mal, cosas que haces mal, cosas que has hecho mal toda tu vida, cosas que haces mal y no lo sabes, cosas que hacemos mal sin saberlo, cosas que estabas haciendo mal, cosas que hacemos mal todos los dÃ­as, cosas que estabas haciendo mal todos los dÃ­as, comedia, risa, gracioso, video de comedia, video de risa, video gracioso, estabas usando mal, usabas mal, has usado mal, has estado usando mal, sorteo, sorteo internacional, sorteo de iphone, iphone 7, iphone, macbook, macbook pro, sorteo macbook pro, laptop, sorteo laptop, te regalo un iphone, te regalo una laptop, expectativa vs realidad, expectativas vs realidad, expec vs realidad, la primera vez</td>\n",
       "      <td>1.571559</td>\n",
       "      <td>0.984962</td>\n",
       "      <td>4</td>\n",
       "    </tr>\n",
       "  </tbody>\n",
       "</table>\n",
       "</div>"
      ],
      "text/plain": [
       "        views  comment_count  \\\n",
       "28765  9148    6               \n",
       "18184  134023  1257            \n",
       "27833  11366   274             \n",
       "2337   19083   33              \n",
       "23872  13152   201             \n",
       "\n",
       "                                                                                                                                                                                                                                                                                                                                                                                                                                                                                                                                                                                                                                                                                                                                                                                                                                                                                                                                                                                                                                                                                                                                                                                                                                                                                                                                                                                                                                                                                                                                                                                                                                                                    description  \\\n",
       "28765  Mi pareja puede con Facundo - Lunes a Jueves 7:30 pm por Azteca 7 y http://www.azteca7.com/miparejapuede                                                                                                                                                                                                                                                                                                                                                                                                                                                                                                                                                                                                                                                                                                                                                                                                                                                                                                                                                                                                                                                                                                                                                                                                                                                                                                                                                                                                                                                                                                                                                                   \n",
       "18184  TUCA no quiere que se repita la VIOLENCIA en VERACRUZ. CHICHARITO pudo jugar en RUSIA y en otro equipo INGLÃS. GIOVANI anotÃ³ su primer gol del aÃ±o.\\n\\nESTO Y MÃS EN CRACKS MX! \\n\\nâº Twitter RubÃ©n Ortega: https://twitter.com/Ruben_Ortega18\\nâº Twitter Cracks Mx: https://twitter.com/mx_cracks\\nâº Twitter Charly MunguÃ­a: https://twitter.com/CharlyMunguia\\nâº Twitter IraÃ­s Moreno: https://twitter.com/iraismore\\nâº Facebook: https://www.facebook.com/mx.cracks/\\nâº Instagram: https://www.instagram.com/mx_cracks/\\nâº Instagram RubÃ©n: https://www.instagram.com/ruben_cracks/\\nâº Instagram IraÃ­s: https://www.instagram.com/iraismmore/\\nâº Instagram Charly: https://www.instagram.com/charlymunguia/\\nâº Suscribete al canal de Charly: https://www.youtube.com/user/CharlyMunguia\\n\\nhttp://www.cracks.mx                                                                                                                                                                                                                                                                                                                                                                                                                                                                                                                                                                                                                                                                                                                                                                                                                           \n",
       "27833  Mis chuladas aquÃ­ les dejo 3 ideas muy sencillas y rÃ¡pidas para hacer tarjetas lindas a MamÃ¡, #DiaDeLasMadres\\n\\nMÃ¡s ideas para MamÃ¡ da clickðð»  https://bit.ly/2HCKBQW\\n\\nSÃ­gueme en nuestras redes sociales\\nâ\n",
       " â© https://www.facebook.com/Chuladascreativas\\nâ\n",
       " â© https://www.chuladascreativas.com\\nâ\n",
       " â© https://www.instagram.com/sammilychuladas\\nâ\n",
       " â©Twitter: @ChuladasSammily\\nâ\n",
       " â© Mi otro Canal de Vlogs: http://bit.ly/2Fm1KAf\\n\\nPurse Organizer, Purse Switch                                                                                                                                                                                                                                                                                                                                                                                                                                                                                                                                                                                                                                                                                                                                                                                                                                                                                                                                                                                                                                                                                                                                                                      \n",
       "2337   Mis redes sociales:\\nSigue a Cine Hd:\\nFacebook:https://www.facebook.com/cinehdchevere/\\nInstagram:https://www.instagram.com/cine_hd/\\nkik:itsCineHd                                                                                                                                                                                                                                                                                                                                                                                                                                                                                                                                                                                                                                                                                                                                                                                                                                                                                                                                                                                                                                                                                                                                                                                                                                                                                                                                                                                                                                                                                                                       \n",
       "23872  Joel TRISTE no saben su apellido ð­ðÂ¡NO OLVIDES SUSCRIBIRTE!\\nLa entrevista de CleverTv estuvo buenisimo vayan a verlo\\nInstagram:https: https://www.instagram.com/xlitzi/\\nMusically: primalolita\\nTwitter: https://twitter.com/Litzizzle16?lang=es\\n\\nð§BUSINESS/NEGOCIOS: LitziNegocios@gmail.com\\n\\n\\n\\n-\\n\\n\\n\\n\\n\\n\\n\\n\\n\\n\\n\\n\\nEn este video puedes sobre: CNCO, videos de CNCO, joel pimentel, cncowners, mas alla tour, christopher velez, erick brian colon, reggaeton lento cnco, hey dj cnco, zabdiel, ItsLitzi, Video Star, trucos, hacks, lifehacks, life hacks, tips faciles, tips rapidos, hacks faciles, hacks rapidos, life hacks faciles, life hacks rapidos,\\ncosas que, cosas que no sabes, no sabes para que sirve, para que sirve, para que sirven, cosas que no sabes para que sirven, cosas que no sabias, no sabias para que sirve, no sabias para que sirven, cosas que no sabias para que sirven, life hacks para la vida, cosas que estas haciendo mal, cosas que haces mal, cosas que has hecho mal toda tu vida, cosas que haces mal y no lo sabes, cosas que hacemos mal sin saberlo, cosas que estabas haciendo mal, cosas que hacemos mal todos los dÃ­as, cosas que estabas haciendo mal todos los dÃ­as, comedia, risa, gracioso, video de comedia, video de risa, video gracioso, estabas usando mal, usabas mal, has usado mal, has estado usando mal, sorteo, sorteo internacional, sorteo de iphone, iphone 7, iphone, macbook, macbook pro, sorteo macbook pro, laptop, sorteo laptop, te regalo un iphone, te regalo una laptop, expectativa vs realidad, expectativas vs realidad, expec vs realidad, la primera vez   \n",
       "\n",
       "          antig     ratio  cl  \n",
       "28765  1.478470  0.948718  4   \n",
       "18184  1.656434  0.981573  4   \n",
       "27833  1.489421  0.986633  4   \n",
       "2337   1.911059  0.947712  4   \n",
       "23872  1.571559  0.984962  4   "
      ]
     },
     "execution_count": 52,
     "metadata": {},
     "output_type": "execute_result"
    }
   ],
   "source": [
    "df.loc[df.cl==4].sample(5)"
   ]
  },
  {
   "cell_type": "code",
   "execution_count": null,
   "metadata": {},
   "outputs": [],
   "source": []
  }
 ],
 "metadata": {
  "kernelspec": {
   "display_name": "ciencia_de_datos",
   "language": "python",
   "name": "ciencia_de_datos"
  },
  "language_info": {
   "codemirror_mode": {
    "name": "ipython",
    "version": 3
   },
   "file_extension": ".py",
   "mimetype": "text/x-python",
   "name": "python",
   "nbconvert_exporter": "python",
   "pygments_lexer": "ipython3",
   "version": "3.6.8"
  }
 },
 "nbformat": 4,
 "nbformat_minor": 2
}
