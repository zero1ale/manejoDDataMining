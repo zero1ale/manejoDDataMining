{
 "cells": [
  {
   "cell_type": "code",
   "execution_count": 1,
   "metadata": {},
   "outputs": [],
   "source": [
    "import pandas as pd\n",
    "import matplotlib.pyplot as plt\n",
    "import seaborn as sns\n",
    "import numpy as np\n",
    "from datetime import date,datetime\n",
    "from functools import reduce\n",
    "%matplotlib inline"
   ]
  },
  {
   "cell_type": "code",
   "execution_count": 2,
   "metadata": {},
   "outputs": [],
   "source": [
    "df = pd.read_csv('carpetas-de-investigacion-pgj-cdmx(1).csv',sep=';')"
   ]
  },
  {
   "cell_type": "code",
   "execution_count": 3,
   "metadata": {},
   "outputs": [
    {
     "data": {
      "text/plain": [
       "(808871, 18)"
      ]
     },
     "execution_count": 3,
     "metadata": {},
     "output_type": "execute_result"
    }
   ],
   "source": [
    "df.shape"
   ]
  },
  {
   "cell_type": "code",
   "execution_count": 5,
   "metadata": {},
   "outputs": [],
   "source": [
    "df[['delito','categoria_delito','colonia_hechos',\n",
    "    'fecha_hechos','alcaldia_hechos','longitud','latitud']].to_excel('delitos.xlsx',index=False)"
   ]
  },
  {
   "cell_type": "code",
   "execution_count": 4,
   "metadata": {},
   "outputs": [
    {
     "data": {
      "text/html": [
       "<div>\n",
       "<style scoped>\n",
       "    .dataframe tbody tr th:only-of-type {\n",
       "        vertical-align: middle;\n",
       "    }\n",
       "\n",
       "    .dataframe tbody tr th {\n",
       "        vertical-align: top;\n",
       "    }\n",
       "\n",
       "    .dataframe thead th {\n",
       "        text-align: right;\n",
       "    }\n",
       "</style>\n",
       "<table border=\"1\" class=\"dataframe\">\n",
       "  <thead>\n",
       "    <tr style=\"text-align: right;\">\n",
       "      <th></th>\n",
       "      <th>año_hechos</th>\n",
       "      <th>mes_hechos</th>\n",
       "      <th>fecha_hechos</th>\n",
       "      <th>delito</th>\n",
       "      <th>categoria_delito</th>\n",
       "      <th>fiscalía</th>\n",
       "      <th>agencia</th>\n",
       "      <th>unidad_investigacion</th>\n",
       "      <th>colonia_hechos</th>\n",
       "      <th>alcaldia_hechos</th>\n",
       "      <th>fecha_inicio</th>\n",
       "      <th>mes_inicio</th>\n",
       "      <th>ao_inicio</th>\n",
       "      <th>calle_hechos</th>\n",
       "      <th>calle_hechos2</th>\n",
       "      <th>longitud</th>\n",
       "      <th>latitud</th>\n",
       "      <th>Geopoint</th>\n",
       "    </tr>\n",
       "  </thead>\n",
       "  <tbody>\n",
       "    <tr>\n",
       "      <th>0</th>\n",
       "      <td>2018.0</td>\n",
       "      <td>Abril</td>\n",
       "      <td>2018-04-13 13:30:00</td>\n",
       "      <td>ROBO DE DOCUMENTOS</td>\n",
       "      <td>DELITO DE BAJO IMPACTO</td>\n",
       "      <td>INVESTIGACIÓN EN MIGUEL HIDALGO</td>\n",
       "      <td>MH-4</td>\n",
       "      <td>UI-2SD</td>\n",
       "      <td>POLANCO</td>\n",
       "      <td>MIGUEL HIDALGO</td>\n",
       "      <td>2018-04-16 11:23:30</td>\n",
       "      <td>Abril</td>\n",
       "      <td>2018</td>\n",
       "      <td>MOLIERE</td>\n",
       "      <td>NaN</td>\n",
       "      <td>-99.201358</td>\n",
       "      <td>19.436043</td>\n",
       "      <td>19.4360428522,-99.201358159</td>\n",
       "    </tr>\n",
       "    <tr>\n",
       "      <th>1</th>\n",
       "      <td>2016.0</td>\n",
       "      <td>Agosto</td>\n",
       "      <td>2016-08-05 16:30:00</td>\n",
       "      <td>ROBO A TRANSEUNTE EN VIA PUBLICA CON VIOLENCIA</td>\n",
       "      <td>ROBO A TRANSEUNTE EN VÍA PÚBLICA CON Y SIN VIO...</td>\n",
       "      <td>INVESTIGACIÓN EN TLALPAN</td>\n",
       "      <td>TLP-4</td>\n",
       "      <td>UI-1CD</td>\n",
       "      <td>PLAZA COAPA</td>\n",
       "      <td>TLALPAN</td>\n",
       "      <td>2016-08-08 10:26:57</td>\n",
       "      <td>Agosto</td>\n",
       "      <td>2016</td>\n",
       "      <td>AVENIDA CANAL DE MIRAMONTES</td>\n",
       "      <td>NaN</td>\n",
       "      <td>-99.125250</td>\n",
       "      <td>19.295906</td>\n",
       "      <td>19.2959060463,-99.1252499799</td>\n",
       "    </tr>\n",
       "    <tr>\n",
       "      <th>2</th>\n",
       "      <td>2015.0</td>\n",
       "      <td>Octubre</td>\n",
       "      <td>2015-10-23 12:00:00</td>\n",
       "      <td>FRAUDE</td>\n",
       "      <td>DELITO DE BAJO IMPACTO</td>\n",
       "      <td>JUZGADOS CIVILES</td>\n",
       "      <td>74</td>\n",
       "      <td>UI-1SD</td>\n",
       "      <td>DOCTORES</td>\n",
       "      <td>CUAUHTEMOC</td>\n",
       "      <td>2016-03-28 14:26:39</td>\n",
       "      <td>Marzo</td>\n",
       "      <td>2016</td>\n",
       "      <td>AV. NIÑOS HEROES</td>\n",
       "      <td>JUZGADO 8o. DE LO CIVIL DEL D.F.</td>\n",
       "      <td>-99.150120</td>\n",
       "      <td>19.421230</td>\n",
       "      <td>19.4212299998,-99.15012</td>\n",
       "    </tr>\n",
       "    <tr>\n",
       "      <th>3</th>\n",
       "      <td>2016.0</td>\n",
       "      <td>Marzo</td>\n",
       "      <td>2016-03-28 09:00:00</td>\n",
       "      <td>VIOLENCIA FAMILIAR</td>\n",
       "      <td>DELITO DE BAJO IMPACTO</td>\n",
       "      <td>INVESTIGACIÓN PARA LA ATENCIÓN DE NIÑOS, NIÑAS...</td>\n",
       "      <td>59</td>\n",
       "      <td>UI-3CD</td>\n",
       "      <td>AMPLIACIÓN CARACOL</td>\n",
       "      <td>VENUSTIANO CARRANZA</td>\n",
       "      <td>2016-03-28 14:35:05</td>\n",
       "      <td>Marzo</td>\n",
       "      <td>2016</td>\n",
       "      <td>GRAL. FRANCISCO MURGUIA</td>\n",
       "      <td>NaN</td>\n",
       "      <td>-99.066132</td>\n",
       "      <td>19.428401</td>\n",
       "      <td>19.4284009998,-99.066132</td>\n",
       "    </tr>\n",
       "    <tr>\n",
       "      <th>4</th>\n",
       "      <td>2016.0</td>\n",
       "      <td>Enero</td>\n",
       "      <td>2016-01-06 11:30:00</td>\n",
       "      <td>ROBO DE OBJETOS</td>\n",
       "      <td>DELITO DE BAJO IMPACTO</td>\n",
       "      <td>INVESTIGACIÓN EN IZTACALCO</td>\n",
       "      <td>IZC-2</td>\n",
       "      <td>UI-2SD</td>\n",
       "      <td>INFONAVIT IZTACALCO</td>\n",
       "      <td>IZTACALCO</td>\n",
       "      <td>2016-01-06 14:02:39</td>\n",
       "      <td>Enero</td>\n",
       "      <td>2016</td>\n",
       "      <td>RAIZ DE AGUA.</td>\n",
       "      <td>CANAL DE APATLACO</td>\n",
       "      <td>-99.105054</td>\n",
       "      <td>19.382267</td>\n",
       "      <td>19.3822669998,-99.105054</td>\n",
       "    </tr>\n",
       "  </tbody>\n",
       "</table>\n",
       "</div>"
      ],
      "text/plain": [
       "   año_hechos mes_hechos         fecha_hechos  \\\n",
       "0      2018.0      Abril  2018-04-13 13:30:00   \n",
       "1      2016.0     Agosto  2016-08-05 16:30:00   \n",
       "2      2015.0    Octubre  2015-10-23 12:00:00   \n",
       "3      2016.0      Marzo  2016-03-28 09:00:00   \n",
       "4      2016.0      Enero  2016-01-06 11:30:00   \n",
       "\n",
       "                                           delito  \\\n",
       "0                              ROBO DE DOCUMENTOS   \n",
       "1  ROBO A TRANSEUNTE EN VIA PUBLICA CON VIOLENCIA   \n",
       "2                                          FRAUDE   \n",
       "3                              VIOLENCIA FAMILIAR   \n",
       "4                                 ROBO DE OBJETOS   \n",
       "\n",
       "                                    categoria_delito  \\\n",
       "0                             DELITO DE BAJO IMPACTO   \n",
       "1  ROBO A TRANSEUNTE EN VÍA PÚBLICA CON Y SIN VIO...   \n",
       "2                             DELITO DE BAJO IMPACTO   \n",
       "3                             DELITO DE BAJO IMPACTO   \n",
       "4                             DELITO DE BAJO IMPACTO   \n",
       "\n",
       "                                            fiscalía agencia  \\\n",
       "0                    INVESTIGACIÓN EN MIGUEL HIDALGO    MH-4   \n",
       "1                           INVESTIGACIÓN EN TLALPAN   TLP-4   \n",
       "2                                   JUZGADOS CIVILES      74   \n",
       "3  INVESTIGACIÓN PARA LA ATENCIÓN DE NIÑOS, NIÑAS...      59   \n",
       "4                         INVESTIGACIÓN EN IZTACALCO   IZC-2   \n",
       "\n",
       "  unidad_investigacion       colonia_hechos      alcaldia_hechos  \\\n",
       "0               UI-2SD              POLANCO       MIGUEL HIDALGO   \n",
       "1               UI-1CD          PLAZA COAPA              TLALPAN   \n",
       "2               UI-1SD             DOCTORES           CUAUHTEMOC   \n",
       "3               UI-3CD   AMPLIACIÓN CARACOL  VENUSTIANO CARRANZA   \n",
       "4               UI-2SD  INFONAVIT IZTACALCO            IZTACALCO   \n",
       "\n",
       "          fecha_inicio mes_inicio  ao_inicio                 calle_hechos  \\\n",
       "0  2018-04-16 11:23:30      Abril       2018                      MOLIERE   \n",
       "1  2016-08-08 10:26:57     Agosto       2016  AVENIDA CANAL DE MIRAMONTES   \n",
       "2  2016-03-28 14:26:39      Marzo       2016             AV. NIÑOS HEROES   \n",
       "3  2016-03-28 14:35:05      Marzo       2016      GRAL. FRANCISCO MURGUIA   \n",
       "4  2016-01-06 14:02:39      Enero       2016                RAIZ DE AGUA.   \n",
       "\n",
       "                      calle_hechos2   longitud    latitud  \\\n",
       "0                               NaN -99.201358  19.436043   \n",
       "1                               NaN -99.125250  19.295906   \n",
       "2  JUZGADO 8o. DE LO CIVIL DEL D.F. -99.150120  19.421230   \n",
       "3                               NaN -99.066132  19.428401   \n",
       "4                 CANAL DE APATLACO -99.105054  19.382267   \n",
       "\n",
       "                       Geopoint  \n",
       "0   19.4360428522,-99.201358159  \n",
       "1  19.2959060463,-99.1252499799  \n",
       "2       19.4212299998,-99.15012  \n",
       "3      19.4284009998,-99.066132  \n",
       "4      19.3822669998,-99.105054  "
      ]
     },
     "execution_count": 4,
     "metadata": {},
     "output_type": "execute_result"
    }
   ],
   "source": [
    "df.head()"
   ]
  },
  {
   "cell_type": "code",
   "execution_count": 5,
   "metadata": {},
   "outputs": [
    {
     "data": {
      "text/plain": [
       "DELITO DE BAJO IMPACTO                                     0.783624\n",
       "HECHO NO DELICTIVO                                         0.065662\n",
       "ROBO DE VEHÍCULO CON Y SIN VIOLENCIA                       0.052788\n",
       "ROBO A TRANSEUNTE EN VÍA PÚBLICA CON Y SIN VIOLENCIA       0.041450\n",
       "ROBO A NEGOCIO CON VIOLENCIA                               0.014314\n",
       "ROBO A REPARTIDOR CON Y SIN VIOLENCIA                      0.009082\n",
       "LESIONES DOLOSAS POR DISPARO DE ARMA DE FUEGO              0.008475\n",
       "ROBO A PASAJERO A BORDO DEL METRO CON Y SIN VIOLENCIA      0.006796\n",
       "HOMICIDIO DOLOSO                                           0.005621\n",
       "ROBO A PASAJERO A BORDO DE MICROBUS CON Y SIN VIOLENCIA    0.003563\n",
       "VIOLACIÓN                                                  0.003013\n",
       "ROBO A CASA HABITACIÓN CON VIOLENCIA                       0.002274\n",
       "ROBO A CUENTAHABIENTE SALIENDO DEL CAJERO CON VIOLENCIA    0.001751\n",
       "ROBO A PASAJERO A BORDO DE TAXI CON VIOLENCIA              0.000914\n",
       "ROBO A TRANSPORTISTA CON Y SIN VIOLENCIA                   0.000558\n",
       "SECUESTRO                                                  0.000116\n",
       "Name: categoria_delito, dtype: float64"
      ]
     },
     "execution_count": 5,
     "metadata": {},
     "output_type": "execute_result"
    }
   ],
   "source": [
    "df.categoria_delito.value_counts(normalize=True)"
   ]
  },
  {
   "cell_type": "code",
   "execution_count": 6,
   "metadata": {},
   "outputs": [],
   "source": [
    "df = df.loc[df.categoria_delito!='DELITO DE BAJO IMPACTO']"
   ]
  },
  {
   "cell_type": "code",
   "execution_count": 7,
   "metadata": {},
   "outputs": [],
   "source": [
    "df = df.loc[df.categoria_delito!='HECHO NO DELICTIVO']"
   ]
  },
  {
   "cell_type": "code",
   "execution_count": 8,
   "metadata": {},
   "outputs": [
    {
     "data": {
      "text/plain": [
       "ROBO DE VEHÍCULO CON Y SIN VIOLENCIA                       0.350256\n",
       "ROBO A TRANSEUNTE EN VÍA PÚBLICA CON Y SIN VIOLENCIA       0.275027\n",
       "ROBO A NEGOCIO CON VIOLENCIA                               0.094973\n",
       "ROBO A REPARTIDOR CON Y SIN VIOLENCIA                      0.060259\n",
       "LESIONES DOLOSAS POR DISPARO DE ARMA DE FUEGO              0.056231\n",
       "ROBO A PASAJERO A BORDO DEL METRO CON Y SIN VIOLENCIA      0.045091\n",
       "HOMICIDIO DOLOSO                                           0.037299\n",
       "ROBO A PASAJERO A BORDO DE MICROBUS CON Y SIN VIOLENCIA    0.023641\n",
       "VIOLACIÓN                                                  0.019990\n",
       "ROBO A CASA HABITACIÓN CON VIOLENCIA                       0.015085\n",
       "ROBO A CUENTAHABIENTE SALIENDO DEL CAJERO CON VIOLENCIA    0.011615\n",
       "ROBO A PASAJERO A BORDO DE TAXI CON VIOLENCIA              0.006062\n",
       "ROBO A TRANSPORTISTA CON Y SIN VIOLENCIA                   0.003700\n",
       "SECUESTRO                                                  0.000771\n",
       "Name: categoria_delito, dtype: float64"
      ]
     },
     "execution_count": 8,
     "metadata": {},
     "output_type": "execute_result"
    }
   ],
   "source": [
    "df.categoria_delito.value_counts(normalize=True)"
   ]
  },
  {
   "cell_type": "code",
   "execution_count": 9,
   "metadata": {},
   "outputs": [],
   "source": [
    "df = df.loc[df.categoria_delito=='ROBO DE VEHÍCULO CON Y SIN VIOLENCIA']"
   ]
  },
  {
   "cell_type": "code",
   "execution_count": 10,
   "metadata": {},
   "outputs": [],
   "source": [
    "df = df.loc[df['delito'].isin(list(df.delito.value_counts(normalize=True).index)[:4])]"
   ]
  },
  {
   "cell_type": "code",
   "execution_count": 11,
   "metadata": {},
   "outputs": [
    {
     "data": {
      "text/plain": [
       "(36199, 18)"
      ]
     },
     "execution_count": 11,
     "metadata": {},
     "output_type": "execute_result"
    }
   ],
   "source": [
    "df.shape"
   ]
  },
  {
   "cell_type": "code",
   "execution_count": 12,
   "metadata": {},
   "outputs": [],
   "source": [
    "df.reset_index(drop=True,inplace=True)"
   ]
  },
  {
   "cell_type": "code",
   "execution_count": null,
   "metadata": {},
   "outputs": [],
   "source": []
  },
  {
   "cell_type": "code",
   "execution_count": 13,
   "metadata": {
    "scrolled": true
   },
   "outputs": [],
   "source": [
    "df = df[['fecha_hechos','delito','colonia_hechos','alcaldia_hechos','longitud','latitud']]"
   ]
  },
  {
   "cell_type": "code",
   "execution_count": 14,
   "metadata": {},
   "outputs": [
    {
     "data": {
      "text/html": [
       "<div>\n",
       "<style scoped>\n",
       "    .dataframe tbody tr th:only-of-type {\n",
       "        vertical-align: middle;\n",
       "    }\n",
       "\n",
       "    .dataframe tbody tr th {\n",
       "        vertical-align: top;\n",
       "    }\n",
       "\n",
       "    .dataframe thead th {\n",
       "        text-align: right;\n",
       "    }\n",
       "</style>\n",
       "<table border=\"1\" class=\"dataframe\">\n",
       "  <thead>\n",
       "    <tr style=\"text-align: right;\">\n",
       "      <th></th>\n",
       "      <th>fecha_hechos</th>\n",
       "      <th>delito</th>\n",
       "      <th>colonia_hechos</th>\n",
       "      <th>alcaldia_hechos</th>\n",
       "      <th>longitud</th>\n",
       "      <th>latitud</th>\n",
       "    </tr>\n",
       "  </thead>\n",
       "  <tbody>\n",
       "    <tr>\n",
       "      <th>0</th>\n",
       "      <td>2016-03-26 21:30:00</td>\n",
       "      <td>ROBO DE VEHICULO DE SERVICIO PARTICULAR SIN VI...</td>\n",
       "      <td>AGRÍCOLA ORIENTAL</td>\n",
       "      <td>IZTACALCO</td>\n",
       "      <td>-99.073706</td>\n",
       "      <td>19.395480</td>\n",
       "    </tr>\n",
       "    <tr>\n",
       "      <th>1</th>\n",
       "      <td>2018-04-25 00:30:00</td>\n",
       "      <td>ROBO DE VEHICULO DE SERVICIO PARTICULAR CON VI...</td>\n",
       "      <td>PRADO COAPA 3A SECCIÓN</td>\n",
       "      <td>TLALPAN</td>\n",
       "      <td>-99.130807</td>\n",
       "      <td>19.290864</td>\n",
       "    </tr>\n",
       "    <tr>\n",
       "      <th>2</th>\n",
       "      <td>2016-01-16 15:55:00</td>\n",
       "      <td>ROBO DE VEHICULO DE SERVICIO PARTICULAR SIN VI...</td>\n",
       "      <td>DEL CARMEN</td>\n",
       "      <td>COYOACAN</td>\n",
       "      <td>-99.168867</td>\n",
       "      <td>19.357092</td>\n",
       "    </tr>\n",
       "    <tr>\n",
       "      <th>3</th>\n",
       "      <td>2017-12-25 23:00:00</td>\n",
       "      <td>ROBO DE VEHICULO DE SERVICIO PARTICULAR SIN VI...</td>\n",
       "      <td>EL TANQUE</td>\n",
       "      <td>LA MAGDALENA CONTRERAS</td>\n",
       "      <td>-99.249524</td>\n",
       "      <td>19.322978</td>\n",
       "    </tr>\n",
       "    <tr>\n",
       "      <th>4</th>\n",
       "      <td>2017-12-30 19:30:00</td>\n",
       "      <td>ROBO DE VEHICULO DE SERVICIO PARTICULAR SIN VI...</td>\n",
       "      <td>GUERRERO</td>\n",
       "      <td>CUAUHTEMOC</td>\n",
       "      <td>-99.138678</td>\n",
       "      <td>19.448831</td>\n",
       "    </tr>\n",
       "  </tbody>\n",
       "</table>\n",
       "</div>"
      ],
      "text/plain": [
       "          fecha_hechos                                             delito  \\\n",
       "0  2016-03-26 21:30:00  ROBO DE VEHICULO DE SERVICIO PARTICULAR SIN VI...   \n",
       "1  2018-04-25 00:30:00  ROBO DE VEHICULO DE SERVICIO PARTICULAR CON VI...   \n",
       "2  2016-01-16 15:55:00  ROBO DE VEHICULO DE SERVICIO PARTICULAR SIN VI...   \n",
       "3  2017-12-25 23:00:00  ROBO DE VEHICULO DE SERVICIO PARTICULAR SIN VI...   \n",
       "4  2017-12-30 19:30:00  ROBO DE VEHICULO DE SERVICIO PARTICULAR SIN VI...   \n",
       "\n",
       "           colonia_hechos         alcaldia_hechos   longitud    latitud  \n",
       "0       AGRÍCOLA ORIENTAL               IZTACALCO -99.073706  19.395480  \n",
       "1  PRADO COAPA 3A SECCIÓN                 TLALPAN -99.130807  19.290864  \n",
       "2              DEL CARMEN                COYOACAN -99.168867  19.357092  \n",
       "3               EL TANQUE  LA MAGDALENA CONTRERAS -99.249524  19.322978  \n",
       "4                GUERRERO              CUAUHTEMOC -99.138678  19.448831  "
      ]
     },
     "execution_count": 14,
     "metadata": {},
     "output_type": "execute_result"
    }
   ],
   "source": [
    "df.head()"
   ]
  },
  {
   "cell_type": "code",
   "execution_count": 15,
   "metadata": {},
   "outputs": [],
   "source": [
    "l_al = list(df.alcaldia_hechos.value_counts(normalize=True).index)[:5]"
   ]
  },
  {
   "cell_type": "code",
   "execution_count": 16,
   "metadata": {},
   "outputs": [],
   "source": [
    "df = df.loc[df.alcaldia_hechos.isin(l_al)]"
   ]
  },
  {
   "cell_type": "code",
   "execution_count": 17,
   "metadata": {},
   "outputs": [],
   "source": [
    "df.reset_index(drop=True,inplace=True)"
   ]
  },
  {
   "cell_type": "code",
   "execution_count": 18,
   "metadata": {},
   "outputs": [
    {
     "data": {
      "text/html": [
       "<div>\n",
       "<style scoped>\n",
       "    .dataframe tbody tr th:only-of-type {\n",
       "        vertical-align: middle;\n",
       "    }\n",
       "\n",
       "    .dataframe tbody tr th {\n",
       "        vertical-align: top;\n",
       "    }\n",
       "\n",
       "    .dataframe thead th {\n",
       "        text-align: right;\n",
       "    }\n",
       "</style>\n",
       "<table border=\"1\" class=\"dataframe\">\n",
       "  <thead>\n",
       "    <tr style=\"text-align: right;\">\n",
       "      <th></th>\n",
       "      <th>fecha_hechos</th>\n",
       "      <th>delito</th>\n",
       "      <th>colonia_hechos</th>\n",
       "      <th>alcaldia_hechos</th>\n",
       "      <th>longitud</th>\n",
       "      <th>latitud</th>\n",
       "    </tr>\n",
       "  </thead>\n",
       "  <tbody>\n",
       "    <tr>\n",
       "      <th>0</th>\n",
       "      <td>2016-01-16 15:55:00</td>\n",
       "      <td>ROBO DE VEHICULO DE SERVICIO PARTICULAR SIN VI...</td>\n",
       "      <td>DEL CARMEN</td>\n",
       "      <td>COYOACAN</td>\n",
       "      <td>-99.168867</td>\n",
       "      <td>19.357092</td>\n",
       "    </tr>\n",
       "    <tr>\n",
       "      <th>1</th>\n",
       "      <td>2016-02-06 23:50:00</td>\n",
       "      <td>ROBO DE VEHICULO DE SERVICIO PARTICULAR SIN VI...</td>\n",
       "      <td>ESTRELLA</td>\n",
       "      <td>GUSTAVO A MADERO</td>\n",
       "      <td>-99.118422</td>\n",
       "      <td>19.477208</td>\n",
       "    </tr>\n",
       "    <tr>\n",
       "      <th>2</th>\n",
       "      <td>2018-01-06 11:00:00</td>\n",
       "      <td>ROBO DE VEHICULO DE SERVICIO PARTICULAR SIN VI...</td>\n",
       "      <td>SANTA FE IMSS</td>\n",
       "      <td>ALVARO OBREGON</td>\n",
       "      <td>-99.207213</td>\n",
       "      <td>19.389166</td>\n",
       "    </tr>\n",
       "    <tr>\n",
       "      <th>3</th>\n",
       "      <td>2016-07-14 02:30:00</td>\n",
       "      <td>ROBO DE MOTOCICLETA CON VIOLENCIA</td>\n",
       "      <td>EL VERGEL</td>\n",
       "      <td>IZTAPALAPA</td>\n",
       "      <td>-99.075785</td>\n",
       "      <td>19.318552</td>\n",
       "    </tr>\n",
       "    <tr>\n",
       "      <th>4</th>\n",
       "      <td>2018-06-06 22:00:00</td>\n",
       "      <td>ROBO DE VEHICULO DE SERVICIO PARTICULAR SIN VI...</td>\n",
       "      <td>NUEVA VALLEJO</td>\n",
       "      <td>GUSTAVO A MADERO</td>\n",
       "      <td>-99.151665</td>\n",
       "      <td>19.495384</td>\n",
       "    </tr>\n",
       "  </tbody>\n",
       "</table>\n",
       "</div>"
      ],
      "text/plain": [
       "          fecha_hechos                                             delito  \\\n",
       "0  2016-01-16 15:55:00  ROBO DE VEHICULO DE SERVICIO PARTICULAR SIN VI...   \n",
       "1  2016-02-06 23:50:00  ROBO DE VEHICULO DE SERVICIO PARTICULAR SIN VI...   \n",
       "2  2018-01-06 11:00:00  ROBO DE VEHICULO DE SERVICIO PARTICULAR SIN VI...   \n",
       "3  2016-07-14 02:30:00                  ROBO DE MOTOCICLETA CON VIOLENCIA   \n",
       "4  2018-06-06 22:00:00  ROBO DE VEHICULO DE SERVICIO PARTICULAR SIN VI...   \n",
       "\n",
       "  colonia_hechos   alcaldia_hechos   longitud    latitud  \n",
       "0     DEL CARMEN          COYOACAN -99.168867  19.357092  \n",
       "1       ESTRELLA  GUSTAVO A MADERO -99.118422  19.477208  \n",
       "2  SANTA FE IMSS    ALVARO OBREGON -99.207213  19.389166  \n",
       "3      EL VERGEL        IZTAPALAPA -99.075785  19.318552  \n",
       "4  NUEVA VALLEJO  GUSTAVO A MADERO -99.151665  19.495384  "
      ]
     },
     "execution_count": 18,
     "metadata": {},
     "output_type": "execute_result"
    }
   ],
   "source": [
    "df.head()"
   ]
  },
  {
   "cell_type": "code",
   "execution_count": 19,
   "metadata": {},
   "outputs": [],
   "source": [
    "df.fecha_hechos = pd.to_datetime(df.fecha_hechos)"
   ]
  },
  {
   "cell_type": "code",
   "execution_count": 20,
   "metadata": {},
   "outputs": [
    {
     "data": {
      "text/plain": [
       "(Timestamp('1992-03-30 23:00:00'), Timestamp('2019-06-30 15:00:00'))"
      ]
     },
     "execution_count": 20,
     "metadata": {},
     "output_type": "execute_result"
    }
   ],
   "source": [
    "df.fecha_hechos.min(),df.fecha_hechos.max()"
   ]
  },
  {
   "cell_type": "code",
   "execution_count": 21,
   "metadata": {},
   "outputs": [],
   "source": [
    "df['mes'] = df.fecha_hechos.dt.date.fillna(datetime(2099,12,31)).map(lambda x:x.strftime('%Y%m'))"
   ]
  },
  {
   "cell_type": "code",
   "execution_count": 22,
   "metadata": {},
   "outputs": [],
   "source": [
    "df = df[df.mes.astype(int)>=201601]\n",
    "df = df[df.mes.astype(int)<=201912]"
   ]
  },
  {
   "cell_type": "code",
   "execution_count": 23,
   "metadata": {},
   "outputs": [],
   "source": [
    "df['sem'] = df.fecha_hechos.map(lambda x:x.strftime('%Y%U')).astype(int)"
   ]
  },
  {
   "cell_type": "code",
   "execution_count": 24,
   "metadata": {},
   "outputs": [
    {
     "data": {
      "text/html": [
       "<div>\n",
       "<style scoped>\n",
       "    .dataframe tbody tr th:only-of-type {\n",
       "        vertical-align: middle;\n",
       "    }\n",
       "\n",
       "    .dataframe tbody tr th {\n",
       "        vertical-align: top;\n",
       "    }\n",
       "\n",
       "    .dataframe thead th {\n",
       "        text-align: right;\n",
       "    }\n",
       "</style>\n",
       "<table border=\"1\" class=\"dataframe\">\n",
       "  <thead>\n",
       "    <tr style=\"text-align: right;\">\n",
       "      <th></th>\n",
       "      <th>fecha_hechos</th>\n",
       "      <th>delito</th>\n",
       "      <th>colonia_hechos</th>\n",
       "      <th>alcaldia_hechos</th>\n",
       "      <th>longitud</th>\n",
       "      <th>latitud</th>\n",
       "      <th>mes</th>\n",
       "      <th>sem</th>\n",
       "    </tr>\n",
       "  </thead>\n",
       "  <tbody>\n",
       "    <tr>\n",
       "      <th>0</th>\n",
       "      <td>2016-01-16 15:55:00</td>\n",
       "      <td>ROBO DE VEHICULO DE SERVICIO PARTICULAR SIN VI...</td>\n",
       "      <td>DEL CARMEN</td>\n",
       "      <td>COYOACAN</td>\n",
       "      <td>-99.168867</td>\n",
       "      <td>19.357092</td>\n",
       "      <td>201601</td>\n",
       "      <td>201602</td>\n",
       "    </tr>\n",
       "    <tr>\n",
       "      <th>1</th>\n",
       "      <td>2016-02-06 23:50:00</td>\n",
       "      <td>ROBO DE VEHICULO DE SERVICIO PARTICULAR SIN VI...</td>\n",
       "      <td>ESTRELLA</td>\n",
       "      <td>GUSTAVO A MADERO</td>\n",
       "      <td>-99.118422</td>\n",
       "      <td>19.477208</td>\n",
       "      <td>201602</td>\n",
       "      <td>201605</td>\n",
       "    </tr>\n",
       "    <tr>\n",
       "      <th>2</th>\n",
       "      <td>2018-01-06 11:00:00</td>\n",
       "      <td>ROBO DE VEHICULO DE SERVICIO PARTICULAR SIN VI...</td>\n",
       "      <td>SANTA FE IMSS</td>\n",
       "      <td>ALVARO OBREGON</td>\n",
       "      <td>-99.207213</td>\n",
       "      <td>19.389166</td>\n",
       "      <td>201801</td>\n",
       "      <td>201800</td>\n",
       "    </tr>\n",
       "    <tr>\n",
       "      <th>3</th>\n",
       "      <td>2016-07-14 02:30:00</td>\n",
       "      <td>ROBO DE MOTOCICLETA CON VIOLENCIA</td>\n",
       "      <td>EL VERGEL</td>\n",
       "      <td>IZTAPALAPA</td>\n",
       "      <td>-99.075785</td>\n",
       "      <td>19.318552</td>\n",
       "      <td>201607</td>\n",
       "      <td>201628</td>\n",
       "    </tr>\n",
       "    <tr>\n",
       "      <th>4</th>\n",
       "      <td>2018-06-06 22:00:00</td>\n",
       "      <td>ROBO DE VEHICULO DE SERVICIO PARTICULAR SIN VI...</td>\n",
       "      <td>NUEVA VALLEJO</td>\n",
       "      <td>GUSTAVO A MADERO</td>\n",
       "      <td>-99.151665</td>\n",
       "      <td>19.495384</td>\n",
       "      <td>201806</td>\n",
       "      <td>201822</td>\n",
       "    </tr>\n",
       "  </tbody>\n",
       "</table>\n",
       "</div>"
      ],
      "text/plain": [
       "         fecha_hechos                                             delito  \\\n",
       "0 2016-01-16 15:55:00  ROBO DE VEHICULO DE SERVICIO PARTICULAR SIN VI...   \n",
       "1 2016-02-06 23:50:00  ROBO DE VEHICULO DE SERVICIO PARTICULAR SIN VI...   \n",
       "2 2018-01-06 11:00:00  ROBO DE VEHICULO DE SERVICIO PARTICULAR SIN VI...   \n",
       "3 2016-07-14 02:30:00                  ROBO DE MOTOCICLETA CON VIOLENCIA   \n",
       "4 2018-06-06 22:00:00  ROBO DE VEHICULO DE SERVICIO PARTICULAR SIN VI...   \n",
       "\n",
       "  colonia_hechos   alcaldia_hechos   longitud    latitud     mes     sem  \n",
       "0     DEL CARMEN          COYOACAN -99.168867  19.357092  201601  201602  \n",
       "1       ESTRELLA  GUSTAVO A MADERO -99.118422  19.477208  201602  201605  \n",
       "2  SANTA FE IMSS    ALVARO OBREGON -99.207213  19.389166  201801  201800  \n",
       "3      EL VERGEL        IZTAPALAPA -99.075785  19.318552  201607  201628  \n",
       "4  NUEVA VALLEJO  GUSTAVO A MADERO -99.151665  19.495384  201806  201822  "
      ]
     },
     "execution_count": 24,
     "metadata": {},
     "output_type": "execute_result"
    }
   ],
   "source": [
    "df.head()"
   ]
  },
  {
   "cell_type": "code",
   "execution_count": 25,
   "metadata": {},
   "outputs": [],
   "source": [
    "d = dict(zip(sorted(df['sem'].unique()),range(len(df['sem'].unique()))))"
   ]
  },
  {
   "cell_type": "code",
   "execution_count": 26,
   "metadata": {},
   "outputs": [],
   "source": [
    "df['w'] = df['sem'].map(d)"
   ]
  },
  {
   "cell_type": "code",
   "execution_count": 27,
   "metadata": {},
   "outputs": [
    {
     "data": {
      "text/html": [
       "<div>\n",
       "<style scoped>\n",
       "    .dataframe tbody tr th:only-of-type {\n",
       "        vertical-align: middle;\n",
       "    }\n",
       "\n",
       "    .dataframe tbody tr th {\n",
       "        vertical-align: top;\n",
       "    }\n",
       "\n",
       "    .dataframe thead th {\n",
       "        text-align: right;\n",
       "    }\n",
       "</style>\n",
       "<table border=\"1\" class=\"dataframe\">\n",
       "  <thead>\n",
       "    <tr style=\"text-align: right;\">\n",
       "      <th></th>\n",
       "      <th>fecha_hechos</th>\n",
       "      <th>delito</th>\n",
       "      <th>colonia_hechos</th>\n",
       "      <th>alcaldia_hechos</th>\n",
       "      <th>longitud</th>\n",
       "      <th>latitud</th>\n",
       "      <th>mes</th>\n",
       "      <th>sem</th>\n",
       "      <th>w</th>\n",
       "    </tr>\n",
       "  </thead>\n",
       "  <tbody>\n",
       "    <tr>\n",
       "      <th>0</th>\n",
       "      <td>2016-01-16 15:55:00</td>\n",
       "      <td>ROBO DE VEHICULO DE SERVICIO PARTICULAR SIN VI...</td>\n",
       "      <td>DEL CARMEN</td>\n",
       "      <td>COYOACAN</td>\n",
       "      <td>-99.168867</td>\n",
       "      <td>19.357092</td>\n",
       "      <td>201601</td>\n",
       "      <td>201602</td>\n",
       "      <td>2</td>\n",
       "    </tr>\n",
       "    <tr>\n",
       "      <th>1</th>\n",
       "      <td>2016-02-06 23:50:00</td>\n",
       "      <td>ROBO DE VEHICULO DE SERVICIO PARTICULAR SIN VI...</td>\n",
       "      <td>ESTRELLA</td>\n",
       "      <td>GUSTAVO A MADERO</td>\n",
       "      <td>-99.118422</td>\n",
       "      <td>19.477208</td>\n",
       "      <td>201602</td>\n",
       "      <td>201605</td>\n",
       "      <td>5</td>\n",
       "    </tr>\n",
       "  </tbody>\n",
       "</table>\n",
       "</div>"
      ],
      "text/plain": [
       "         fecha_hechos                                             delito  \\\n",
       "0 2016-01-16 15:55:00  ROBO DE VEHICULO DE SERVICIO PARTICULAR SIN VI...   \n",
       "1 2016-02-06 23:50:00  ROBO DE VEHICULO DE SERVICIO PARTICULAR SIN VI...   \n",
       "\n",
       "  colonia_hechos   alcaldia_hechos   longitud    latitud     mes     sem  w  \n",
       "0     DEL CARMEN          COYOACAN -99.168867  19.357092  201601  201602  2  \n",
       "1       ESTRELLA  GUSTAVO A MADERO -99.118422  19.477208  201602  201605  5  "
      ]
     },
     "execution_count": 27,
     "metadata": {},
     "output_type": "execute_result"
    }
   ],
   "source": [
    "df.head(2)"
   ]
  },
  {
   "cell_type": "code",
   "execution_count": 28,
   "metadata": {},
   "outputs": [],
   "source": [
    "ll = []\n",
    "for ancla in range(29,184+1):\n",
    "    aux = df[(df['w']<=(ancla))&((df['w']>=(ancla-30+1)))].copy()\n",
    "    aux.reset_index(drop=True,inplace=True)\n",
    "    aux = aux[['w','sem']].groupby('w').count().reset_index()\n",
    "    l = []\n",
    "    for vent in range(5,35,5):\n",
    "        ax = aux[(aux.w>=(ancla-vent+1))&(aux.w<=ancla)].copy()\n",
    "        l.append(ax['sem'].mean())\n",
    "        l.append(reduce(lambda x,y:y-x,list(ax['sem']))/len(ax))\n",
    "    l.append(ancla)\n",
    "    ll.append(l)\n",
    "aux = pd.DataFrame(ll,columns=[\"v_%s_%d\"%(x,y) for y in range(5,35,5) for x in [\"media\",\"tendencia\"]]+['ancla']\n",
    ")"
   ]
  },
  {
   "cell_type": "code",
   "execution_count": 29,
   "metadata": {},
   "outputs": [
    {
     "data": {
      "text/html": [
       "<div>\n",
       "<style scoped>\n",
       "    .dataframe tbody tr th:only-of-type {\n",
       "        vertical-align: middle;\n",
       "    }\n",
       "\n",
       "    .dataframe tbody tr th {\n",
       "        vertical-align: top;\n",
       "    }\n",
       "\n",
       "    .dataframe thead th {\n",
       "        text-align: right;\n",
       "    }\n",
       "</style>\n",
       "<table border=\"1\" class=\"dataframe\">\n",
       "  <thead>\n",
       "    <tr style=\"text-align: right;\">\n",
       "      <th></th>\n",
       "      <th>v_media_5</th>\n",
       "      <th>v_tendencia_5</th>\n",
       "      <th>v_media_10</th>\n",
       "      <th>v_tendencia_10</th>\n",
       "      <th>v_media_15</th>\n",
       "      <th>v_tendencia_15</th>\n",
       "      <th>v_media_20</th>\n",
       "      <th>v_tendencia_20</th>\n",
       "      <th>v_media_25</th>\n",
       "      <th>v_tendencia_25</th>\n",
       "      <th>v_media_30</th>\n",
       "      <th>v_tendencia_30</th>\n",
       "      <th>ancla</th>\n",
       "    </tr>\n",
       "  </thead>\n",
       "  <tbody>\n",
       "    <tr>\n",
       "      <th>151</th>\n",
       "      <td>127.8</td>\n",
       "      <td>21.0</td>\n",
       "      <td>129.8</td>\n",
       "      <td>-5.8</td>\n",
       "      <td>130.000000</td>\n",
       "      <td>5.466667</td>\n",
       "      <td>129.35</td>\n",
       "      <td>-2.55</td>\n",
       "      <td>125.08</td>\n",
       "      <td>1.08</td>\n",
       "      <td>130.933333</td>\n",
       "      <td>-3.333333</td>\n",
       "      <td>180</td>\n",
       "    </tr>\n",
       "    <tr>\n",
       "      <th>152</th>\n",
       "      <td>127.0</td>\n",
       "      <td>32.2</td>\n",
       "      <td>128.8</td>\n",
       "      <td>4.8</td>\n",
       "      <td>129.600000</td>\n",
       "      <td>12.400000</td>\n",
       "      <td>129.55</td>\n",
       "      <td>2.75</td>\n",
       "      <td>123.68</td>\n",
       "      <td>10.80</td>\n",
       "      <td>131.133333</td>\n",
       "      <td>3.533333</td>\n",
       "      <td>181</td>\n",
       "    </tr>\n",
       "    <tr>\n",
       "      <th>153</th>\n",
       "      <td>120.8</td>\n",
       "      <td>19.2</td>\n",
       "      <td>126.7</td>\n",
       "      <td>-6.9</td>\n",
       "      <td>129.333333</td>\n",
       "      <td>2.933333</td>\n",
       "      <td>128.90</td>\n",
       "      <td>-3.40</td>\n",
       "      <td>123.00</td>\n",
       "      <td>-1.08</td>\n",
       "      <td>129.733333</td>\n",
       "      <td>-4.933333</td>\n",
       "      <td>182</td>\n",
       "    </tr>\n",
       "    <tr>\n",
       "      <th>154</th>\n",
       "      <td>124.6</td>\n",
       "      <td>31.8</td>\n",
       "      <td>127.3</td>\n",
       "      <td>7.5</td>\n",
       "      <td>129.733333</td>\n",
       "      <td>14.933333</td>\n",
       "      <td>128.75</td>\n",
       "      <td>3.25</td>\n",
       "      <td>127.32</td>\n",
       "      <td>7.72</td>\n",
       "      <td>128.800000</td>\n",
       "      <td>4.000000</td>\n",
       "      <td>183</td>\n",
       "    </tr>\n",
       "    <tr>\n",
       "      <th>155</th>\n",
       "      <td>121.8</td>\n",
       "      <td>14.6</td>\n",
       "      <td>126.8</td>\n",
       "      <td>-8.0</td>\n",
       "      <td>127.733333</td>\n",
       "      <td>1.600000</td>\n",
       "      <td>127.90</td>\n",
       "      <td>-4.10</td>\n",
       "      <td>127.64</td>\n",
       "      <td>0.68</td>\n",
       "      <td>126.366667</td>\n",
       "      <td>-6.433333</td>\n",
       "      <td>184</td>\n",
       "    </tr>\n",
       "  </tbody>\n",
       "</table>\n",
       "</div>"
      ],
      "text/plain": [
       "     v_media_5  v_tendencia_5  v_media_10  v_tendencia_10  v_media_15  \\\n",
       "151      127.8           21.0       129.8            -5.8  130.000000   \n",
       "152      127.0           32.2       128.8             4.8  129.600000   \n",
       "153      120.8           19.2       126.7            -6.9  129.333333   \n",
       "154      124.6           31.8       127.3             7.5  129.733333   \n",
       "155      121.8           14.6       126.8            -8.0  127.733333   \n",
       "\n",
       "     v_tendencia_15  v_media_20  v_tendencia_20  v_media_25  v_tendencia_25  \\\n",
       "151        5.466667      129.35           -2.55      125.08            1.08   \n",
       "152       12.400000      129.55            2.75      123.68           10.80   \n",
       "153        2.933333      128.90           -3.40      123.00           -1.08   \n",
       "154       14.933333      128.75            3.25      127.32            7.72   \n",
       "155        1.600000      127.90           -4.10      127.64            0.68   \n",
       "\n",
       "     v_media_30  v_tendencia_30  ancla  \n",
       "151  130.933333       -3.333333    180  \n",
       "152  131.133333        3.533333    181  \n",
       "153  129.733333       -4.933333    182  \n",
       "154  128.800000        4.000000    183  \n",
       "155  126.366667       -6.433333    184  "
      ]
     },
     "execution_count": 29,
     "metadata": {},
     "output_type": "execute_result"
    }
   ],
   "source": [
    "aux.tail()"
   ]
  },
  {
   "cell_type": "code",
   "execution_count": 30,
   "metadata": {},
   "outputs": [],
   "source": [
    "y = df[['w','sem']].groupby('w').count().reset_index()"
   ]
  },
  {
   "cell_type": "code",
   "execution_count": 31,
   "metadata": {},
   "outputs": [],
   "source": [
    "y.w-=1"
   ]
  },
  {
   "cell_type": "code",
   "execution_count": 32,
   "metadata": {},
   "outputs": [],
   "source": [
    "aux = aux.merge(y,left_on='ancla',right_on='w',how='left')"
   ]
  },
  {
   "cell_type": "code",
   "execution_count": 33,
   "metadata": {},
   "outputs": [],
   "source": [
    "aux.rename(columns={'sem':'y'},inplace=True)\n"
   ]
  },
  {
   "cell_type": "code",
   "execution_count": 34,
   "metadata": {},
   "outputs": [],
   "source": [
    "aux.drop('w',inplace=True,axis=1)"
   ]
  },
  {
   "cell_type": "code",
   "execution_count": 35,
   "metadata": {},
   "outputs": [
    {
     "data": {
      "text/html": [
       "<div>\n",
       "<style scoped>\n",
       "    .dataframe tbody tr th:only-of-type {\n",
       "        vertical-align: middle;\n",
       "    }\n",
       "\n",
       "    .dataframe tbody tr th {\n",
       "        vertical-align: top;\n",
       "    }\n",
       "\n",
       "    .dataframe thead th {\n",
       "        text-align: right;\n",
       "    }\n",
       "</style>\n",
       "<table border=\"1\" class=\"dataframe\">\n",
       "  <thead>\n",
       "    <tr style=\"text-align: right;\">\n",
       "      <th></th>\n",
       "      <th>v_media_5</th>\n",
       "      <th>v_tendencia_5</th>\n",
       "      <th>v_media_10</th>\n",
       "      <th>v_tendencia_10</th>\n",
       "      <th>v_media_15</th>\n",
       "      <th>v_tendencia_15</th>\n",
       "      <th>v_media_20</th>\n",
       "      <th>v_tendencia_20</th>\n",
       "      <th>v_media_25</th>\n",
       "      <th>v_tendencia_25</th>\n",
       "      <th>v_media_30</th>\n",
       "      <th>v_tendencia_30</th>\n",
       "      <th>ancla</th>\n",
       "      <th>y</th>\n",
       "    </tr>\n",
       "  </thead>\n",
       "  <tbody>\n",
       "    <tr>\n",
       "      <th>0</th>\n",
       "      <td>93.2</td>\n",
       "      <td>14.4</td>\n",
       "      <td>91.3</td>\n",
       "      <td>0.3</td>\n",
       "      <td>89.333333</td>\n",
       "      <td>7.733333</td>\n",
       "      <td>93.15</td>\n",
       "      <td>2.75</td>\n",
       "      <td>96.48</td>\n",
       "      <td>5.12</td>\n",
       "      <td>94.700000</td>\n",
       "      <td>3.433333</td>\n",
       "      <td>29</td>\n",
       "      <td>88</td>\n",
       "    </tr>\n",
       "    <tr>\n",
       "      <th>1</th>\n",
       "      <td>92.4</td>\n",
       "      <td>21.6</td>\n",
       "      <td>90.4</td>\n",
       "      <td>-1.2</td>\n",
       "      <td>88.933333</td>\n",
       "      <td>4.400000</td>\n",
       "      <td>92.65</td>\n",
       "      <td>-3.25</td>\n",
       "      <td>95.40</td>\n",
       "      <td>3.00</td>\n",
       "      <td>97.100000</td>\n",
       "      <td>-1.033333</td>\n",
       "      <td>30</td>\n",
       "      <td>100</td>\n",
       "    </tr>\n",
       "    <tr>\n",
       "      <th>2</th>\n",
       "      <td>90.0</td>\n",
       "      <td>20.8</td>\n",
       "      <td>89.8</td>\n",
       "      <td>0.6</td>\n",
       "      <td>90.400000</td>\n",
       "      <td>7.466667</td>\n",
       "      <td>92.00</td>\n",
       "      <td>2.60</td>\n",
       "      <td>94.92</td>\n",
       "      <td>5.48</td>\n",
       "      <td>97.066667</td>\n",
       "      <td>1.000000</td>\n",
       "      <td>31</td>\n",
       "      <td>100</td>\n",
       "    </tr>\n",
       "    <tr>\n",
       "      <th>3</th>\n",
       "      <td>93.6</td>\n",
       "      <td>15.6</td>\n",
       "      <td>91.8</td>\n",
       "      <td>1.4</td>\n",
       "      <td>91.400000</td>\n",
       "      <td>4.866667</td>\n",
       "      <td>93.20</td>\n",
       "      <td>-1.40</td>\n",
       "      <td>95.40</td>\n",
       "      <td>2.04</td>\n",
       "      <td>96.733333</td>\n",
       "      <td>-1.333333</td>\n",
       "      <td>32</td>\n",
       "      <td>130</td>\n",
       "    </tr>\n",
       "    <tr>\n",
       "      <th>4</th>\n",
       "      <td>102.6</td>\n",
       "      <td>27.4</td>\n",
       "      <td>96.5</td>\n",
       "      <td>3.3</td>\n",
       "      <td>94.800000</td>\n",
       "      <td>9.066667</td>\n",
       "      <td>93.80</td>\n",
       "      <td>2.00</td>\n",
       "      <td>95.56</td>\n",
       "      <td>8.20</td>\n",
       "      <td>97.700000</td>\n",
       "      <td>2.300000</td>\n",
       "      <td>33</td>\n",
       "      <td>99</td>\n",
       "    </tr>\n",
       "  </tbody>\n",
       "</table>\n",
       "</div>"
      ],
      "text/plain": [
       "   v_media_5  v_tendencia_5  v_media_10  v_tendencia_10  v_media_15  \\\n",
       "0       93.2           14.4        91.3             0.3   89.333333   \n",
       "1       92.4           21.6        90.4            -1.2   88.933333   \n",
       "2       90.0           20.8        89.8             0.6   90.400000   \n",
       "3       93.6           15.6        91.8             1.4   91.400000   \n",
       "4      102.6           27.4        96.5             3.3   94.800000   \n",
       "\n",
       "   v_tendencia_15  v_media_20  v_tendencia_20  v_media_25  v_tendencia_25  \\\n",
       "0        7.733333       93.15            2.75       96.48            5.12   \n",
       "1        4.400000       92.65           -3.25       95.40            3.00   \n",
       "2        7.466667       92.00            2.60       94.92            5.48   \n",
       "3        4.866667       93.20           -1.40       95.40            2.04   \n",
       "4        9.066667       93.80            2.00       95.56            8.20   \n",
       "\n",
       "   v_media_30  v_tendencia_30  ancla    y  \n",
       "0   94.700000        3.433333     29   88  \n",
       "1   97.100000       -1.033333     30  100  \n",
       "2   97.066667        1.000000     31  100  \n",
       "3   96.733333       -1.333333     32  130  \n",
       "4   97.700000        2.300000     33   99  "
      ]
     },
     "execution_count": 35,
     "metadata": {},
     "output_type": "execute_result"
    }
   ],
   "source": [
    "aux.head()"
   ]
  },
  {
   "cell_type": "code",
   "execution_count": 36,
   "metadata": {},
   "outputs": [],
   "source": [
    "varc = [v for v in aux.columns if v[:2]=='v_']"
   ]
  },
  {
   "cell_type": "code",
   "execution_count": 37,
   "metadata": {},
   "outputs": [],
   "source": [
    "from sklearn.linear_model import LinearRegression\n",
    "from sklearn.neighbors import KNeighborsRegressor\n",
    "from sklearn.metrics import mean_absolute_error\n",
    "from sklearn.metrics import mean_squared_error\n",
    "from sklearn.model_selection import train_test_split\n",
    "from sklearn.feature_selection import SelectKBest\n",
    "from sklearn.model_selection import GridSearchCV"
   ]
  },
  {
   "cell_type": "code",
   "execution_count": 38,
   "metadata": {},
   "outputs": [],
   "source": [
    "X = aux[varc]\n",
    "y = aux['y']"
   ]
  },
  {
   "cell_type": "code",
   "execution_count": 70,
   "metadata": {},
   "outputs": [],
   "source": [
    "sk = SelectKBest(k=5)"
   ]
  },
  {
   "cell_type": "code",
   "execution_count": 71,
   "metadata": {},
   "outputs": [
    {
     "data": {
      "text/plain": [
       "SelectKBest(k=5, score_func=<function f_classif at 0x7f2bb896fb70>)"
      ]
     },
     "execution_count": 71,
     "metadata": {},
     "output_type": "execute_result"
    }
   ],
   "source": [
    "sk.fit(X,y)"
   ]
  },
  {
   "cell_type": "code",
   "execution_count": 75,
   "metadata": {},
   "outputs": [],
   "source": [
    "best = [a for a,b in zip (varc,sk.get_support()) if b]"
   ]
  },
  {
   "cell_type": "code",
   "execution_count": 76,
   "metadata": {},
   "outputs": [],
   "source": [
    "X = X[best]"
   ]
  },
  {
   "cell_type": "code",
   "execution_count": 77,
   "metadata": {},
   "outputs": [],
   "source": [
    "Xt, Xv, yt, yv  = train_test_split(X,y,train_size=0.7)"
   ]
  },
  {
   "cell_type": "code",
   "execution_count": 78,
   "metadata": {},
   "outputs": [
    {
     "name": "stdout",
     "output_type": "stream",
     "text": [
      "14.102709785106336\n",
      "11.537474651679068\n"
     ]
    }
   ],
   "source": [
    "modelo = LinearRegression()\n",
    "modelo.fit(Xt,yt)\n",
    "print(mean_absolute_error(y_pred=modelo.predict(Xt),y_true=yt))\n",
    "print(mean_absolute_error(y_pred=modelo.predict(Xv),y_true=yv))"
   ]
  },
  {
   "cell_type": "code",
   "execution_count": 79,
   "metadata": {},
   "outputs": [
    {
     "name": "stdout",
     "output_type": "stream",
     "text": [
      "Fitting 4 folds for each of 504 candidates, totalling 2016 fits\n"
     ]
    },
    {
     "name": "stderr",
     "output_type": "stream",
     "text": [
      "[Parallel(n_jobs=-1)]: Using backend LokyBackend with 4 concurrent workers.\n",
      "[Parallel(n_jobs=-1)]: Done 196 tasks      | elapsed:    2.2s\n"
     ]
    },
    {
     "name": "stdout",
     "output_type": "stream",
     "text": [
      "KNeighborsRegressor(algorithm='auto', leaf_size=30, metric='minkowski',\n",
      "                    metric_params=None, n_jobs=None, n_neighbors=11, p=2,\n",
      "                    weights='uniform')\n",
      "13.723102585487904\n",
      "11.820116054158603\n",
      "{'algorithm': 'auto', 'n_neighbors': 11, 'p': 2}\n",
      "CPU times: user 1.51 s, sys: 63.9 ms, total: 1.58 s\n",
      "Wall time: 6.53 s\n"
     ]
    },
    {
     "name": "stderr",
     "output_type": "stream",
     "text": [
      "[Parallel(n_jobs=-1)]: Done 2016 out of 2016 | elapsed:    6.5s finished\n"
     ]
    }
   ],
   "source": [
    "%%time\n",
    "param_grid = dict(n_neighbors=range(2,20),\n",
    "                  algorithm=['auto', 'ball_tree', 'kd_tree', 'brute'],\n",
    "                  p =range(1,8))\n",
    "modelo = KNeighborsRegressor()\n",
    "grid = GridSearchCV(param_grid=param_grid,n_jobs=-1,\n",
    "                    cv=4,estimator=modelo,verbose=True)\n",
    "\n",
    "grid.fit(X,y)\n",
    "\n",
    "modelo = grid.best_estimator_\n",
    "print(modelo)\n",
    "\n",
    "modelo.fit(Xt,yt)\n",
    "print(mean_absolute_error(y_pred=modelo.predict(Xt),y_true=yt))\n",
    "print(mean_absolute_error(y_pred=modelo.predict(Xv),y_true=yv))\n",
    "\n",
    "print(grid.best_params_)"
   ]
  },
  {
   "cell_type": "code",
   "execution_count": 80,
   "metadata": {},
   "outputs": [],
   "source": [
    "aux['y^'] = modelo.predict(X)"
   ]
  },
  {
   "cell_type": "code",
   "execution_count": 81,
   "metadata": {},
   "outputs": [
    {
     "data": {
      "text/html": [
       "<div>\n",
       "<style scoped>\n",
       "    .dataframe tbody tr th:only-of-type {\n",
       "        vertical-align: middle;\n",
       "    }\n",
       "\n",
       "    .dataframe tbody tr th {\n",
       "        vertical-align: top;\n",
       "    }\n",
       "\n",
       "    .dataframe thead th {\n",
       "        text-align: right;\n",
       "    }\n",
       "</style>\n",
       "<table border=\"1\" class=\"dataframe\">\n",
       "  <thead>\n",
       "    <tr style=\"text-align: right;\">\n",
       "      <th></th>\n",
       "      <th>v_media_5</th>\n",
       "      <th>v_tendencia_5</th>\n",
       "      <th>v_media_10</th>\n",
       "      <th>v_tendencia_10</th>\n",
       "      <th>v_media_15</th>\n",
       "      <th>v_tendencia_15</th>\n",
       "      <th>v_media_20</th>\n",
       "      <th>v_tendencia_20</th>\n",
       "      <th>v_media_25</th>\n",
       "      <th>v_tendencia_25</th>\n",
       "      <th>v_media_30</th>\n",
       "      <th>v_tendencia_30</th>\n",
       "      <th>ancla</th>\n",
       "      <th>y</th>\n",
       "      <th>y^</th>\n",
       "    </tr>\n",
       "  </thead>\n",
       "  <tbody>\n",
       "    <tr>\n",
       "      <th>26</th>\n",
       "      <td>102.0</td>\n",
       "      <td>25.6</td>\n",
       "      <td>105.4</td>\n",
       "      <td>0.6</td>\n",
       "      <td>108.466667</td>\n",
       "      <td>8.866667</td>\n",
       "      <td>110.15</td>\n",
       "      <td>0.35</td>\n",
       "      <td>109.40</td>\n",
       "      <td>5.64</td>\n",
       "      <td>106.566667</td>\n",
       "      <td>1.100000</td>\n",
       "      <td>55</td>\n",
       "      <td>114</td>\n",
       "      <td>98.454545</td>\n",
       "    </tr>\n",
       "    <tr>\n",
       "      <th>47</th>\n",
       "      <td>109.2</td>\n",
       "      <td>31.6</td>\n",
       "      <td>105.3</td>\n",
       "      <td>8.3</td>\n",
       "      <td>104.066667</td>\n",
       "      <td>11.400000</td>\n",
       "      <td>103.30</td>\n",
       "      <td>4.30</td>\n",
       "      <td>104.04</td>\n",
       "      <td>6.44</td>\n",
       "      <td>104.333333</td>\n",
       "      <td>3.000000</td>\n",
       "      <td>76</td>\n",
       "      <td>104</td>\n",
       "      <td>107.181818</td>\n",
       "    </tr>\n",
       "    <tr>\n",
       "      <th>54</th>\n",
       "      <td>82.0</td>\n",
       "      <td>12.0</td>\n",
       "      <td>92.4</td>\n",
       "      <td>-5.2</td>\n",
       "      <td>97.466667</td>\n",
       "      <td>1.600000</td>\n",
       "      <td>97.70</td>\n",
       "      <td>-5.20</td>\n",
       "      <td>98.56</td>\n",
       "      <td>-0.08</td>\n",
       "      <td>99.466667</td>\n",
       "      <td>-3.533333</td>\n",
       "      <td>83</td>\n",
       "      <td>102</td>\n",
       "      <td>91.181818</td>\n",
       "    </tr>\n",
       "    <tr>\n",
       "      <th>150</th>\n",
       "      <td>131.8</td>\n",
       "      <td>30.6</td>\n",
       "      <td>130.7</td>\n",
       "      <td>4.9</td>\n",
       "      <td>129.933333</td>\n",
       "      <td>10.333333</td>\n",
       "      <td>129.10</td>\n",
       "      <td>2.80</td>\n",
       "      <td>127.28</td>\n",
       "      <td>10.64</td>\n",
       "      <td>132.033333</td>\n",
       "      <td>2.233333</td>\n",
       "      <td>179</td>\n",
       "      <td>119</td>\n",
       "      <td>118.272727</td>\n",
       "    </tr>\n",
       "    <tr>\n",
       "      <th>141</th>\n",
       "      <td>130.4</td>\n",
       "      <td>28.0</td>\n",
       "      <td>128.9</td>\n",
       "      <td>0.7</td>\n",
       "      <td>121.933333</td>\n",
       "      <td>5.666667</td>\n",
       "      <td>131.50</td>\n",
       "      <td>-2.10</td>\n",
       "      <td>131.32</td>\n",
       "      <td>4.52</td>\n",
       "      <td>126.266667</td>\n",
       "      <td>-0.933333</td>\n",
       "      <td>170</td>\n",
       "      <td>141</td>\n",
       "      <td>118.272727</td>\n",
       "    </tr>\n",
       "    <tr>\n",
       "      <th>51</th>\n",
       "      <td>91.8</td>\n",
       "      <td>21.4</td>\n",
       "      <td>99.3</td>\n",
       "      <td>4.5</td>\n",
       "      <td>100.466667</td>\n",
       "      <td>12.333333</td>\n",
       "      <td>100.15</td>\n",
       "      <td>3.15</td>\n",
       "      <td>100.92</td>\n",
       "      <td>7.64</td>\n",
       "      <td>101.100000</td>\n",
       "      <td>2.100000</td>\n",
       "      <td>80</td>\n",
       "      <td>83</td>\n",
       "      <td>90.000000</td>\n",
       "    </tr>\n",
       "    <tr>\n",
       "      <th>66</th>\n",
       "      <td>95.6</td>\n",
       "      <td>19.2</td>\n",
       "      <td>93.4</td>\n",
       "      <td>2.0</td>\n",
       "      <td>91.000000</td>\n",
       "      <td>5.133333</td>\n",
       "      <td>91.20</td>\n",
       "      <td>-1.50</td>\n",
       "      <td>94.32</td>\n",
       "      <td>1.28</td>\n",
       "      <td>95.733333</td>\n",
       "      <td>-3.600000</td>\n",
       "      <td>95</td>\n",
       "      <td>104</td>\n",
       "      <td>101.909091</td>\n",
       "    </tr>\n",
       "    <tr>\n",
       "      <th>122</th>\n",
       "      <td>129.4</td>\n",
       "      <td>20.2</td>\n",
       "      <td>118.0</td>\n",
       "      <td>0.8</td>\n",
       "      <td>112.066667</td>\n",
       "      <td>8.333333</td>\n",
       "      <td>109.50</td>\n",
       "      <td>1.20</td>\n",
       "      <td>108.24</td>\n",
       "      <td>5.36</td>\n",
       "      <td>105.333333</td>\n",
       "      <td>2.533333</td>\n",
       "      <td>151</td>\n",
       "      <td>155</td>\n",
       "      <td>124.727273</td>\n",
       "    </tr>\n",
       "    <tr>\n",
       "      <th>105</th>\n",
       "      <td>105.6</td>\n",
       "      <td>23.2</td>\n",
       "      <td>102.1</td>\n",
       "      <td>0.1</td>\n",
       "      <td>98.666667</td>\n",
       "      <td>3.866667</td>\n",
       "      <td>95.60</td>\n",
       "      <td>-1.90</td>\n",
       "      <td>94.00</td>\n",
       "      <td>3.12</td>\n",
       "      <td>89.300000</td>\n",
       "      <td>1.700000</td>\n",
       "      <td>134</td>\n",
       "      <td>104</td>\n",
       "      <td>102.090909</td>\n",
       "    </tr>\n",
       "    <tr>\n",
       "      <th>53</th>\n",
       "      <td>81.4</td>\n",
       "      <td>19.4</td>\n",
       "      <td>94.1</td>\n",
       "      <td>3.5</td>\n",
       "      <td>98.866667</td>\n",
       "      <td>10.466667</td>\n",
       "      <td>99.15</td>\n",
       "      <td>3.75</td>\n",
       "      <td>99.16</td>\n",
       "      <td>7.08</td>\n",
       "      <td>100.800000</td>\n",
       "      <td>2.200000</td>\n",
       "      <td>82</td>\n",
       "      <td>80</td>\n",
       "      <td>90.272727</td>\n",
       "    </tr>\n",
       "  </tbody>\n",
       "</table>\n",
       "</div>"
      ],
      "text/plain": [
       "     v_media_5  v_tendencia_5  v_media_10  v_tendencia_10  v_media_15  \\\n",
       "26       102.0           25.6       105.4             0.6  108.466667   \n",
       "47       109.2           31.6       105.3             8.3  104.066667   \n",
       "54        82.0           12.0        92.4            -5.2   97.466667   \n",
       "150      131.8           30.6       130.7             4.9  129.933333   \n",
       "141      130.4           28.0       128.9             0.7  121.933333   \n",
       "51        91.8           21.4        99.3             4.5  100.466667   \n",
       "66        95.6           19.2        93.4             2.0   91.000000   \n",
       "122      129.4           20.2       118.0             0.8  112.066667   \n",
       "105      105.6           23.2       102.1             0.1   98.666667   \n",
       "53        81.4           19.4        94.1             3.5   98.866667   \n",
       "\n",
       "     v_tendencia_15  v_media_20  v_tendencia_20  v_media_25  v_tendencia_25  \\\n",
       "26         8.866667      110.15            0.35      109.40            5.64   \n",
       "47        11.400000      103.30            4.30      104.04            6.44   \n",
       "54         1.600000       97.70           -5.20       98.56           -0.08   \n",
       "150       10.333333      129.10            2.80      127.28           10.64   \n",
       "141        5.666667      131.50           -2.10      131.32            4.52   \n",
       "51        12.333333      100.15            3.15      100.92            7.64   \n",
       "66         5.133333       91.20           -1.50       94.32            1.28   \n",
       "122        8.333333      109.50            1.20      108.24            5.36   \n",
       "105        3.866667       95.60           -1.90       94.00            3.12   \n",
       "53        10.466667       99.15            3.75       99.16            7.08   \n",
       "\n",
       "     v_media_30  v_tendencia_30  ancla    y          y^  \n",
       "26   106.566667        1.100000     55  114   98.454545  \n",
       "47   104.333333        3.000000     76  104  107.181818  \n",
       "54    99.466667       -3.533333     83  102   91.181818  \n",
       "150  132.033333        2.233333    179  119  118.272727  \n",
       "141  126.266667       -0.933333    170  141  118.272727  \n",
       "51   101.100000        2.100000     80   83   90.000000  \n",
       "66    95.733333       -3.600000     95  104  101.909091  \n",
       "122  105.333333        2.533333    151  155  124.727273  \n",
       "105   89.300000        1.700000    134  104  102.090909  \n",
       "53   100.800000        2.200000     82   80   90.272727  "
      ]
     },
     "execution_count": 81,
     "metadata": {},
     "output_type": "execute_result"
    }
   ],
   "source": [
    "aux.sample(n=10)"
   ]
  },
  {
   "cell_type": "code",
   "execution_count": 82,
   "metadata": {},
   "outputs": [
    {
     "data": {
      "text/plain": [
       "<matplotlib.axes._subplots.AxesSubplot at 0x7f2ba8ea0400>"
      ]
     },
     "execution_count": 82,
     "metadata": {},
     "output_type": "execute_result"
    },
    {
     "data": {
      "image/png": "[encoded data removed]",
      "text/plain": [
       "<Figure size 432x288 with 1 Axes>"
      ]
     },
     "metadata": {
      "needs_background": "light"
     },
     "output_type": "display_data"
    }
   ],
   "source": [
    "sns.distplot(aux['y'],kde_kws={'cumulative':True},hist=False)\n",
    "sns.distplot(aux['y^'],kde_kws={'cumulative':True},hist=False)"
   ]
  },
  {
   "cell_type": "code",
   "execution_count": 83,
   "metadata": {},
   "outputs": [],
   "source": [
    "import pickle"
   ]
  },
  {
   "cell_type": "code",
   "execution_count": 84,
   "metadata": {},
   "outputs": [],
   "source": [
    "pickle.dump(modelo,open('knn_modelo.pickle','wb'))"
   ]
  },
  {
   "cell_type": "code",
   "execution_count": null,
   "metadata": {},
   "outputs": [],
   "source": [
    "#modelo = pickle.load(open('knn_modelo.pickle','rb'))"
   ]
  },
  {
   "cell_type": "code",
   "execution_count": 85,
   "metadata": {},
   "outputs": [],
   "source": [
    "aux.to_excel('seguridad_semanas.xlsx',index=False)"
   ]
  },
  {
   "cell_type": "code",
   "execution_count": null,
   "metadata": {},
   "outputs": [],
   "source": []
  }
 ],
 "metadata": {
  "kernelspec": {
   "display_name": "ciencia_de_datos",
   "language": "python",
   "name": "ciencia_de_datos"
  },
  "language_info": {
   "codemirror_mode": {
    "name": "ipython",
    "version": 3
   },
   "file_extension": ".py",
   "mimetype": "text/x-python",
   "name": "python",
   "nbconvert_exporter": "python",
   "pygments_lexer": "ipython3",
   "version": "3.6.8"
  }
 },
 "nbformat": 4,
 "nbformat_minor": 2
}
